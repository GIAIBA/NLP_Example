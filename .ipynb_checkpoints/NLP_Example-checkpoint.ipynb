{
 "cells": [
  {
   "cell_type": "markdown",
   "metadata": {
    "id": "AsJN275nw4XG"
   },
   "source": [
    "# BiLSTM Model: Measuring Multi-Dimensional Hotel Quality "
   ]
  },
  {
   "cell_type": "markdown",
   "metadata": {
    "id": "RnxLg9Q_w4XO"
   },
   "source": [
    "This notebook walks through a deep learning model of hotel subcategroy ratings.\n",
    "\n",
    "While aggregate reviews ratings represent a good measure of the perceived quality of a hotel, it may be useful for customers, managers, and researchers to gain a better understanding of the specific dimensions of quality. Given the importance of these finer quality dimensions, popular hotel review sites like TripAdvisor provide reviewers the opportunity to rate these quality dimensions. For instance, the example below shows that while the room appears to be in disrepair, the reviewer seems fairly happy about the service. \n",
    "\n",
    "![TA_screenshot](https://yangwangresearch.s3-us-west-2.amazonaws.com/NLP_Images/TA_subratings.png)\n",
    "\n",
    "\n",
    "However, these additional subcategory fields are often ignored by reviewers. Nonetheless, the review text can often inform these unrated subcategories. Assuming review texts are generally informative, we can use the these texts to predict each reviewer's expected subcategory rating using deep learning methods. \n",
    "\n",
    "Since we have plenty of reviews with labeled subcategory ratings, we do not need to do any human labeling to construct a training dataset. Using the pre-labeled dataset, we will build a deep neural network model with embedding, bidirectional LSTM, attention, and dense layers. \n",
    "\n",
    "The full dataset contains over 170k locations, for demonstration purposes, we will randomly sample 200 hotels for this exercise. Using the full dataset will require some practical adjustments for the code. In particular, the code used in this notebook is designed to work in memory. Some adjustments need to be made to stream training data from disk in the case of production scale implementation. Additional hardware / cloud computing may also be required for scaling up. In particular, multi-GPU server setups and faster storage can significantly improve training speed.\n",
    "\n",
    "\n",
    "*****"
   ]
  },
  {
   "cell_type": "markdown",
   "metadata": {
    "id": "uSTKCSffw4XP"
   },
   "source": [
    "## Technical Specifications"
   ]
  },
  {
   "cell_type": "markdown",
   "metadata": {
    "id": "hKPFbVbJw4XP"
   },
   "source": [
    "**Machine specs** to generate results for this notebook.\n",
    "\n",
    "Lenovo P520 workstation\n",
    "1. 20C Xeon W processor\n",
    "1. NVIDIA RTX Quadro 6000 (24GB VRAM)\n",
    "1. 128 GB RAM\n",
    "\n",
    "**Core software stack** required to run this notebook\n",
    "1. Python 3.8.3 (Anaconda install, incl. pandas, numpy, etc.)\n",
    "1. Tensorflow 2.1\n",
    "1. NVIDIA Driver 450.119.03\n",
    "1. CUDA 10.1\n",
    "1. CuDNN 7.6.5\n",
    "\n",
    "**Additional required** software for preprocessing\n",
    "1. Spacy 3.0.5, GPU enabled (standard small English model)\n",
    "1. Gensim 4.0.1\n",
    "1. NLTK 3.5 (just for stopwords - should download them)\n",
    "\n",
    "**Optional software** for running code (slight adjustments needed if not used)\n",
    "1. progressbar 3.53.1\n",
    "1. pandarallel 1.5.2"
   ]
  },
  {
   "cell_type": "markdown",
   "metadata": {
    "id": "TsCx10jpw4XQ"
   },
   "source": [
    "# Import libraries"
   ]
  },
  {
   "cell_type": "code",
   "execution_count": 1,
   "metadata": {
    "colab": {
     "base_uri": "https://localhost:8080/"
    },
    "executionInfo": {
     "elapsed": 6907,
     "status": "ok",
     "timestamp": 1619584888302,
     "user": {
      "displayName": "Yang Wang",
      "photoUrl": "https://lh3.googleusercontent.com/a-/AOh14GjF63RmcywSGQbZiun0IBDrinntH5TB2GHGoVUrKsY=s64",
      "userId": "02587246997618178966"
     },
     "user_tz": 300
    },
    "id": "6uw5uMiWw4XQ",
    "outputId": "baba440b-c882-45f4-b094-479d873b5c47"
   },
   "outputs": [
    {
     "name": "stdout",
     "output_type": "stream",
     "text": [
      "WARNING:tensorflow:From <ipython-input-1-08706bc79faf>:19: is_gpu_available (from tensorflow.python.framework.test_util) is deprecated and will be removed in a future version.\n",
      "Instructions for updating:\n",
      "Use `tf.config.list_physical_devices('GPU')` instead.\n",
      "True\n",
      "INFO: Pandarallel will run on 5 workers.\n",
      "INFO: Pandarallel will use Memory file system to transfer data between the main process and workers.\n"
     ]
    },
    {
     "name": "stderr",
     "output_type": "stream",
     "text": [
      "/home/yang/anaconda3/envs/gpu/lib/python3.8/site-packages/gensim/similarities/__init__.py:15: UserWarning: The gensim.similarities.levenshtein submodule is disabled, because the optional Levenshtein package <https://pypi.org/project/python-Levenshtein/> is unavailable. Install Levenhstein (e.g. `pip install python-Levenshtein`) to suppress this warning.\n",
      "  warnings.warn(msg)\n"
     ]
    }
   ],
   "source": [
    "# standard imports (installed by default w/ anaconda)\n",
    "import pandas as pd, numpy as np, os,random, matplotlib.pyplot as plt,gc\n",
    "from itertools import chain\n",
    "from collections import Counter\n",
    "%matplotlib inline\n",
    "\n",
    "# Tensorflow for GPU-enabled deep learning \n",
    "import tensorflow as tf\n",
    "import tensorflow.keras\n",
    "from tensorflow.keras.preprocessing.text import Tokenizer\n",
    "from tensorflow.keras.preprocessing.sequence import pad_sequences\n",
    "from tensorflow.keras.layers import Concatenate, Dense, Input, LSTM, Embedding, Dropout, Activation, GRU, Flatten\n",
    "from tensorflow.keras.layers import Bidirectional, GlobalMaxPool1D\n",
    "from tensorflow.keras.models import Model, Sequential\n",
    "from tensorflow.keras.layers import Convolution1D\n",
    "from tensorflow.keras import initializers, regularizers, constraints, optimizers, layers\n",
    "from tensorflow.keras.callbacks import EarlyStopping\n",
    "\n",
    "print(tf.test.is_gpu_available()) # GPU enabled?\n",
    "\n",
    "\n",
    "### Needed only for processing raw data (not necessary, skip to Creating a prediciton model)\n",
    "import progressbar # don't need this if progress tracking on loops is not needed\n",
    "from pandarallel import pandarallel # don't need this if no parallel processing is desired on pandas dataframes\n",
    "# change .parallel_apply to .apply\n",
    "pandarallel.initialize(nb_workers=5)\n",
    "# Imports for NLP\n",
    "import spacy\n",
    "from nltk.corpus import stopwords\n",
    "sw = stopwords.words('english')\n",
    "from gensim.models.phrases import Phrases, ENGLISH_CONNECTOR_WORDS"
   ]
  },
  {
   "cell_type": "markdown",
   "metadata": {
    "id": "HErRx6SKw4XR"
   },
   "source": [
    "# Raw Files"
   ]
  },
  {
   "cell_type": "code",
   "execution_count": 2,
   "metadata": {
    "colab": {
     "base_uri": "https://localhost:8080/"
    },
    "executionInfo": {
     "elapsed": 230,
     "status": "ok",
     "timestamp": 1619584894219,
     "user": {
      "displayName": "Yang Wang",
      "photoUrl": "https://lh3.googleusercontent.com/a-/AOh14GjF63RmcywSGQbZiun0IBDrinntH5TB2GHGoVUrKsY=s64",
      "userId": "02587246997618178966"
     },
     "user_tz": 300
    },
    "id": "8nNSb15Tw4XS",
    "outputId": "4c9aecea-2e80-4288-9f64-16499ea6c379"
   },
   "outputs": [
    {
     "name": "stdout",
     "output_type": "stream",
     "text": [
      "Total Venues: 176095\n"
     ]
    }
   ],
   "source": [
    "# Figure out what data we have\n",
    "# This data was collected with coauthor Alex Chaudhry from 2017-2018 (see Wang & Chaudhry, 2018 JMR paper for data details), contains\n",
    "\n",
    "flist = list()\n",
    "for root,sub,files in os.walk('/mnt/data2/tripadvisor/New_Review_Data2/scrape_4'):\n",
    "    files = [f for f in files if '.txt' in f]\n",
    "    if len(files)>0:\n",
    "        flist.append(['/'.join([root,f]) for f in files])\n",
    "flist = list(chain(*flist))\n",
    "\n",
    "print('Total Venues: {}'.format(len(flist)))"
   ]
  },
  {
   "cell_type": "code",
   "execution_count": 3,
   "metadata": {
    "id": "rHudDEEBw4XS"
   },
   "outputs": [],
   "source": [
    "# ignore predominantly foreign language files\n",
    "flist = [f for f in flist if 'lang_detect' not in f] \n",
    "# Get a sample of files:\n",
    "random.seed(1)\n",
    "samplesize = 200 # number of hotels\n",
    "flist = random.sample(flist, samplesize) # Sample some files"
   ]
  },
  {
   "cell_type": "markdown",
   "metadata": {
    "id": "j7pKIUINw4XS"
   },
   "source": [
    "# Preprocess texts\n"
   ]
  },
  {
   "cell_type": "markdown",
   "metadata": {
    "id": "54ILMxMzw4XT"
   },
   "source": [
    "While not the focus of this notebook, this step can be crucial for the successful application of deep learning NLP models. Some basic elements of pre-processing include:\n",
    "\n",
    "1. Normalization: lemmatize, remove stop words (uninformative words like articles)\n",
    "1. Phrase modeling: combine words that appear together frequently into phrases. This step can greatly improve custom trained models but will be unnecessary if using pre-trained NLP models like BERT as a starting point. There's a tradeoff here between the value of massive training scale of pre-trained models versus context-specific domain knowledge that can be captured by context-specific phrases.\n",
    "1. Tokenizing: map remaining words and phrases to integer IDs, filter out infrequent words (probably misspellings or proper nouns) and frequent words (uninformative words). The filtering is less necessary with more sophisticated models and big data.\n",
    "\n",
    "Some additional steps we take in this section include removing non-English reviews, removing punctuation, and de-casing."
   ]
  },
  {
   "cell_type": "code",
   "execution_count": 4,
   "metadata": {
    "id": "_bbB88aww4XT",
    "outputId": "c1a957f9-60eb-45c9-ff4d-aa97824bc226"
   },
   "outputs": [
    {
     "name": "stderr",
     "output_type": "stream",
     "text": [
      "100% (200 of 200) |######################| Elapsed Time: 0:00:02 Time:  0:00:02\n"
     ]
    }
   ],
   "source": [
    "# Construct dataset form individual CSV's\n",
    "data = list()\n",
    "for f in progressbar.progressbar(flist):\n",
    "    df = pd.read_csv(f, encoding = 'utf-8', sep = '|', index_col = 0)\n",
    "    if 'review_subratings' in df.columns.values:\n",
    "        df.review_subratings = df.review_subratings.map(eval)\n",
    "        subratings = list(set(chain(*df.review_subratings.apply(lambda x: x.keys()))))\n",
    "        for r in subratings:\n",
    "            df['r_{}'.format(r.lower().replace(' ', '_').replace('/','').split('(')[0].replace('__','_'))] = df.review_subratings.apply(lambda x: x.get(r))\n",
    "        cols = ['r_{}'.format(r.lower().replace(' ', '_').replace('/','').split('(')[0].replace('__','_')) for r in subratings]\n",
    "        df = df[['gd', 'review_id', 'review_date','review_rating', 'review_text']+cols]\n",
    "        df = df[df.review_text.notnull()]\n",
    "        data.append(df)\n",
    "data = pd.concat(data).reset_index(drop = True)\n",
    "del df"
   ]
  },
  {
   "cell_type": "code",
   "execution_count": 5,
   "metadata": {
    "id": "Hx8GdSXLw4XT"
   },
   "outputs": [],
   "source": [
    "# Get rid of non-English reviews by detecting the proportion of English stop words in the review\n",
    "sws = set([w for w in sw if len(w)>2])\n",
    "nwrds = len(sws)\n",
    "data['stopwords'] = data.review_text.parallel_apply(lambda x: len([w for w in x.strip().split() if w in sws]))\n",
    "data['reviewlen'] = data.review_text.str.strip().str.split().map(len)\n",
    "data['stopword_pct'] = data.stopwords/data.reviewlen"
   ]
  },
  {
   "cell_type": "code",
   "execution_count": 6,
   "metadata": {
    "id": "2NLhbgBYw4XU",
    "outputId": "61089cff-a43b-4c36-c8cb-d5d8aae36c4e"
   },
   "outputs": [
    {
     "data": {
      "text/plain": [
       "<AxesSubplot:>"
      ]
     },
     "execution_count": 6,
     "metadata": {},
     "output_type": "execute_result"
    },
    {
     "data": {
      "image/png": "[encoded data removed]",
      "text/plain": [
       "<Figure size 432x288 with 1 Axes>"
      ]
     },
     "metadata": {
      "needs_background": "light"
     },
     "output_type": "display_data"
    }
   ],
   "source": [
    "# Second peak below .1, get rid of all those, likely non-english.\n",
    "# In my experience, .1 seems like the norm.\n",
    "data.stopword_pct.hist() "
   ]
  },
  {
   "cell_type": "code",
   "execution_count": 7,
   "metadata": {
    "id": "SCtOfPNAw4XU",
    "outputId": "516d5abd-56cf-4e03-e17c-6dfd537214be"
   },
   "outputs": [
    {
     "data": {
      "text/plain": [
       "41891    Ci tornerei in questo piccolo hotel. Personale...\n",
       "28395    Great stay! Nice modern\"ish room, lovely bayfr...\n",
       "2290     Lo positivo:La ubicación de los apartamentos e...\n",
       "32885    Estuvimos 5 días en familia y el complejo se e...\n",
       "21298    ...aber sehr liebevoll. Das dies kein \"Hotel\" ...\n",
       "21922    Servono tre lettere per descriverlo:wow!Vasca ...\n",
       "19674    Sehr nettes Restaurant mit einer guten Weinkar...\n",
       "4474     Villaggio nel complesso molto grande ed esteso...\n",
       "2321     Nous avons passé une très bonne semaine à la d...\n",
       "4703     Abbiamo soggiornato dal 14 al 21 agosto 2012. ...\n",
       "Name: review_text, dtype: object"
      ]
     },
     "execution_count": 7,
     "metadata": {},
     "output_type": "execute_result"
    }
   ],
   "source": [
    "# Just check to see that these appear to be mostly non-English\n",
    "data[data.stopword_pct<.1] .sample(10)['review_text']"
   ]
  },
  {
   "cell_type": "code",
   "execution_count": 8,
   "metadata": {
    "id": "COT4xS-Jw4XU"
   },
   "outputs": [],
   "source": [
    "data = data[data.stopword_pct>.1] # keep only English"
   ]
  },
  {
   "cell_type": "code",
   "execution_count": 9,
   "metadata": {
    "id": "UyJNyvpWw4XV",
    "outputId": "df454271-b91e-4588-bab1-df1c88335632"
   },
   "outputs": [
    {
     "data": {
      "text/plain": [
       "25158    I have stayed at a lot of hotels in Minn. and ...\n",
       "27099    We stayed at Fairmont Princess for 6 nights an...\n",
       "30005    Excellent hotel! the free shuttle is easy and ...\n",
       "1697     i have had alot of operations in the past few ...\n",
       "12854    We sprang for the club floor and were glad we ...\n",
       "5572     Stayed here but go self catering. Plenty of pl...\n",
       "18889    First, to see northern lights either stay in t...\n",
       "17391    Beautiful hotel, great food, waiters were nice...\n",
       "12074    Grand Hyatt Kauai really exceeded my expectati...\n",
       "33670    The rooms are beautiful and very clean, the pr...\n",
       "Name: review_text, dtype: object"
      ]
     },
     "execution_count": 9,
     "metadata": {},
     "output_type": "execute_result"
    }
   ],
   "source": [
    "data.review_text.sample(10) # English!"
   ]
  },
  {
   "cell_type": "markdown",
   "metadata": {
    "id": "b0wosT_iw4XV"
   },
   "source": [
    "## Lemmatization\n",
    "\n",
    "We use Spacy to do lemmatization. Spacy preloads state of the art deep-learning English parsing models. These can be run using GPU. Alternative methods such as rule-based stemming can be executed much faster, see NLTK stemming methods."
   ]
  },
  {
   "cell_type": "code",
   "execution_count": 10,
   "metadata": {
    "id": "DFnb6rG3w4XW"
   },
   "outputs": [],
   "source": [
    "spacy.require_gpu() # use GPU for faster computation\n",
    "nlp = spacy.load('en_core_web_sm') # using full transformer based models (better accuracy)"
   ]
  },
  {
   "cell_type": "code",
   "execution_count": 11,
   "metadata": {
    "id": "dfZIjvNjw4XW"
   },
   "outputs": [],
   "source": [
    "texts = list(data.review_text)"
   ]
  },
  {
   "cell_type": "code",
   "execution_count": 12,
   "metadata": {
    "id": "Bo0K9zIJw4XW",
    "outputId": "18f01865-7f36-424d-953c-039207df3f19"
   },
   "outputs": [
    {
     "data": {
      "text/plain": [
       "81417"
      ]
     },
     "execution_count": 12,
     "metadata": {},
     "output_type": "execute_result"
    }
   ],
   "source": [
    "# Lemmatize - this may take a while (couple of minutes)\n",
    "# A faster, but less accurate alternative is to use stemming methods (see NLTK lemmatizers)\n",
    "lemma = [[[w.lemma_.strip().lower() for w in s if not w.is_punct] for s in nlp(t).sents] for t in texts]\n",
    "del nlp\n",
    "gc.collect() # make sure nlp cleared from memory, may be unnecessary"
   ]
  },
  {
   "cell_type": "markdown",
   "metadata": {
    "id": "6uKHKt4fw4XX"
   },
   "source": [
    "## Phrase modeling \n",
    "\n",
    "We use Gensim to do co-location phrase modeling. In essence, any 2 words that appear next to each other more than K times than would be expected at random given empirical frequencies of words will be tagged as a phrase. Usually, we use K=10. Note that we run phrase modeling twice, the first pass detects phrases of 2 words, the second pass can detect phrases consisting of up to 4 words."
   ]
  },
  {
   "cell_type": "code",
   "execution_count": 13,
   "metadata": {
    "id": "buJr8IOMw4XX"
   },
   "outputs": [],
   "source": [
    "# Lemmatized sentences\n",
    "sentences = list(chain(*lemma))"
   ]
  },
  {
   "cell_type": "code",
   "execution_count": 14,
   "metadata": {
    "id": "sEAntTXOw4XX"
   },
   "outputs": [],
   "source": [
    "# Model phrases using colocation frequency >10x random\n",
    "phrase_model = Phrases(sentences, min_count=5, threshold=10, connector_words=ENGLISH_CONNECTOR_WORDS)\n",
    "sentences2 = phrase_model[sentences]"
   ]
  },
  {
   "cell_type": "code",
   "execution_count": 15,
   "metadata": {
    "id": "cU_e6YaGw4XX"
   },
   "outputs": [],
   "source": [
    "# run again for longer sequences\n",
    "phrase_model2 = Phrases(sentences2, min_count=5, threshold=10, connector_words=ENGLISH_CONNECTOR_WORDS)\n",
    "sentences3 = phrase_model2[sentences2]"
   ]
  },
  {
   "cell_type": "code",
   "execution_count": 16,
   "metadata": {
    "id": "deB9Xb7Vw4XX",
    "outputId": "c163ced9-8d62-4990-e178-a458745c5b78"
   },
   "outputs": [
    {
     "data": {
      "text/plain": [
       "['the', 'library', 'have', 'these', 'great', 'back', 'pack', 'for', 'kid']"
      ]
     },
     "execution_count": 16,
     "metadata": {},
     "output_type": "execute_result"
    }
   ],
   "source": [
    "sentences3[55] # look at a review w/ phrases"
   ]
  },
  {
   "cell_type": "code",
   "execution_count": 17,
   "metadata": {
    "id": "rA7ebk_ww4XY"
   },
   "outputs": [],
   "source": [
    "# get parsed documents - previously we had sentences\n",
    "parsed = [list(phrase_model2[phrase_model[l]]) for l in lemma] "
   ]
  },
  {
   "cell_type": "code",
   "execution_count": 18,
   "metadata": {
    "id": "SReCirwIw4XY"
   },
   "outputs": [],
   "source": [
    "# remove stopwords\n",
    "parsed = [[[w for w in s if w not in sw] for s in p] for p in parsed] "
   ]
  },
  {
   "cell_type": "code",
   "execution_count": 19,
   "metadata": {
    "id": "w4r_38pVw4XY"
   },
   "outputs": [],
   "source": [
    "# Create new column for processed reviews in dataframe\n",
    "data['processed_reviews'] = [' '.join(list(chain(*p))) for p in parsed] # Get text as single str"
   ]
  },
  {
   "cell_type": "code",
   "execution_count": 20,
   "metadata": {
    "id": "OYB_6OtVw4XY",
    "outputId": "81b5d8f0-a360-49cb-ddea-af091f34cf38"
   },
   "outputs": [
    {
     "data": {
      "text/plain": [
       "'immaculate neighbor rarely hear beautiful location lot tree foliage unit recently remodel beautiful washer_and_dryer also include unit post picture take later'"
      ]
     },
     "execution_count": 20,
     "metadata": {},
     "output_type": "execute_result"
    }
   ],
   "source": [
    "# processed text looks like this\n",
    "data.processed_reviews[0] "
   ]
  },
  {
   "cell_type": "code",
   "execution_count": 21,
   "metadata": {
    "id": "FvrHjurYw4XY"
   },
   "outputs": [],
   "source": [
    "# Max text length this is the distribution of review length (based on processed text)\n",
    "# We can use this to inform us of the input length into the deep learning model\n",
    "data['processed_len'] = data.processed_reviews.str.split().map(len)"
   ]
  },
  {
   "cell_type": "code",
   "execution_count": 22,
   "metadata": {
    "id": "ZcqXAPiBw4XZ",
    "outputId": "f5dce736-08cf-4dbc-fd06-84cbdf2a5456"
   },
   "outputs": [
    {
     "data": {
      "text/plain": [
       "<AxesSubplot:>"
      ]
     },
     "execution_count": 22,
     "metadata": {},
     "output_type": "execute_result"
    },
    {
     "data": {
      "image/png": "[encoded data removed]",
      "text/plain": [
       "<Figure size 432x288 with 1 Axes>"
      ]
     },
     "metadata": {
      "needs_background": "light"
     },
     "output_type": "display_data"
    }
   ],
   "source": [
    "data.processed_len.hist()"
   ]
  },
  {
   "cell_type": "markdown",
   "metadata": {
    "id": "zH1AK6uPw4XZ"
   },
   "source": [
    "## Standardize vocab (remove extremes)"
   ]
  },
  {
   "cell_type": "code",
   "execution_count": 23,
   "metadata": {
    "id": "EAT0uEWdw4XZ"
   },
   "outputs": [],
   "source": [
    "# Get vocab \n",
    "vocab = Counter(chain(*data.processed_reviews.str.strip().str.lower().str.split()))\n",
    "V = pd.DataFrame(vocab.items(), columns = ['w', 'ct'])\n",
    "V['logct'] = np.log(V.ct)"
   ]
  },
  {
   "cell_type": "code",
   "execution_count": 24,
   "metadata": {
    "id": "lcEz-jtFw4Xa",
    "outputId": "dc054ff1-bb95-405d-a882-6a118eef83e8"
   },
   "outputs": [
    {
     "data": {
      "text/plain": [
       "<AxesSubplot:>"
      ]
     },
     "execution_count": 24,
     "metadata": {},
     "output_type": "execute_result"
    },
    {
     "data": {
      "image/png": "[encoded data removed]",
      "text/plain": [
       "<Figure size 432x288 with 1 Axes>"
      ]
     },
     "metadata": {
      "needs_background": "light"
     },
     "output_type": "display_data"
    }
   ],
   "source": [
    "# log count distribution of each token\n",
    "# We can cut off words that appear too frequently\n",
    "V.logct.hist()"
   ]
  },
  {
   "cell_type": "code",
   "execution_count": 25,
   "metadata": {
    "id": "lRWew9O8w4Xd",
    "outputId": "41124c25-f643-4561-96ad-df8a25c4378b"
   },
   "outputs": [
    {
     "data": {
      "text/plain": [
       "58021"
      ]
     },
     "execution_count": 25,
     "metadata": {},
     "output_type": "execute_result"
    }
   ],
   "source": [
    "# Filter out words\n",
    "remove = set(V.loc[(V.ct<20)|(V.logct>10), 'w'])\n",
    "len(remove)"
   ]
  },
  {
   "cell_type": "code",
   "execution_count": 26,
   "metadata": {
    "id": "DDAzszIJw4Xe"
   },
   "outputs": [],
   "source": [
    "data['processed_review_filter'] = data.processed_reviews.parallel_apply(lambda x: ' ' .join([w for w in x.strip().lower().split() if w not in remove]))"
   ]
  },
  {
   "cell_type": "markdown",
   "metadata": {
    "id": "380186vbw4Xf"
   },
   "source": [
    "# Construct and Visualize a BiLSTM model for mapping text to ratings"
   ]
  },
  {
   "cell_type": "markdown",
   "metadata": {
    "id": "P-DaLupGw4Xf"
   },
   "source": [
    "## Read in processed data"
   ]
  },
  {
   "cell_type": "code",
   "execution_count": 1,
   "metadata": {
    "colab": {
     "base_uri": "https://localhost:8080/"
    },
    "executionInfo": {
     "elapsed": 2279,
     "status": "ok",
     "timestamp": 1619584910747,
     "user": {
      "displayName": "Yang Wang",
      "photoUrl": "https://lh3.googleusercontent.com/a-/AOh14GjF63RmcywSGQbZiun0IBDrinntH5TB2GHGoVUrKsY=s64",
      "userId": "02587246997618178966"
     },
     "user_tz": 300
    },
    "id": "gJ1_wI6-w4Xf",
    "outputId": "bd37a96e-2f7e-4b00-9fee-bfa01980facb"
   },
   "outputs": [
    {
     "data": {
      "text/plain": [
       "array(['gd', 'review_id', 'review_date', 'review_rating', 'review_text',\n",
       "       'r_cleanliness', 'r_rooms', 'r_value', 'r_service',\n",
       "       'r_sleep_quality', 'r_check_in_front_desk', 'r_business_service_',\n",
       "       'r_location', 'stopwords', 'reviewlen', 'stopword_pct',\n",
       "       'processed_reviews', 'processed_len', 'processed_review_filter'],\n",
       "      dtype=object)"
      ]
     },
     "execution_count": 1,
     "metadata": {},
     "output_type": "execute_result"
    }
   ],
   "source": [
    "# Save/Load preprocessed reviews\n",
    "if 1==0: # if running pre processing, set 1==1\n",
    "    data.to_csv('tripadvisor.csv', encoding = 'utf-8')\n",
    "if 1==1: # if using processed texts, set 1==1\n",
    "    data = pd.read_csv('tripadvisor.csv', encoding = 'utf-8', index_col = 0)\n",
    "    data = data[data.processed_review_filter.notnull()]\n",
    "data.columns.values"
   ]
  },
  {
   "cell_type": "code",
   "execution_count": 28,
   "metadata": {
    "id": "S7E8bgUiw4Xg",
    "outputId": "d24b6359-7a23-40ea-c934-a067ddb9a426"
   },
   "outputs": [
    {
     "data": {
      "text/plain": [
       "8727"
      ]
     },
     "execution_count": 28,
     "metadata": {},
     "output_type": "execute_result"
    }
   ],
   "source": [
    "# Length of vocabulary\n",
    "data['processed_review_filter'] = data['processed_review_filter']\n",
    "vocab = set(chain(*data.processed_review_filter.str.split()))\n",
    "len(vocab) # Vocab size"
   ]
  },
  {
   "cell_type": "code",
   "execution_count": 2,
   "metadata": {},
   "outputs": [
    {
     "data": {
      "text/html": [
       "<div>\n",
       "<style scoped>\n",
       "    .dataframe tbody tr th:only-of-type {\n",
       "        vertical-align: middle;\n",
       "    }\n",
       "\n",
       "    .dataframe tbody tr th {\n",
       "        vertical-align: top;\n",
       "    }\n",
       "\n",
       "    .dataframe thead th {\n",
       "        text-align: right;\n",
       "    }\n",
       "</style>\n",
       "<table border=\"1\" class=\"dataframe\">\n",
       "  <thead>\n",
       "    <tr style=\"text-align: right;\">\n",
       "      <th></th>\n",
       "      <th>gd</th>\n",
       "      <th>review_id</th>\n",
       "      <th>review_date</th>\n",
       "      <th>review_rating</th>\n",
       "      <th>review_text</th>\n",
       "      <th>r_cleanliness</th>\n",
       "      <th>r_rooms</th>\n",
       "      <th>r_value</th>\n",
       "      <th>r_service</th>\n",
       "      <th>r_sleep_quality</th>\n",
       "      <th>r_check_in_front_desk</th>\n",
       "      <th>r_business_service_</th>\n",
       "      <th>r_location</th>\n",
       "      <th>stopwords</th>\n",
       "      <th>reviewlen</th>\n",
       "      <th>stopword_pct</th>\n",
       "      <th>processed_reviews</th>\n",
       "      <th>processed_len</th>\n",
       "      <th>processed_review_filter</th>\n",
       "    </tr>\n",
       "  </thead>\n",
       "  <tbody>\n",
       "    <tr>\n",
       "      <th>0</th>\n",
       "      <td>g31587-d242287</td>\n",
       "      <td>556361970</td>\n",
       "      <td>2018-01-25</td>\n",
       "      <td>5.0</td>\n",
       "      <td>Immaculate, we had some neighbors, but rarely ...</td>\n",
       "      <td>NaN</td>\n",
       "      <td>5.0</td>\n",
       "      <td>NaN</td>\n",
       "      <td>5.0</td>\n",
       "      <td>NaN</td>\n",
       "      <td>NaN</td>\n",
       "      <td>NaN</td>\n",
       "      <td>5.0</td>\n",
       "      <td>12</td>\n",
       "      <td>45</td>\n",
       "      <td>0.266667</td>\n",
       "      <td>immaculate neighbor rarely hear beautiful loca...</td>\n",
       "      <td>21</td>\n",
       "      <td>immaculate neighbor rarely hear beautiful lot ...</td>\n",
       "    </tr>\n",
       "    <tr>\n",
       "      <th>1</th>\n",
       "      <td>g31587-d242287</td>\n",
       "      <td>553666229</td>\n",
       "      <td>2018-01-13</td>\n",
       "      <td>5.0</td>\n",
       "      <td>From the time we checked in on Dec 30 @845pm. ...</td>\n",
       "      <td>NaN</td>\n",
       "      <td>NaN</td>\n",
       "      <td>NaN</td>\n",
       "      <td>NaN</td>\n",
       "      <td>NaN</td>\n",
       "      <td>NaN</td>\n",
       "      <td>NaN</td>\n",
       "      <td>NaN</td>\n",
       "      <td>67</td>\n",
       "      <td>299</td>\n",
       "      <td>0.224080</td>\n",
       "      <td>time check dec 30 @845pm staff friendly_and_he...</td>\n",
       "      <td>145</td>\n",
       "      <td>check dec 30 friendly_and_helpful feel right c...</td>\n",
       "    </tr>\n",
       "    <tr>\n",
       "      <th>2</th>\n",
       "      <td>g31587-d242287</td>\n",
       "      <td>550530443</td>\n",
       "      <td>2017-12-31</td>\n",
       "      <td>5.0</td>\n",
       "      <td>We stayed in the Fairways condos. Very clean a...</td>\n",
       "      <td>5.0</td>\n",
       "      <td>NaN</td>\n",
       "      <td>5.0</td>\n",
       "      <td>4.0</td>\n",
       "      <td>NaN</td>\n",
       "      <td>NaN</td>\n",
       "      <td>NaN</td>\n",
       "      <td>NaN</td>\n",
       "      <td>13</td>\n",
       "      <td>69</td>\n",
       "      <td>0.188406</td>\n",
       "      <td>stay fairways condo clean comfortable 2_bdrm g...</td>\n",
       "      <td>32</td>\n",
       "      <td>condo comfortable 11 15 yr_old 3_night hike ma...</td>\n",
       "    </tr>\n",
       "    <tr>\n",
       "      <th>3</th>\n",
       "      <td>g31587-d242287</td>\n",
       "      <td>544078845</td>\n",
       "      <td>2017-11-29</td>\n",
       "      <td>5.0</td>\n",
       "      <td>We rented a 2BR condo this through RCI for Tha...</td>\n",
       "      <td>NaN</td>\n",
       "      <td>5.0</td>\n",
       "      <td>NaN</td>\n",
       "      <td>5.0</td>\n",
       "      <td>5.0</td>\n",
       "      <td>NaN</td>\n",
       "      <td>NaN</td>\n",
       "      <td>NaN</td>\n",
       "      <td>144</td>\n",
       "      <td>611</td>\n",
       "      <td>0.235679</td>\n",
       "      <td>rent 2br condo through_rci thanksgiving week g...</td>\n",
       "      <td>281</td>\n",
       "      <td>rent condo thanksgiving week kid 13 11 6 first...</td>\n",
       "    </tr>\n",
       "    <tr>\n",
       "      <th>4</th>\n",
       "      <td>g31587-d242287</td>\n",
       "      <td>542414023</td>\n",
       "      <td>2017-11-21</td>\n",
       "      <td>5.0</td>\n",
       "      <td>From the time you walk through the door at the...</td>\n",
       "      <td>5.0</td>\n",
       "      <td>NaN</td>\n",
       "      <td>NaN</td>\n",
       "      <td>5.0</td>\n",
       "      <td>5.0</td>\n",
       "      <td>NaN</td>\n",
       "      <td>NaN</td>\n",
       "      <td>NaN</td>\n",
       "      <td>24</td>\n",
       "      <td>87</td>\n",
       "      <td>0.275862</td>\n",
       "      <td>time walk_through door registration office fee...</td>\n",
       "      <td>35</td>\n",
       "      <td>walk_through door registration office feeling ...</td>\n",
       "    </tr>\n",
       "  </tbody>\n",
       "</table>\n",
       "</div>"
      ],
      "text/plain": [
       "               gd  review_id review_date  review_rating  \\\n",
       "0  g31587-d242287  556361970  2018-01-25            5.0   \n",
       "1  g31587-d242287  553666229  2018-01-13            5.0   \n",
       "2  g31587-d242287  550530443  2017-12-31            5.0   \n",
       "3  g31587-d242287  544078845  2017-11-29            5.0   \n",
       "4  g31587-d242287  542414023  2017-11-21            5.0   \n",
       "\n",
       "                                         review_text  r_cleanliness  r_rooms  \\\n",
       "0  Immaculate, we had some neighbors, but rarely ...            NaN      5.0   \n",
       "1  From the time we checked in on Dec 30 @845pm. ...            NaN      NaN   \n",
       "2  We stayed in the Fairways condos. Very clean a...            5.0      NaN   \n",
       "3  We rented a 2BR condo this through RCI for Tha...            NaN      5.0   \n",
       "4  From the time you walk through the door at the...            5.0      NaN   \n",
       "\n",
       "   r_value  r_service  r_sleep_quality  r_check_in_front_desk  \\\n",
       "0      NaN        5.0              NaN                    NaN   \n",
       "1      NaN        NaN              NaN                    NaN   \n",
       "2      5.0        4.0              NaN                    NaN   \n",
       "3      NaN        5.0              5.0                    NaN   \n",
       "4      NaN        5.0              5.0                    NaN   \n",
       "\n",
       "   r_business_service_  r_location  stopwords  reviewlen  stopword_pct  \\\n",
       "0                  NaN         5.0         12         45      0.266667   \n",
       "1                  NaN         NaN         67        299      0.224080   \n",
       "2                  NaN         NaN         13         69      0.188406   \n",
       "3                  NaN         NaN        144        611      0.235679   \n",
       "4                  NaN         NaN         24         87      0.275862   \n",
       "\n",
       "                                   processed_reviews  processed_len  \\\n",
       "0  immaculate neighbor rarely hear beautiful loca...             21   \n",
       "1  time check dec 30 @845pm staff friendly_and_he...            145   \n",
       "2  stay fairways condo clean comfortable 2_bdrm g...             32   \n",
       "3  rent 2br condo through_rci thanksgiving week g...            281   \n",
       "4  time walk_through door registration office fee...             35   \n",
       "\n",
       "                             processed_review_filter  \n",
       "0  immaculate neighbor rarely hear beautiful lot ...  \n",
       "1  check dec 30 friendly_and_helpful feel right c...  \n",
       "2  condo comfortable 11 15 yr_old 3_night hike ma...  \n",
       "3  rent condo thanksgiving week kid 13 11 6 first...  \n",
       "4  walk_through door registration office feeling ...  "
      ]
     },
     "execution_count": 2,
     "metadata": {},
     "output_type": "execute_result"
    }
   ],
   "source": [
    "# this is what the data looks like:\n",
    "data.head()"
   ]
  },
  {
   "cell_type": "markdown",
   "metadata": {
    "id": "HTWIC0Uww4Xg"
   },
   "source": [
    "## Define model architecture"
   ]
  },
  {
   "cell_type": "markdown",
   "metadata": {
    "id": "l3jcapbMw4Xg"
   },
   "source": [
    "Our model will consist of the following **core concepts** from deep learning.\n",
    "\n",
    "1. [Embedding](https://en.wikipedia.org/wiki/Word_embedding)\n",
    "1. [RNN](https://en.wikipedia.org/wiki/Recurrent_neural_network) / [LSTM](https://colah.github.io/posts/2015-08-Understanding-LSTMs/)\n",
    "1. [Attention](https://en.wikipedia.org/wiki/Attention_(machine_learning))\n",
    "1. [Dense network with nonlinearities](https://medium.com/datathings/dense-layers-explained-in-a-simple-way-62fe1db0ed75)\n",
    "1. [Dropout](https://en.wikipedia.org/wiki/Dilution_(neural_networks))\n",
    "1. [Loss function](https://en.wikipedia.org/wiki/Loss_function)"
   ]
  },
  {
   "cell_type": "markdown",
   "metadata": {
    "id": "yEoDyx3Ew4Xg"
   },
   "source": [
    "### Embedding\n",
    "\n"
   ]
  },
  {
   "cell_type": "markdown",
   "metadata": {
    "id": "tL7R4h6-w4Xg"
   },
   "source": [
    "Embedding is a powerful concept in ML, particularly for NLP. The basic idea is to take a high dimensional variable and represent them in a lower dimensional space. In NLP, we think of the high dimensional variable as the words contianed in a vocabulary. A typical way to convert text to numerical data is to one-hot-encode (aka dummy code) the text. However, it may become computationally infeasible and also inefficient from a learning perspective to represent each word as an independent and unique factor. Therefore, rather than representing each of 10k words in a vocabulary, for example, as a 10k-dimensional vector with 9999 0's and a single 1, we can represent each word as being a vector in a lower dimensional space. For instance, from our model's embedding representation, each word will occupy a 128-D space. Here's an example of a few words and the first 5 dimensions:\n",
    "\n",
    "![Embedding example](https://yangwangresearch.s3-us-west-2.amazonaws.com/NLP_Images/embedding_matrix.png)\n",
    "\n",
    "By embedding a one-hot-encoded space into a lower dimensional space, we are implicitly specifying that some words are close together than others in \"meaning.\" From an NLP perspective, this is very natural. The words \"hotel\" and \"motel,\" for example, are much more similar to each other than \"hotel\" and \"restaurant.\" Thinking beyond NLP, one can imagine the application to representing individual customer IDs as being embedded in a lower dimensional space - some customers are more alike than others (heterogeneity! targeting!)."
   ]
  },
  {
   "cell_type": "markdown",
   "metadata": {
    "id": "L0e32DTvw4Xi"
   },
   "source": [
    "There is an important decision when using embedding in a neural network. Should we **train our own embedding** or **use pre-trained embeddings**? Pre-trained embeddings can reduce training time and allow you to leverage massive secondary datasets (wiki/common crawl). However, these embeddings are trained on general rather than context-specific documents and do not allow you to pre-process the text with domain-specific knowledge in mind. We can also train our own embeddings, but even this can be generally done in 2 ways. First, we can train an embedding using an unsupervised method, like [word2vec](https://en.wikipedia.org/wiki/Word2vec). Such an embedding model depends only on the sequence of words and the structure of sentences within documents, and not outcome labels. If we do not have much labeled data, we can use a full text corpous to conduct this type of embedding training and use the results as inputs to a prediction model applied on the smaller labeled dataset. Alternatively, with a sufficient number of labeled observations, we can train our own embedding layer as part of a larger end-to-end deep learning model that has an objective of accurately predicting an outcome, i.e. training a purpose built embedding layer. In our case, we will demonstrate how to incorporate this last type of embedding.\n",
    "\n",
    "\n",
    "Since our embedding layer is designed to embed vocabulary into a lower dimensional space *that best predicts subcategory ratings*, **we will have very different embeddings depending on the dependent variable used to train** the model:\n",
    "\n",
    "**Service quality word embeddings** \n",
    "\n",
    "Most \"similar\" words for \"helpful\"\n",
    "![service embedding: helpful](https://yangwangresearch.s3-us-west-2.amazonaws.com/NLP_Images/service_embed_helpful.png)\n",
    "\n",
    "Most \"similar\" words for \"rude\"\n",
    "![service embedding: rude](https://yangwangresearch.s3-us-west-2.amazonaws.com/NLP_Images/service_embed_rude.png)\n",
    "\n",
    "**Room quality word embeddings**\n",
    "Clearly, helpful and rude don't reference rooms, but they are correlated with certain room characteristics. Thus, the **embeddings here are less intuitive**.\n",
    "\n",
    "Most \"similar\" words for \"helpful\"\n",
    "![service embedding: helpful](https://yangwangresearch.s3-us-west-2.amazonaws.com/NLP_Images/room_embed_helpful.png)\n",
    "\n",
    "Most \"similar\" words for \"rude\"\n",
    "![service embedding: rude](https://yangwangresearch.s3-us-west-2.amazonaws.com/NLP_Images/room_embed_rude.png)\n",
    "\n",
    "**However**, if we use room-relevant words, the embeddings make some more sense.\n",
    "\n",
    "Most \"similar\" words for \"dirty\"\n",
    "![service embedding: rude](https://yangwangresearch.s3-us-west-2.amazonaws.com/NLP_Images/room_embed_dirty.png)\n",
    "\n",
    "Most \"similar\" words for \"view\"\n",
    "![service embedding: rude](https://yangwangresearch.s3-us-west-2.amazonaws.com/NLP_Images/room_embed_view.png)\n",
    "\n"
   ]
  },
  {
   "cell_type": "markdown",
   "metadata": {
    "id": "RfiiEh8Bw4Xi"
   },
   "source": [
    "### RNN/LSTM"
   ]
  },
  {
   "cell_type": "markdown",
   "metadata": {
    "id": "lVtJo9gPw4Xi"
   },
   "source": [
    "LSTM (long short-term memory) is a specific (and popular) type of RNN (recurrent neural network). The idea of both is to take temporal sequences into account in predictive models. In the context of NLP, the sequence of words matter above and beyond their inclusion in a document (think [bag of words](https://en.wikipedia.org/wiki/Bag-of-words_model) representation). For example, *\"this old hotel's front desk employees are excellent\"* is very different compared to \"hotel's old front desk employees are excellent.\" Thus the relative locations of words in a text is absolutely critical to the correct understanding of the text."
   ]
  },
  {
   "cell_type": "markdown",
   "metadata": {
    "id": "TNvcqFdxw4Xi"
   },
   "source": [
    "RNN generally model temporal dependencies by allowing past observations to pass information into subsequent observations. In the illustration below, each observation $x_t$ feeds into an RNN cell in which some operation $V$ is computed and passes some information $h_t$ into the next observation in a temporal sequence while outputting $O_t$ for the current time step.\n",
    "\n",
    "![RNN from wiki](https://upload.wikimedia.org/wikipedia/commons/thumb/b/b5/Recurrent_neural_network_unfold.svg/2880px-Recurrent_neural_network_unfold.svg.png)\n",
    "\n",
    "LSTM ([Hochreiter and Schmidhuber, 1997](http://www.bioinf.jku.at/publications/older/2604.pdf)) is a specific variant of RNN that has a more complex cell structure incorporating input, output, and forgetting gates. The design of LSTM is to allow for the network structure to learn from not only the most recent information (RNN's structure biases towards \"recent\" cells), but also context from earlier observations. This is especially important for NLP problems where information from an earlier part of the document provides the context for the machine to understand the meaning of a focal word. The figure below illustrates these the inner workings of an LSTM cell. The core idea of the LSTM modification of a vanilla RNN is visualized in the top horizontal line that goes through the cell and connects to the subsequent cell (the output of this is frequently denoted as $C_t$). This route of passing information is designed to have minimal interaction with the nonlinear operations within the cell. New information gets incorprated at two key points. First, a sigmoid ($\\sigma$) activation layer acts as a gate to allow certain information from the current $X_t$ through. Second, the $tanh$ activation creates a vector of new candidate values bounded between -1 and 1 that could be propagated to the next state. To determine if this vector is passed down, a second $\\sigma$ gate will generate 0's or 1's to multiply to the candidate values. The product of these 2 are then added to the updated long term information route. Finally, to pass on the \"short term\" $h_t$, we multiply the prior $\\sigma$-gated $h_{t-1}$ with a $tanh$-activated $C_t$ to determine $h_{t+1}$.\n",
    "\n",
    "In short, there are 2 routes for information to be transferred. A **long memory route** that sometimes incorporates new information and a **short memory route** that primarily passes down newer information, hence \"long short-term memory.\" For our problem, we actually run the LSTM forwards and backwards to achieve better performance, this is called [bidirectional](https://en.wikipedia.org/wiki/Bidirectional_recurrent_neural_networks) LSTM and is a staple of modern NLP models.\n",
    "\n",
    "![LSTM from colah](https://colah.github.io/posts/2015-08-Understanding-LSTMs/img/LSTM3-chain.png)\n",
    "[Borrowed from Chris Olah, *Google Brain*](https://colah.github.io/posts/2015-08-Understanding-LSTMs/)"
   ]
  },
  {
   "cell_type": "markdown",
   "metadata": {
    "id": "lvU0gy0rw4Xi"
   },
   "source": [
    "### Attention "
   ]
  },
  {
   "cell_type": "markdown",
   "metadata": {
    "id": "PeHIO-7kw4Xi"
   },
   "source": [
    "\n",
    "Not to be outdone by the success of LSTM, attention mechanisms have become a mainstay in the world of deep learning, particularly for NLP. The idea behind attention is incredibly simple (though there are variants with more complicated details). Typically in a ML model, only the final output from the last LSTM cell is propagated forward, since it encapsulates a summary of all the prior information. Attention layers allow all the intermediate outputs of each LSTM cell to be used in a \"smart\" way by weighting them (think weighted average). In practice, the weights typically pass through a network structure, like a $tanh$ activation fed into a softmax (logit probability weights) before combining with the sequential layer (lstm) outputs as a dot product. The end output from the attention layer, known as a \"context\" vector, is fed forward to the rest of the deep learning model. The illustration below from Matthew McAteer demonstrates how an bi-LSTM model can be used in conjunction with a global attention layer to improve a binary classification task. Note that for our task, we will solve a regression (not classification) problem\n",
    "\n",
    "\n",
    "![attention McAteer](https://matthewmcateer.me/media/attention/additive_attention.png)\n",
    "*borrowed from [Matthew McAteer](https://matthewmcateer.me/blog/getting-started-with-attention-for-classification/)*\n",
    "\n",
    "\n"
   ]
  },
  {
   "cell_type": "markdown",
   "metadata": {
    "id": "AL22syi5w4Xi"
   },
   "source": [
    "### Dense layers, nonlinear activation, dropout, Loss"
   ]
  },
  {
   "cell_type": "markdown",
   "metadata": {
    "id": "6WpoH_ayw4Xi"
   },
   "source": [
    "In our model, our attention context layer feeds in to one more fully connected hidden layer to reduce the attention dimensionality. A fully connected dense layer is often used to flexibly fit curves, particulary when combined with a simple nonlinear activation, such as ReLU (recitified linear unit). ReLu takes inputs and transforms them by converting all negative values to 0. This forced nonlinearity helps dense networks adapt to arbitrary functional forms. This presents an additional problem, overfitting (see illustration below). The problem with overfitting is that the model begins to memorize the training data than extracting systematic relationships that can be generalized to another dataset. There are many ways to combat this problem (e.g. adding L1/L2 penalties), but one that is almost always present with fully connected layers is dropout. Dropout works by randomly dropping nodes in a layer for robust training (output not significantly impacted by node omission). In this way, the network becomes more robust as weights per node are not over emphasized in training.\n",
    "\n",
    "![Medium Overfitting](https://miro.medium.com/max/1125/1*_7OPgojau8hkiPUiHoGK_w.png)\n",
    "From [Anup Bhande](https://medium.com/greyatom/what-is-underfitting-and-overfitting-in-machine-learning-and-how-to-deal-with-it-6803a989c76)\n",
    "\n",
    "Our model, laid out in code below, combines all the previously covered core topics in deep learning. We begin with an embedding layer, which feeds into a BiLSTM layer, which feeds into an attention layer, which feeds into a dense layer, which outputs to a single scalar, the predicted rating based on the review text input. To train a ML model, we need one more component, an objective on which to optimize, i.e. a loss function. Given our problem is to predict a continuous variable, we will be using a mean squared error loss (just like OLS). Based on changes to this loss objective as a consequence of small adjustments to each of the trainable weights in our model (taking iterative derivatives from the last to first layer, i.e. back-propagation), we can finally train the model for our prediction task."
   ]
  },
  {
   "cell_type": "code",
   "execution_count": 29,
   "metadata": {
    "id": "l_TEoNgfw4Xj"
   },
   "outputs": [],
   "source": [
    "# Define Attention Layer\n",
    "# Basically a weighted average layer over RNN sequence\n",
    "# where weights are learned in training\n",
    "class Attention(tf.keras.Model):\n",
    "    def __init__(self, units):\n",
    "        super(Attention, self).__init__()\n",
    "        self.W1 = tf.keras.layers.Dense(units)\n",
    "        self.W2 = tf.keras.layers.Dense(units)\n",
    "        self.V = tf.keras.layers.Dense(1)\n",
    "\n",
    "    def call(self, features, hidden):\n",
    "        # hidden shape == (batch_size, hidden size)\n",
    "        # hidden_with_time_axis shape == (batch_size, 1, hidden size)\n",
    "        # we are doing this to perform addition to calculate the score\n",
    "        hidden_with_time_axis = tf.expand_dims(hidden, 1)\n",
    "          \n",
    "        # score shape == (batch_size, max_length, 1)\n",
    "        # we get 1 at the last axis because we are applying score to self.V\n",
    "        # the shape of the tensor before applying self.V is (batch_size, max_length, units)\n",
    "        score = tf.nn.tanh(\n",
    "            self.W1(features) + self.W2(hidden_with_time_axis))\n",
    "        # attention_weights shape == (batch_size, max_length, 1)\n",
    "        attention_weights = tf.nn.softmax(self.V(score), axis=1)\n",
    "          \n",
    "        # context_vector shape after sum == (batch_size, hidden_size)\n",
    "        context_vector = attention_weights * features\n",
    "        context_vector = tf.reduce_sum(context_vector, axis=1)\n",
    "        return context_vector, attention_weights\n",
    "    "
   ]
  },
  {
   "cell_type": "code",
   "execution_count": 132,
   "metadata": {
    "id": "MxMMuDzpw4Xj"
   },
   "outputs": [],
   "source": [
    "# Function to define full model\n",
    "def bilstm_attention_model(MAX_FEATURES=9000,MAX_LEN=300,EMBED_SIZE=128,RNN_CELL_SIZE=32, ATTEN_SIZE=10,DENSE_SIZE=54, DROPOUT=.1):\n",
    "    sequence_input = Input(shape=(MAX_LEN,), dtype=\"int32\")\n",
    "    embedded_sequences = Embedding(MAX_FEATURES, EMBED_SIZE)(sequence_input)\n",
    "\n",
    "    # Bidirectional LSTM\n",
    "    lstm = Bidirectional(LSTM(RNN_CELL_SIZE, return_sequences = True), \n",
    "                         name=\"bi_lstm_0\")(embedded_sequences)\n",
    "\n",
    "    # Getting our LSTM outputs\n",
    "    (lstm, forward_h, forward_c, backward_h, backward_c) = Bidirectional(LSTM(RNN_CELL_SIZE, \n",
    "                                                                              return_sequences=True, \n",
    "                                                                              return_state=True), \n",
    "                                                                         name=\"bi_lstm_1\")(lstm)\n",
    "    \n",
    "    \n",
    "    # Given bi-directional RNN, must concatenate the forward+ backward hidden states from each RNN \n",
    "    # before computing the attention weights and applying the weighted sum.\n",
    "    state_h = Concatenate()([forward_h, backward_h])\n",
    "    state_c = Concatenate()([forward_c, backward_c])\n",
    "    context_vector, attention_weights = Attention(ATTEN_SIZE)(lstm, state_h) # attention weighted output\n",
    "    dense = Dense(int(DENSE_SIZE), activation=\"relu\")(context_vector)\n",
    "    dropout = Dropout(DROPOUT)(dense)\n",
    "    output = Dense(1, activation=\"relu\")(dropout)\n",
    "    model = tf.keras.Model(inputs=sequence_input, outputs=output)\n",
    "    return model"
   ]
  },
  {
   "cell_type": "code",
   "execution_count": 201,
   "metadata": {
    "id": "NURLWXjSw4Xj"
   },
   "outputs": [],
   "source": [
    "# Parameters of model (can change these - choice is a bit of an art)\n",
    "# We define them here just to print out the schematic below\n",
    "# these parameters can be optimally selected by doing a grid search, but in practice, this is not so practical \n",
    "\n",
    "\n",
    "EMBED_SIZE = 128\n",
    "  \n",
    "RNN_CELL_SIZE = 24\n",
    "  \n",
    "MAX_LEN = 300\n",
    "\n",
    "ATTEN_SIZE = 32\n",
    "\n",
    "DENSE_SIZE = 16\n",
    "\n",
    "DROPOUT = .25\n",
    "\n",
    "\n",
    "tokenizer = Tokenizer(num_words=None, filters = '', oov_token = 'OOV') # Create integer coding of vocab size\n",
    "tokenizer.fit_on_texts(data['processed_review_filter']) # Make text to sequence mapping\n",
    "\n",
    "MAX_FEATURES = len(tokenizer.word_index)"
   ]
  },
  {
   "cell_type": "code",
   "execution_count": null,
   "metadata": {
    "id": "E8dJWNpzw4Xj"
   },
   "outputs": [],
   "source": []
  },
  {
   "cell_type": "code",
   "execution_count": 202,
   "metadata": {
    "id": "igqUsG6Pw4Xj",
    "outputId": "5800f5b4-a0a9-4295-8d91-dd0698676cf3",
    "scrolled": true
   },
   "outputs": [
    {
     "data": {
      "image/png": "[encoded data removed]",
      "text/plain": [
       "<IPython.core.display.Image object>"
      ]
     },
     "execution_count": 202,
     "metadata": {},
     "output_type": "execute_result"
    }
   ],
   "source": [
    "model = bilstm_attention_model(MAX_FEATURES+1,\n",
    "                               MAX_LEN,\n",
    "                               EMBED_SIZE,\n",
    "                               RNN_CELL_SIZE, \n",
    "                               ATTEN_SIZE,\n",
    "                               DENSE_SIZE, \n",
    "                               DROPOUT=DROPOUT)\n",
    "\n",
    "\n",
    "\n",
    "\n",
    "# Print out model schematic\n",
    "tf.keras.utils.plot_model(model, show_shapes=True, dpi=80)\n"
   ]
  },
  {
   "cell_type": "markdown",
   "metadata": {
    "id": "JCkwWRFCw4Xj"
   },
   "source": [
    "## Training\n"
   ]
  },
  {
   "cell_type": "markdown",
   "metadata": {
    "id": "edySiZTMw4Xj"
   },
   "source": [
    "\n",
    "Training can also be a bit of an art. In this example, we specify some of the following common training hyperparameters/adjustments:\n",
    "\n",
    "1. Sample split (training, validation, testing)\n",
    "1. Validation\n",
    "1. Early stopping criteria + patience\n",
    "\n",
    "Sample split is a fundamental idea in ML. By separating a dataset into training, validation, and testing sets, we can optimize training and evaluate the results out of sample. Validation set is used to evaluate training performance, particularly to stop training when the out of sample predictions stop improving. We implement this for training our model."
   ]
  },
  {
   "cell_type": "code",
   "execution_count": 203,
   "metadata": {
    "executionInfo": {
     "elapsed": 232,
     "status": "ok",
     "timestamp": 1619585399142,
     "user": {
      "displayName": "Yang Wang",
      "photoUrl": "https://lh3.googleusercontent.com/a-/AOh14GjF63RmcywSGQbZiun0IBDrinntH5TB2GHGoVUrKsY=s64",
      "userId": "02587246997618178966"
     },
     "user_tz": 300
    },
    "id": "qfeSXs3kw4Xj"
   },
   "outputs": [],
   "source": [
    "# Full dataset predictors, this will be used to predict back on full dataset after training\n",
    "list_tokenized_train = tokenizer.texts_to_sequences(data.loc[:,'processed_review_filter']) # \n",
    "X_all =  pad_sequences(list_tokenized_train, maxlen=MAX_LEN)"
   ]
  },
  {
   "cell_type": "code",
   "execution_count": 204,
   "metadata": {
    "executionInfo": {
     "elapsed": 419,
     "status": "aborted",
     "timestamp": 1619585395574,
     "user": {
      "displayName": "Yang Wang",
      "photoUrl": "https://lh3.googleusercontent.com/a-/AOh14GjF63RmcywSGQbZiun0IBDrinntH5TB2GHGoVUrKsY=s64",
      "userId": "02587246997618178966"
     },
     "user_tz": 300
    },
    "id": "xVS8I72Xw4Xk"
   },
   "outputs": [
    {
     "data": {
      "text/plain": [
       "array([[   0,    0,    0, ...,  523,   32,  401],\n",
       "       [   0,    0,    0, ...,  214, 6372,  205],\n",
       "       [   0,    0,    0, ...,    2,  199,  906],\n",
       "       ...,\n",
       "       [   0,    0,    0, ..., 2503,  718,   24],\n",
       "       [   0,    0,    0, ...,  855,  509,   55],\n",
       "       [   0,    0,    0, ...,  272,  194,    2]], dtype=int32)"
      ]
     },
     "execution_count": 204,
     "metadata": {},
     "output_type": "execute_result"
    }
   ],
   "source": [
    "X_all[:10] # sequences of token ID's in column space, 1 row = 1 review"
   ]
  },
  {
   "cell_type": "code",
   "execution_count": 205,
   "metadata": {
    "executionInfo": {
     "elapsed": 419,
     "status": "aborted",
     "timestamp": 1619585395575,
     "user": {
      "displayName": "Yang Wang",
      "photoUrl": "https://lh3.googleusercontent.com/a-/AOh14GjF63RmcywSGQbZiun0IBDrinntH5TB2GHGoVUrKsY=s64",
      "userId": "02587246997618178966"
     },
     "user_tz": 300
    },
    "id": "OyEGod_gw4Xk",
    "scrolled": true
   },
   "outputs": [
    {
     "name": "stdout",
     "output_type": "stream",
     "text": [
      "Epoch 1/100\n",
      "122/122 [==============================] - 11s 92ms/step - loss: 2.0047 - val_loss: 0.6612\n",
      "Epoch 2/100\n",
      "122/122 [==============================] - 10s 86ms/step - loss: 1.2184 - val_loss: 0.7187\n",
      "Epoch 3/100\n",
      "122/122 [==============================] - 10s 86ms/step - loss: 0.9457 - val_loss: 0.5338\n",
      "Epoch 4/100\n",
      "122/122 [==============================] - 10s 86ms/step - loss: 0.7434 - val_loss: 0.5566\n",
      "Epoch 5/100\n",
      "122/122 [==============================] - 10s 86ms/step - loss: 0.5685 - val_loss: 0.5752\n",
      "Epoch 6/100\n",
      "122/122 [==============================] - 10s 86ms/step - loss: 0.4466 - val_loss: 0.6025\n",
      "Epoch 7/100\n",
      "122/122 [==============================] - 10s 86ms/step - loss: 0.3581 - val_loss: 0.5865\n",
      "Epoch 8/100\n",
      "122/122 [==============================] - 10s 86ms/step - loss: 0.2909 - val_loss: 0.5945\n",
      "Epoch 9/100\n",
      "122/122 [==============================] - 10s 86ms/step - loss: 0.2370 - val_loss: 0.6039\n",
      "Epoch 10/100\n",
      "122/122 [==============================] - 10s 86ms/step - loss: 0.2035 - val_loss: 0.6162\n",
      "Epoch 11/100\n",
      "122/122 [==============================] - 10s 85ms/step - loss: 0.1893 - val_loss: 0.6267\n",
      "Epoch 12/100\n",
      "122/122 [==============================] - 10s 86ms/step - loss: 0.1655 - val_loss: 0.6357\n",
      "Epoch 13/100\n",
      "122/122 [==============================] - 10s 85ms/step - loss: 0.1586 - val_loss: 0.6448\n",
      "Epoch 1/100\n",
      "94/94 [==============================] - 9s 93ms/step - loss: 2.5877 - val_loss: 1.1228\n",
      "Epoch 2/100\n",
      "94/94 [==============================] - 8s 85ms/step - loss: 1.4786 - val_loss: 0.6285\n",
      "Epoch 3/100\n",
      "94/94 [==============================] - 8s 85ms/step - loss: 1.1447 - val_loss: 0.5975\n",
      "Epoch 4/100\n",
      "94/94 [==============================] - 8s 85ms/step - loss: 0.8672 - val_loss: 0.8220\n",
      "Epoch 5/100\n",
      "94/94 [==============================] - 8s 85ms/step - loss: 0.7206 - val_loss: 0.5833\n",
      "Epoch 6/100\n",
      "94/94 [==============================] - 8s 86ms/step - loss: 0.5801 - val_loss: 0.6071\n",
      "Epoch 7/100\n",
      "94/94 [==============================] - 8s 86ms/step - loss: 0.5017 - val_loss: 0.6020\n",
      "Epoch 8/100\n",
      "94/94 [==============================] - 8s 85ms/step - loss: 0.4228 - val_loss: 0.6358\n",
      "Epoch 9/100\n",
      "94/94 [==============================] - 8s 83ms/step - loss: 0.3500 - val_loss: 0.6243\n",
      "Epoch 10/100\n",
      "94/94 [==============================] - 8s 84ms/step - loss: 0.3145 - val_loss: 0.6325\n",
      "Epoch 11/100\n",
      "94/94 [==============================] - 8s 83ms/step - loss: 0.2694 - val_loss: 0.6610\n",
      "Epoch 12/100\n",
      "94/94 [==============================] - 8s 84ms/step - loss: 0.2404 - val_loss: 0.6430\n",
      "Epoch 13/100\n",
      "94/94 [==============================] - 8s 85ms/step - loss: 0.2098 - val_loss: 0.6421\n",
      "Epoch 14/100\n",
      "94/94 [==============================] - 8s 85ms/step - loss: 0.1881 - val_loss: 0.6620\n",
      "Epoch 15/100\n",
      "94/94 [==============================] - 8s 85ms/step - loss: 0.1631 - val_loss: 0.6835\n",
      "Epoch 1/100\n",
      "97/97 [==============================] - 9s 92ms/step - loss: 2.6901 - val_loss: 0.8458\n",
      "Epoch 2/100\n",
      "97/97 [==============================] - 8s 85ms/step - loss: 1.3988 - val_loss: 0.8706\n",
      "Epoch 3/100\n",
      "97/97 [==============================] - 8s 85ms/step - loss: 1.0322 - val_loss: 0.6901\n",
      "Epoch 4/100\n",
      "97/97 [==============================] - 8s 85ms/step - loss: 0.8132 - val_loss: 0.7123\n",
      "Epoch 5/100\n",
      "97/97 [==============================] - 8s 85ms/step - loss: 0.6751 - val_loss: 0.7022\n",
      "Epoch 6/100\n",
      "97/97 [==============================] - 8s 85ms/step - loss: 0.5535 - val_loss: 0.7291\n",
      "Epoch 7/100\n",
      "97/97 [==============================] - 8s 85ms/step - loss: 0.4650 - val_loss: 0.7340\n",
      "Epoch 8/100\n",
      "97/97 [==============================] - 8s 85ms/step - loss: 0.3818 - val_loss: 0.7258\n",
      "Epoch 9/100\n",
      "97/97 [==============================] - 8s 85ms/step - loss: 0.3235 - val_loss: 0.7554\n",
      "Epoch 10/100\n",
      "97/97 [==============================] - 8s 85ms/step - loss: 0.2718 - val_loss: 0.7517\n",
      "Epoch 11/100\n",
      "97/97 [==============================] - 8s 85ms/step - loss: 0.2290 - val_loss: 0.7585\n",
      "Epoch 12/100\n",
      "97/97 [==============================] - 8s 85ms/step - loss: 0.2050 - val_loss: 0.7829\n",
      "Epoch 13/100\n",
      "97/97 [==============================] - 8s 85ms/step - loss: 0.1794 - val_loss: 0.7871\n",
      "Epoch 1/100\n",
      "94/94 [==============================] - 9s 93ms/step - loss: 2.6256 - val_loss: 0.8356\n",
      "Epoch 2/100\n",
      "94/94 [==============================] - 8s 86ms/step - loss: 1.6714 - val_loss: 0.6935\n",
      "Epoch 3/100\n",
      "94/94 [==============================] - 8s 85ms/step - loss: 1.3186 - val_loss: 0.7674\n",
      "Epoch 4/100\n",
      "94/94 [==============================] - 8s 85ms/step - loss: 1.0045 - val_loss: 0.6763\n",
      "Epoch 5/100\n",
      "94/94 [==============================] - 8s 85ms/step - loss: 0.8099 - val_loss: 0.6414\n",
      "Epoch 6/100\n",
      "94/94 [==============================] - 8s 85ms/step - loss: 0.6504 - val_loss: 0.6332\n",
      "Epoch 7/100\n",
      "94/94 [==============================] - 8s 85ms/step - loss: 0.5154 - val_loss: 0.6298\n",
      "Epoch 8/100\n",
      "94/94 [==============================] - 8s 85ms/step - loss: 0.4181 - val_loss: 0.6761\n",
      "Epoch 9/100\n",
      "94/94 [==============================] - 8s 85ms/step - loss: 0.3481 - val_loss: 0.6614\n",
      "Epoch 10/100\n",
      "94/94 [==============================] - 8s 85ms/step - loss: 0.2887 - val_loss: 0.6779\n",
      "Epoch 11/100\n",
      "94/94 [==============================] - 8s 85ms/step - loss: 0.2411 - val_loss: 0.6801\n",
      "Epoch 12/100\n",
      "94/94 [==============================] - 8s 85ms/step - loss: 0.2044 - val_loss: 0.6806\n",
      "Epoch 13/100\n",
      "94/94 [==============================] - 8s 85ms/step - loss: 0.1774 - val_loss: 0.7308\n",
      "Epoch 14/100\n",
      "94/94 [==============================] - 8s 85ms/step - loss: 0.1591 - val_loss: 0.6800\n",
      "Epoch 15/100\n",
      "94/94 [==============================] - 8s 85ms/step - loss: 0.1480 - val_loss: 0.6924\n",
      "Epoch 16/100\n",
      "94/94 [==============================] - 8s 86ms/step - loss: 0.1328 - val_loss: 0.7149\n",
      "Epoch 17/100\n",
      "94/94 [==============================] - 8s 85ms/step - loss: 0.1242 - val_loss: 0.7435\n"
     ]
    }
   ],
   "source": [
    "BATCH_SIZE = 200 # number to train in a batch, smaller = more stable training, but slower\n",
    "EPOCHS = 100 # complete cycles through training data\n",
    "\n",
    "np.random.seed(1) # seed for reproducible results\n",
    "data['train'] = np.random.binomial(1,.75, size =len(data)) # Randomly assign 15% to testing set\n",
    "data.loc[data.train==0,'train'] = np.random.binomial(1,.5,size = sum(data.train==0))-1\n",
    "\n",
    "# DVs = [c for c in data.columns if ('r_'==c[:2])&('_pred' not in c)]# train for these DVs\n",
    "\n",
    "DVs = ['r_service', 'r_rooms', 'r_value', 'r_location']\n",
    "\n",
    "training_histories = list()\n",
    "for dv in DVs:\n",
    "    \n",
    "    cond = (data[dv].notnull())&(data['train']==1) # subset condition for training\n",
    "    \n",
    "    # Tokenize the text (convert to list of IDs)\n",
    "    list_tokenized_train = tokenizer.texts_to_sequences(data.loc[cond,'processed_review_filter'])\n",
    "    \n",
    "    # 0 Pad the tokenized data\n",
    "    X_train = pad_sequences(list_tokenized_train, maxlen=MAX_LEN)\n",
    "\n",
    "    # Select corresponding training labels\n",
    "    y_train = data.loc[cond,dv]\n",
    "    \n",
    "    condval = (data[dv].notnull())&(data['train']==-1)\n",
    "    # Tokenize the text (convert to list of IDs)\n",
    "    list_tokenized_val = tokenizer.texts_to_sequences(data.loc[condval,'processed_review_filter'])\n",
    "    \n",
    "    # 0 Pad the tokenized data\n",
    "    X_val = pad_sequences(list_tokenized_val, maxlen=MAX_LEN)\n",
    "\n",
    "    # Select corresponding training labels\n",
    "    y_val = data.loc[condval,dv]\n",
    "    \n",
    "    # define model\n",
    "    model = bilstm_attention_model(MAX_FEATURES + 1, # Add 1 feature for 0 padding\n",
    "                                   MAX_LEN,\n",
    "                                   EMBED_SIZE,\n",
    "                                   RNN_CELL_SIZE, \n",
    "                                   ATTEN_SIZE,\n",
    "                                   DENSE_SIZE, \n",
    "                                   DROPOUT=DROPOUT)\n",
    "    \n",
    "    \n",
    "    # compile model to maximize mean squared error, use adaptive optimizer\n",
    "    model.compile(loss='mse', optimizer=tf.keras.optimizers.Adam(learning_rate=.01))\n",
    "    \n",
    "    # Train\n",
    "    history = model.fit(X_train,y_train,\n",
    "                        batch_size=BATCH_SIZE,\n",
    "                        epochs=EPOCHS,\n",
    "                        validation_data=(X_val, y_val),\n",
    "                       callbacks = [EarlyStopping(patience=10, restore_best_weights=True)])\n",
    "    \n",
    "    training_histories.append(history)\n",
    "    \n",
    "    # Save model in Models subfoler, make it if it doesn't exist\n",
    "    try:\n",
    "        os.listdir('./models/')\n",
    "    except:\n",
    "        os.mkdir('./models/')\n",
    "        \n",
    "    # Save model\n",
    "    model.save_weights('./models/bilstm_attention_{}.h5'.format(dv))\n",
    "    \n",
    "    \n",
    "    # predict back on dataset\n",
    "    data[dv+'_pred'] = model.predict(X_all)\n",
    "    \n",
    "    del model\n",
    "    gc.collect()"
   ]
  },
  {
   "cell_type": "markdown",
   "metadata": {
    "id": "X6tUQKc8w4Xk"
   },
   "source": [
    "# Diagnostics"
   ]
  },
  {
   "cell_type": "markdown",
   "metadata": {
    "id": "rjPWxOHFw4Xk"
   },
   "source": [
    "## Training / Validation / Testing $R^2$"
   ]
  },
  {
   "cell_type": "code",
   "execution_count": 206,
   "metadata": {
    "id": "AiX6szcjw4Xk"
   },
   "outputs": [],
   "source": [
    "def mse(ytrue,ypred):\n",
    "    return np.nanmean((ytrue-ypred)**2)\n",
    "\n",
    "def r2(ytrue,ypred):\n",
    "    SSR = mse(ytrue,ypred)\n",
    "    SST = np.nanmean((ytrue-np.nanmean(ytrue))**2)\n",
    "    return 1-SSR/SST"
   ]
  },
  {
   "cell_type": "code",
   "execution_count": 207,
   "metadata": {
    "id": "mBla4Saww4Xl",
    "outputId": "f5a0951d-373c-42bb-cbf7-c5282f13d64f"
   },
   "outputs": [
    {
     "name": "stdout",
     "output_type": "stream",
     "text": [
      "Training R2\n"
     ]
    },
    {
     "data": {
      "text/html": [
       "<div>\n",
       "<style scoped>\n",
       "    .dataframe tbody tr th:only-of-type {\n",
       "        vertical-align: middle;\n",
       "    }\n",
       "\n",
       "    .dataframe tbody tr th {\n",
       "        vertical-align: top;\n",
       "    }\n",
       "\n",
       "    .dataframe thead th {\n",
       "        text-align: right;\n",
       "    }\n",
       "</style>\n",
       "<table border=\"1\" class=\"dataframe\">\n",
       "  <thead>\n",
       "    <tr style=\"text-align: right;\">\n",
       "      <th></th>\n",
       "      <th>dv</th>\n",
       "      <th>r2</th>\n",
       "    </tr>\n",
       "  </thead>\n",
       "  <tbody>\n",
       "    <tr>\n",
       "      <th>0</th>\n",
       "      <td>r_service</td>\n",
       "      <td>0.708894</td>\n",
       "    </tr>\n",
       "    <tr>\n",
       "      <th>1</th>\n",
       "      <td>r_rooms</td>\n",
       "      <td>0.727312</td>\n",
       "    </tr>\n",
       "    <tr>\n",
       "      <th>2</th>\n",
       "      <td>r_value</td>\n",
       "      <td>0.634327</td>\n",
       "    </tr>\n",
       "    <tr>\n",
       "      <th>3</th>\n",
       "      <td>r_location</td>\n",
       "      <td>0.687937</td>\n",
       "    </tr>\n",
       "  </tbody>\n",
       "</table>\n",
       "</div>"
      ],
      "text/plain": [
       "           dv        r2\n",
       "0   r_service  0.708894\n",
       "1     r_rooms  0.727312\n",
       "2     r_value  0.634327\n",
       "3  r_location  0.687937"
      ]
     },
     "execution_count": 207,
     "metadata": {},
     "output_type": "execute_result"
    }
   ],
   "source": [
    "r2train = np.array([r2(data.loc[data.train ==1,c],data.loc[data.train==1,c+'_pred']) for c in DVs])\n",
    "r2train = pd.DataFrame(list(zip(DVs, r2train)), columns = ['dv','r2'])\n",
    "print('Training R2')\n",
    "r2train # note that location often does not require text to justify"
   ]
  },
  {
   "cell_type": "code",
   "execution_count": 208,
   "metadata": {
    "id": "kJz2H-qfw4Xl",
    "outputId": "fa057ef7-cd87-4a72-80cd-f2f4b295b230"
   },
   "outputs": [
    {
     "name": "stdout",
     "output_type": "stream",
     "text": [
      "Validation Sample R2\n"
     ]
    },
    {
     "data": {
      "text/html": [
       "<div>\n",
       "<style scoped>\n",
       "    .dataframe tbody tr th:only-of-type {\n",
       "        vertical-align: middle;\n",
       "    }\n",
       "\n",
       "    .dataframe tbody tr th {\n",
       "        vertical-align: top;\n",
       "    }\n",
       "\n",
       "    .dataframe thead th {\n",
       "        text-align: right;\n",
       "    }\n",
       "</style>\n",
       "<table border=\"1\" class=\"dataframe\">\n",
       "  <thead>\n",
       "    <tr style=\"text-align: right;\">\n",
       "      <th></th>\n",
       "      <th>dv</th>\n",
       "      <th>r2</th>\n",
       "    </tr>\n",
       "  </thead>\n",
       "  <tbody>\n",
       "    <tr>\n",
       "      <th>0</th>\n",
       "      <td>r_service</td>\n",
       "      <td>0.510500</td>\n",
       "    </tr>\n",
       "    <tr>\n",
       "      <th>1</th>\n",
       "      <td>r_rooms</td>\n",
       "      <td>0.445017</td>\n",
       "    </tr>\n",
       "    <tr>\n",
       "      <th>2</th>\n",
       "      <td>r_value</td>\n",
       "      <td>0.418473</td>\n",
       "    </tr>\n",
       "    <tr>\n",
       "      <th>3</th>\n",
       "      <td>r_location</td>\n",
       "      <td>0.158495</td>\n",
       "    </tr>\n",
       "  </tbody>\n",
       "</table>\n",
       "</div>"
      ],
      "text/plain": [
       "           dv        r2\n",
       "0   r_service  0.510500\n",
       "1     r_rooms  0.445017\n",
       "2     r_value  0.418473\n",
       "3  r_location  0.158495"
      ]
     },
     "execution_count": 208,
     "metadata": {},
     "output_type": "execute_result"
    }
   ],
   "source": [
    "r2test = np.array([r2(data.loc[data.train ==-1,c],data.loc[data.train==-1,c+'_pred']) for c in DVs])\n",
    "r2test = pd.DataFrame(list(zip(DVs, r2test)), columns = ['dv','r2'])\n",
    "print('Validation Sample R2')\n",
    "r2test"
   ]
  },
  {
   "cell_type": "code",
   "execution_count": 209,
   "metadata": {
    "id": "em9SB6Lew4Xl",
    "outputId": "c9663066-c9fd-48fd-b27c-943e332e86cc"
   },
   "outputs": [
    {
     "name": "stdout",
     "output_type": "stream",
     "text": [
      "Out of Sample R2\n"
     ]
    },
    {
     "data": {
      "text/html": [
       "<div>\n",
       "<style scoped>\n",
       "    .dataframe tbody tr th:only-of-type {\n",
       "        vertical-align: middle;\n",
       "    }\n",
       "\n",
       "    .dataframe tbody tr th {\n",
       "        vertical-align: top;\n",
       "    }\n",
       "\n",
       "    .dataframe thead th {\n",
       "        text-align: right;\n",
       "    }\n",
       "</style>\n",
       "<table border=\"1\" class=\"dataframe\">\n",
       "  <thead>\n",
       "    <tr style=\"text-align: right;\">\n",
       "      <th></th>\n",
       "      <th>dv</th>\n",
       "      <th>r2</th>\n",
       "    </tr>\n",
       "  </thead>\n",
       "  <tbody>\n",
       "    <tr>\n",
       "      <th>0</th>\n",
       "      <td>r_service</td>\n",
       "      <td>0.501303</td>\n",
       "    </tr>\n",
       "    <tr>\n",
       "      <th>1</th>\n",
       "      <td>r_rooms</td>\n",
       "      <td>0.439594</td>\n",
       "    </tr>\n",
       "    <tr>\n",
       "      <th>2</th>\n",
       "      <td>r_value</td>\n",
       "      <td>0.429691</td>\n",
       "    </tr>\n",
       "    <tr>\n",
       "      <th>3</th>\n",
       "      <td>r_location</td>\n",
       "      <td>0.188424</td>\n",
       "    </tr>\n",
       "  </tbody>\n",
       "</table>\n",
       "</div>"
      ],
      "text/plain": [
       "           dv        r2\n",
       "0   r_service  0.501303\n",
       "1     r_rooms  0.439594\n",
       "2     r_value  0.429691\n",
       "3  r_location  0.188424"
      ]
     },
     "execution_count": 209,
     "metadata": {},
     "output_type": "execute_result"
    }
   ],
   "source": [
    "r2test = np.array([r2(data.loc[data.train ==0,c],data.loc[data.train==0,c+'_pred']) for c in DVs])\n",
    "r2test = pd.DataFrame(list(zip(DVs, r2test)), columns = ['dv','r2'])\n",
    "print('Out of Sample R2')\n",
    "r2test"
   ]
  },
  {
   "cell_type": "markdown",
   "metadata": {
    "id": "zZQ26OcXw4Xl"
   },
   "source": [
    "## Training / Validation / Testing Predicted vs. Actual Ratings"
   ]
  },
  {
   "cell_type": "code",
   "execution_count": 210,
   "metadata": {
    "id": "GD978wprw4Xl",
    "outputId": "425e505e-30ec-40e1-cdaa-4070abb37774"
   },
   "outputs": [
    {
     "data": {
      "image/png": "[encoded data removed]",
      "text/plain": [
       "<Figure size 864x432 with 1 Axes>"
      ]
     },
     "metadata": {
      "needs_background": "light"
     },
     "output_type": "display_data"
    },
    {
     "data": {
      "image/png": "[encoded data removed]",
      "text/plain": [
       "<Figure size 864x432 with 1 Axes>"
      ]
     },
     "metadata": {
      "needs_background": "light"
     },
     "output_type": "display_data"
    },
    {
     "data": {
      "image/png": "[encoded data removed]",
      "text/plain": [
       "<Figure size 864x432 with 1 Axes>"
      ]
     },
     "metadata": {
      "needs_background": "light"
     },
     "output_type": "display_data"
    }
   ],
   "source": [
    "training = ['validation', 'testing','training']\n",
    "for i in range(3):\n",
    "    fig,ax = plt.subplots(1, figsize=(12,6))\n",
    "    T = i-1\n",
    "    temp = data[data.train==T].groupby('r_service')['r_service_pred'].mean()\n",
    "    ax.bar(temp.index.values, temp, alpha = .1, color = 'gray')\n",
    "    ax.scatter(data.loc[data.train==T, 'r_service']+np.random.normal(0,.03, size = sum(data.train==T)),\n",
    "                data.loc[data.train==T, 'r_service_pred'], alpha = .1, s=1,zorder = 1)\n",
    "    ax.set_title('Predicted vs. Actual Service ({} set), jitter added'.format(training[i]))\n",
    "    ax.set_xlabel('Actual Service Quality')\n",
    "    ax.set_ylabel('Predicted Service Quality')\n",
    "\n"
   ]
  },
  {
   "cell_type": "markdown",
   "metadata": {
    "id": "CK-V-X8sw4Xl"
   },
   "source": [
    "## Use trained model to examine a review text example"
   ]
  },
  {
   "cell_type": "code",
   "execution_count": 211,
   "metadata": {
    "id": "iV40jgbHw4Xl",
    "outputId": "d58c4b4f-2bae-4718-f67f-73c95b9eaf03"
   },
   "outputs": [
    {
     "data": {
      "text/plain": [
       "'This needs major refurbishing, carpets, curtains, updated bathrooms decor. Security locks broken on outside security doors. Employees are very curious and helpful'"
      ]
     },
     "execution_count": 211,
     "metadata": {},
     "output_type": "execute_result"
    }
   ],
   "source": [
    "# pick a review\n",
    "r = data[(data.processed_review_filter.apply(lambda x: 'curious helpful' in x))].iloc[0]\n",
    "txt = r.review_text # example\n",
    "txt"
   ]
  },
  {
   "cell_type": "code",
   "execution_count": 212,
   "metadata": {
    "id": "gTYeqTifw4Xl",
    "outputId": "1449b009-b9fd-41ed-83fa-a39826028c57"
   },
   "outputs": [
    {
     "data": {
      "text/plain": [
       "r_service               4\n",
       "r_rooms                 1\n",
       "r_service_pred     3.6424\n",
       "r_rooms_pred      1.44055\n",
       "Name: 419, dtype: object"
      ]
     },
     "execution_count": 212,
     "metadata": {},
     "output_type": "execute_result"
    }
   ],
   "source": [
    "# service and rooms ratings for this review\n",
    "r[DVs[:2]+[d+'_pred' for d in DVs[:2]]]"
   ]
  },
  {
   "cell_type": "markdown",
   "metadata": {
    "id": "Kg6o-xgWw4Xm"
   },
   "source": [
    "### What embeddings looks like"
   ]
  },
  {
   "cell_type": "code",
   "execution_count": 219,
   "metadata": {
    "id": "JfrXvISiw4Xm"
   },
   "outputs": [],
   "source": [
    "# Get tokenized review\n",
    "txt = r.processed_review_filter\n",
    "list_token = tokenizer.texts_to_sequences([txt])\n",
    "X_example = pad_sequences(list_token, maxlen=MAX_LEN)\n",
    "\n",
    "# Construct model that outputs embedding layer\n",
    "model = Model(inputs=model_service.input,\n",
    "              outputs=[model_service.output, model_service.layers[1].output])\n",
    "\n",
    "# Get embeddings\n",
    "embed = model(X_example)[1].numpy()[:,-len(r.processed_review_filter.split()):,:]\n",
    "embed = pd.DataFrame(embed.reshape(embed.shape[1],-1))\n",
    "embed['w'] = r.processed_review_filter.split()\n",
    "embed = embed.set_index('w').reset_index()"
   ]
  },
  {
   "cell_type": "code",
   "execution_count": 220,
   "metadata": {
    "id": "zipyZUCmw4Xm",
    "outputId": "eb4c5107-c21b-4353-c043-65e121ef2ec2"
   },
   "outputs": [
    {
     "data": {
      "text/html": [
       "<div>\n",
       "<style scoped>\n",
       "    .dataframe tbody tr th:only-of-type {\n",
       "        vertical-align: middle;\n",
       "    }\n",
       "\n",
       "    .dataframe tbody tr th {\n",
       "        vertical-align: top;\n",
       "    }\n",
       "\n",
       "    .dataframe thead th {\n",
       "        text-align: right;\n",
       "    }\n",
       "</style>\n",
       "<table border=\"1\" class=\"dataframe\">\n",
       "  <thead>\n",
       "    <tr style=\"text-align: right;\">\n",
       "      <th></th>\n",
       "      <th>w</th>\n",
       "      <th>0</th>\n",
       "      <th>1</th>\n",
       "      <th>2</th>\n",
       "      <th>3</th>\n",
       "      <th>4</th>\n",
       "      <th>5</th>\n",
       "      <th>6</th>\n",
       "      <th>7</th>\n",
       "      <th>8</th>\n",
       "      <th>...</th>\n",
       "      <th>118</th>\n",
       "      <th>119</th>\n",
       "      <th>120</th>\n",
       "      <th>121</th>\n",
       "      <th>122</th>\n",
       "      <th>123</th>\n",
       "      <th>124</th>\n",
       "      <th>125</th>\n",
       "      <th>126</th>\n",
       "      <th>127</th>\n",
       "    </tr>\n",
       "  </thead>\n",
       "  <tbody>\n",
       "    <tr>\n",
       "      <th>0</th>\n",
       "      <td>need</td>\n",
       "      <td>-0.153277</td>\n",
       "      <td>0.151049</td>\n",
       "      <td>0.049563</td>\n",
       "      <td>0.005724</td>\n",
       "      <td>-0.281003</td>\n",
       "      <td>0.039933</td>\n",
       "      <td>0.116026</td>\n",
       "      <td>0.030078</td>\n",
       "      <td>-0.024215</td>\n",
       "      <td>...</td>\n",
       "      <td>-0.153277</td>\n",
       "      <td>0.014198</td>\n",
       "      <td>-0.228280</td>\n",
       "      <td>0.047854</td>\n",
       "      <td>-0.089114</td>\n",
       "      <td>0.038555</td>\n",
       "      <td>0.213016</td>\n",
       "      <td>-0.341551</td>\n",
       "      <td>-0.012967</td>\n",
       "      <td>0.001896</td>\n",
       "    </tr>\n",
       "    <tr>\n",
       "      <th>1</th>\n",
       "      <td>major</td>\n",
       "      <td>0.048864</td>\n",
       "      <td>0.170309</td>\n",
       "      <td>-0.091371</td>\n",
       "      <td>-0.051421</td>\n",
       "      <td>-0.126080</td>\n",
       "      <td>-0.056660</td>\n",
       "      <td>0.118470</td>\n",
       "      <td>-0.097470</td>\n",
       "      <td>-0.077731</td>\n",
       "      <td>...</td>\n",
       "      <td>-0.006660</td>\n",
       "      <td>-0.010731</td>\n",
       "      <td>-0.260449</td>\n",
       "      <td>-0.105582</td>\n",
       "      <td>0.021848</td>\n",
       "      <td>0.051685</td>\n",
       "      <td>-0.048613</td>\n",
       "      <td>-0.263173</td>\n",
       "      <td>-0.058572</td>\n",
       "      <td>0.194312</td>\n",
       "    </tr>\n",
       "    <tr>\n",
       "      <th>2</th>\n",
       "      <td>carpet</td>\n",
       "      <td>0.037575</td>\n",
       "      <td>0.274496</td>\n",
       "      <td>-0.076754</td>\n",
       "      <td>-0.225906</td>\n",
       "      <td>0.010641</td>\n",
       "      <td>0.167724</td>\n",
       "      <td>0.117246</td>\n",
       "      <td>-0.328181</td>\n",
       "      <td>0.119915</td>\n",
       "      <td>...</td>\n",
       "      <td>0.099799</td>\n",
       "      <td>0.045327</td>\n",
       "      <td>-0.266834</td>\n",
       "      <td>-0.024726</td>\n",
       "      <td>-0.008895</td>\n",
       "      <td>-0.058412</td>\n",
       "      <td>0.029815</td>\n",
       "      <td>-0.265493</td>\n",
       "      <td>-0.169545</td>\n",
       "      <td>0.037877</td>\n",
       "    </tr>\n",
       "    <tr>\n",
       "      <th>3</th>\n",
       "      <td>curtain</td>\n",
       "      <td>0.160241</td>\n",
       "      <td>0.326806</td>\n",
       "      <td>-0.263795</td>\n",
       "      <td>-0.255988</td>\n",
       "      <td>-0.343599</td>\n",
       "      <td>-0.274087</td>\n",
       "      <td>0.218184</td>\n",
       "      <td>-0.271549</td>\n",
       "      <td>-0.123203</td>\n",
       "      <td>...</td>\n",
       "      <td>-0.220831</td>\n",
       "      <td>-0.150689</td>\n",
       "      <td>-0.231832</td>\n",
       "      <td>-0.192851</td>\n",
       "      <td>0.309888</td>\n",
       "      <td>0.242962</td>\n",
       "      <td>-0.089342</td>\n",
       "      <td>-0.323026</td>\n",
       "      <td>-0.276566</td>\n",
       "      <td>0.084744</td>\n",
       "    </tr>\n",
       "    <tr>\n",
       "      <th>4</th>\n",
       "      <td>update</td>\n",
       "      <td>-0.124054</td>\n",
       "      <td>0.023317</td>\n",
       "      <td>0.065383</td>\n",
       "      <td>0.158645</td>\n",
       "      <td>-0.065012</td>\n",
       "      <td>0.037106</td>\n",
       "      <td>-0.076911</td>\n",
       "      <td>0.143909</td>\n",
       "      <td>0.006019</td>\n",
       "      <td>...</td>\n",
       "      <td>-0.050611</td>\n",
       "      <td>0.044046</td>\n",
       "      <td>-0.109570</td>\n",
       "      <td>0.085027</td>\n",
       "      <td>-0.016025</td>\n",
       "      <td>0.043716</td>\n",
       "      <td>0.128514</td>\n",
       "      <td>-0.144048</td>\n",
       "      <td>-0.067072</td>\n",
       "      <td>0.067050</td>\n",
       "    </tr>\n",
       "    <tr>\n",
       "      <th>5</th>\n",
       "      <td>bathroom</td>\n",
       "      <td>-0.001828</td>\n",
       "      <td>0.255573</td>\n",
       "      <td>-0.085653</td>\n",
       "      <td>-0.120211</td>\n",
       "      <td>-0.296158</td>\n",
       "      <td>-0.053014</td>\n",
       "      <td>0.055130</td>\n",
       "      <td>-0.262974</td>\n",
       "      <td>0.078518</td>\n",
       "      <td>...</td>\n",
       "      <td>-0.223451</td>\n",
       "      <td>-0.080461</td>\n",
       "      <td>-0.232065</td>\n",
       "      <td>-0.012175</td>\n",
       "      <td>0.101244</td>\n",
       "      <td>0.054207</td>\n",
       "      <td>-0.008718</td>\n",
       "      <td>-0.286355</td>\n",
       "      <td>-0.177458</td>\n",
       "      <td>0.123361</td>\n",
       "    </tr>\n",
       "    <tr>\n",
       "      <th>6</th>\n",
       "      <td>decor</td>\n",
       "      <td>-0.065441</td>\n",
       "      <td>0.146884</td>\n",
       "      <td>-0.029185</td>\n",
       "      <td>0.029604</td>\n",
       "      <td>-0.076079</td>\n",
       "      <td>-0.155165</td>\n",
       "      <td>0.008318</td>\n",
       "      <td>0.000991</td>\n",
       "      <td>-0.064184</td>\n",
       "      <td>...</td>\n",
       "      <td>-0.213783</td>\n",
       "      <td>-0.121507</td>\n",
       "      <td>-0.246935</td>\n",
       "      <td>-0.233755</td>\n",
       "      <td>0.126129</td>\n",
       "      <td>0.258441</td>\n",
       "      <td>-0.015208</td>\n",
       "      <td>-0.332384</td>\n",
       "      <td>-0.057919</td>\n",
       "      <td>0.107391</td>\n",
       "    </tr>\n",
       "    <tr>\n",
       "      <th>7</th>\n",
       "      <td>security</td>\n",
       "      <td>0.150631</td>\n",
       "      <td>0.167116</td>\n",
       "      <td>-0.118544</td>\n",
       "      <td>-0.229363</td>\n",
       "      <td>-0.171779</td>\n",
       "      <td>-0.221081</td>\n",
       "      <td>0.259167</td>\n",
       "      <td>-0.165931</td>\n",
       "      <td>-0.111651</td>\n",
       "      <td>...</td>\n",
       "      <td>-0.153325</td>\n",
       "      <td>-0.290101</td>\n",
       "      <td>-0.202344</td>\n",
       "      <td>-0.063207</td>\n",
       "      <td>0.244712</td>\n",
       "      <td>0.235543</td>\n",
       "      <td>-0.192106</td>\n",
       "      <td>-0.293393</td>\n",
       "      <td>-0.144666</td>\n",
       "      <td>0.083223</td>\n",
       "    </tr>\n",
       "    <tr>\n",
       "      <th>8</th>\n",
       "      <td>lock</td>\n",
       "      <td>0.136257</td>\n",
       "      <td>0.151273</td>\n",
       "      <td>-0.191549</td>\n",
       "      <td>-0.334461</td>\n",
       "      <td>-0.237539</td>\n",
       "      <td>-0.067312</td>\n",
       "      <td>0.133114</td>\n",
       "      <td>-0.224572</td>\n",
       "      <td>-0.058581</td>\n",
       "      <td>...</td>\n",
       "      <td>-0.244534</td>\n",
       "      <td>-0.295077</td>\n",
       "      <td>-0.336320</td>\n",
       "      <td>0.036913</td>\n",
       "      <td>0.356542</td>\n",
       "      <td>0.463846</td>\n",
       "      <td>-0.153174</td>\n",
       "      <td>-0.295808</td>\n",
       "      <td>-0.540657</td>\n",
       "      <td>0.095671</td>\n",
       "    </tr>\n",
       "    <tr>\n",
       "      <th>9</th>\n",
       "      <td>break</td>\n",
       "      <td>-0.023993</td>\n",
       "      <td>0.103559</td>\n",
       "      <td>-0.166736</td>\n",
       "      <td>-0.146084</td>\n",
       "      <td>-0.102323</td>\n",
       "      <td>-0.086234</td>\n",
       "      <td>-0.033532</td>\n",
       "      <td>-0.054762</td>\n",
       "      <td>-0.100589</td>\n",
       "      <td>...</td>\n",
       "      <td>-0.180171</td>\n",
       "      <td>0.000193</td>\n",
       "      <td>-0.155325</td>\n",
       "      <td>-0.105210</td>\n",
       "      <td>0.124581</td>\n",
       "      <td>0.386774</td>\n",
       "      <td>-0.016124</td>\n",
       "      <td>-0.187542</td>\n",
       "      <td>-0.251992</td>\n",
       "      <td>0.113575</td>\n",
       "    </tr>\n",
       "    <tr>\n",
       "      <th>10</th>\n",
       "      <td>outside</td>\n",
       "      <td>-0.013320</td>\n",
       "      <td>0.097725</td>\n",
       "      <td>-0.104408</td>\n",
       "      <td>-0.053829</td>\n",
       "      <td>-0.220477</td>\n",
       "      <td>-0.054391</td>\n",
       "      <td>-0.046519</td>\n",
       "      <td>0.018750</td>\n",
       "      <td>0.141456</td>\n",
       "      <td>...</td>\n",
       "      <td>-0.038397</td>\n",
       "      <td>0.020253</td>\n",
       "      <td>-0.338195</td>\n",
       "      <td>-0.045203</td>\n",
       "      <td>0.154855</td>\n",
       "      <td>0.131844</td>\n",
       "      <td>0.137675</td>\n",
       "      <td>-0.278167</td>\n",
       "      <td>-0.216505</td>\n",
       "      <td>0.103897</td>\n",
       "    </tr>\n",
       "    <tr>\n",
       "      <th>11</th>\n",
       "      <td>security</td>\n",
       "      <td>0.150631</td>\n",
       "      <td>0.167116</td>\n",
       "      <td>-0.118544</td>\n",
       "      <td>-0.229363</td>\n",
       "      <td>-0.171779</td>\n",
       "      <td>-0.221081</td>\n",
       "      <td>0.259167</td>\n",
       "      <td>-0.165931</td>\n",
       "      <td>-0.111651</td>\n",
       "      <td>...</td>\n",
       "      <td>-0.153325</td>\n",
       "      <td>-0.290101</td>\n",
       "      <td>-0.202344</td>\n",
       "      <td>-0.063207</td>\n",
       "      <td>0.244712</td>\n",
       "      <td>0.235543</td>\n",
       "      <td>-0.192106</td>\n",
       "      <td>-0.293393</td>\n",
       "      <td>-0.144666</td>\n",
       "      <td>0.083223</td>\n",
       "    </tr>\n",
       "    <tr>\n",
       "      <th>12</th>\n",
       "      <td>door</td>\n",
       "      <td>-0.056999</td>\n",
       "      <td>0.069339</td>\n",
       "      <td>-0.032203</td>\n",
       "      <td>0.028713</td>\n",
       "      <td>0.013801</td>\n",
       "      <td>0.017240</td>\n",
       "      <td>-0.026787</td>\n",
       "      <td>-0.163499</td>\n",
       "      <td>0.051004</td>\n",
       "      <td>...</td>\n",
       "      <td>0.000741</td>\n",
       "      <td>-0.012522</td>\n",
       "      <td>-0.178093</td>\n",
       "      <td>0.088839</td>\n",
       "      <td>0.033441</td>\n",
       "      <td>0.035608</td>\n",
       "      <td>0.021564</td>\n",
       "      <td>-0.256997</td>\n",
       "      <td>-0.094379</td>\n",
       "      <td>0.104890</td>\n",
       "    </tr>\n",
       "    <tr>\n",
       "      <th>13</th>\n",
       "      <td>employee</td>\n",
       "      <td>0.009352</td>\n",
       "      <td>0.032603</td>\n",
       "      <td>-0.051948</td>\n",
       "      <td>-0.037735</td>\n",
       "      <td>-0.023761</td>\n",
       "      <td>0.090752</td>\n",
       "      <td>0.032253</td>\n",
       "      <td>-0.106063</td>\n",
       "      <td>-0.022066</td>\n",
       "      <td>...</td>\n",
       "      <td>0.087602</td>\n",
       "      <td>0.105287</td>\n",
       "      <td>-0.176961</td>\n",
       "      <td>-0.061235</td>\n",
       "      <td>-0.053722</td>\n",
       "      <td>0.065088</td>\n",
       "      <td>0.025095</td>\n",
       "      <td>-0.071809</td>\n",
       "      <td>-0.110512</td>\n",
       "      <td>0.046390</td>\n",
       "    </tr>\n",
       "    <tr>\n",
       "      <th>14</th>\n",
       "      <td>curious</td>\n",
       "      <td>-0.047012</td>\n",
       "      <td>-0.086103</td>\n",
       "      <td>0.033958</td>\n",
       "      <td>0.078726</td>\n",
       "      <td>0.127823</td>\n",
       "      <td>0.034551</td>\n",
       "      <td>-0.102081</td>\n",
       "      <td>0.111934</td>\n",
       "      <td>0.055721</td>\n",
       "      <td>...</td>\n",
       "      <td>0.118238</td>\n",
       "      <td>0.134365</td>\n",
       "      <td>0.215141</td>\n",
       "      <td>0.112595</td>\n",
       "      <td>-0.064199</td>\n",
       "      <td>-0.069741</td>\n",
       "      <td>0.070787</td>\n",
       "      <td>0.207898</td>\n",
       "      <td>0.144776</td>\n",
       "      <td>-0.093073</td>\n",
       "    </tr>\n",
       "    <tr>\n",
       "      <th>15</th>\n",
       "      <td>helpful</td>\n",
       "      <td>-0.190700</td>\n",
       "      <td>-0.584665</td>\n",
       "      <td>0.322941</td>\n",
       "      <td>0.566274</td>\n",
       "      <td>0.446880</td>\n",
       "      <td>0.307771</td>\n",
       "      <td>-0.531458</td>\n",
       "      <td>0.852783</td>\n",
       "      <td>0.009455</td>\n",
       "      <td>...</td>\n",
       "      <td>0.161164</td>\n",
       "      <td>0.113281</td>\n",
       "      <td>0.245377</td>\n",
       "      <td>0.252849</td>\n",
       "      <td>-0.170530</td>\n",
       "      <td>-0.017152</td>\n",
       "      <td>-0.128975</td>\n",
       "      <td>0.407469</td>\n",
       "      <td>0.186717</td>\n",
       "      <td>-0.193631</td>\n",
       "    </tr>\n",
       "  </tbody>\n",
       "</table>\n",
       "<p>16 rows × 129 columns</p>\n",
       "</div>"
      ],
      "text/plain": [
       "           w         0         1         2         3         4         5  \\\n",
       "0       need -0.153277  0.151049  0.049563  0.005724 -0.281003  0.039933   \n",
       "1      major  0.048864  0.170309 -0.091371 -0.051421 -0.126080 -0.056660   \n",
       "2     carpet  0.037575  0.274496 -0.076754 -0.225906  0.010641  0.167724   \n",
       "3    curtain  0.160241  0.326806 -0.263795 -0.255988 -0.343599 -0.274087   \n",
       "4     update -0.124054  0.023317  0.065383  0.158645 -0.065012  0.037106   \n",
       "5   bathroom -0.001828  0.255573 -0.085653 -0.120211 -0.296158 -0.053014   \n",
       "6      decor -0.065441  0.146884 -0.029185  0.029604 -0.076079 -0.155165   \n",
       "7   security  0.150631  0.167116 -0.118544 -0.229363 -0.171779 -0.221081   \n",
       "8       lock  0.136257  0.151273 -0.191549 -0.334461 -0.237539 -0.067312   \n",
       "9      break -0.023993  0.103559 -0.166736 -0.146084 -0.102323 -0.086234   \n",
       "10   outside -0.013320  0.097725 -0.104408 -0.053829 -0.220477 -0.054391   \n",
       "11  security  0.150631  0.167116 -0.118544 -0.229363 -0.171779 -0.221081   \n",
       "12      door -0.056999  0.069339 -0.032203  0.028713  0.013801  0.017240   \n",
       "13  employee  0.009352  0.032603 -0.051948 -0.037735 -0.023761  0.090752   \n",
       "14   curious -0.047012 -0.086103  0.033958  0.078726  0.127823  0.034551   \n",
       "15   helpful -0.190700 -0.584665  0.322941  0.566274  0.446880  0.307771   \n",
       "\n",
       "           6         7         8  ...       118       119       120       121  \\\n",
       "0   0.116026  0.030078 -0.024215  ... -0.153277  0.014198 -0.228280  0.047854   \n",
       "1   0.118470 -0.097470 -0.077731  ... -0.006660 -0.010731 -0.260449 -0.105582   \n",
       "2   0.117246 -0.328181  0.119915  ...  0.099799  0.045327 -0.266834 -0.024726   \n",
       "3   0.218184 -0.271549 -0.123203  ... -0.220831 -0.150689 -0.231832 -0.192851   \n",
       "4  -0.076911  0.143909  0.006019  ... -0.050611  0.044046 -0.109570  0.085027   \n",
       "5   0.055130 -0.262974  0.078518  ... -0.223451 -0.080461 -0.232065 -0.012175   \n",
       "6   0.008318  0.000991 -0.064184  ... -0.213783 -0.121507 -0.246935 -0.233755   \n",
       "7   0.259167 -0.165931 -0.111651  ... -0.153325 -0.290101 -0.202344 -0.063207   \n",
       "8   0.133114 -0.224572 -0.058581  ... -0.244534 -0.295077 -0.336320  0.036913   \n",
       "9  -0.033532 -0.054762 -0.100589  ... -0.180171  0.000193 -0.155325 -0.105210   \n",
       "10 -0.046519  0.018750  0.141456  ... -0.038397  0.020253 -0.338195 -0.045203   \n",
       "11  0.259167 -0.165931 -0.111651  ... -0.153325 -0.290101 -0.202344 -0.063207   \n",
       "12 -0.026787 -0.163499  0.051004  ...  0.000741 -0.012522 -0.178093  0.088839   \n",
       "13  0.032253 -0.106063 -0.022066  ...  0.087602  0.105287 -0.176961 -0.061235   \n",
       "14 -0.102081  0.111934  0.055721  ...  0.118238  0.134365  0.215141  0.112595   \n",
       "15 -0.531458  0.852783  0.009455  ...  0.161164  0.113281  0.245377  0.252849   \n",
       "\n",
       "         122       123       124       125       126       127  \n",
       "0  -0.089114  0.038555  0.213016 -0.341551 -0.012967  0.001896  \n",
       "1   0.021848  0.051685 -0.048613 -0.263173 -0.058572  0.194312  \n",
       "2  -0.008895 -0.058412  0.029815 -0.265493 -0.169545  0.037877  \n",
       "3   0.309888  0.242962 -0.089342 -0.323026 -0.276566  0.084744  \n",
       "4  -0.016025  0.043716  0.128514 -0.144048 -0.067072  0.067050  \n",
       "5   0.101244  0.054207 -0.008718 -0.286355 -0.177458  0.123361  \n",
       "6   0.126129  0.258441 -0.015208 -0.332384 -0.057919  0.107391  \n",
       "7   0.244712  0.235543 -0.192106 -0.293393 -0.144666  0.083223  \n",
       "8   0.356542  0.463846 -0.153174 -0.295808 -0.540657  0.095671  \n",
       "9   0.124581  0.386774 -0.016124 -0.187542 -0.251992  0.113575  \n",
       "10  0.154855  0.131844  0.137675 -0.278167 -0.216505  0.103897  \n",
       "11  0.244712  0.235543 -0.192106 -0.293393 -0.144666  0.083223  \n",
       "12  0.033441  0.035608  0.021564 -0.256997 -0.094379  0.104890  \n",
       "13 -0.053722  0.065088  0.025095 -0.071809 -0.110512  0.046390  \n",
       "14 -0.064199 -0.069741  0.070787  0.207898  0.144776 -0.093073  \n",
       "15 -0.170530 -0.017152 -0.128975  0.407469  0.186717 -0.193631  \n",
       "\n",
       "[16 rows x 129 columns]"
      ]
     },
     "execution_count": 220,
     "metadata": {},
     "output_type": "execute_result"
    }
   ],
   "source": [
    "embed # this is what the embedded sentence looks like"
   ]
  },
  {
   "cell_type": "code",
   "execution_count": 221,
   "metadata": {
    "id": "LbuLrpWtw4Xn"
   },
   "outputs": [],
   "source": [
    "# use to compute similarity\n",
    "from sklearn.metrics.pairwise import cosine_similarity\n",
    "\n",
    "# retrieve index for each word\n",
    "wordindex = pd.DataFrame(tokenizer.word_index.items(), columns = ['w', 'id'])\n",
    "\n",
    "# Retrieve embedding weights from service model\n",
    "embedwts = pd.DataFrame(model_service.layers[1].get_weights()[0])\n",
    "embedwts['id'] = embedwts.index.values\n",
    "\n",
    "# merge word:index with index:embedding\n",
    "wordindex = wordindex.merge(embedwts, how = 'left', on = 'id')\n",
    "\n",
    "# Similarity matrix, remember this is similarity w.r.t. how similar\n",
    "# the words are in their ability to predict service quality\n",
    "simmatrix = pd.DataFrame(cosine_similarity(np.array(wordindex[list(range(EMBED_SIZE))])))\n",
    "simmatrix.index = wordindex.w\n",
    "simmatrix.columns = wordindex.w"
   ]
  },
  {
   "cell_type": "code",
   "execution_count": 222,
   "metadata": {
    "id": "WrnTw9lUw4Xn",
    "outputId": "d28ccb54-1c54-4d66-eb2e-6cbf5cc24572"
   },
   "outputs": [
    {
     "data": {
      "text/plain": [
       "w\n",
       "helpful                      1.000000\n",
       "wonderful                    0.951756\n",
       "excellent                    0.950727\n",
       "easy                         0.946147\n",
       "conveniently_locate          0.939649\n",
       "spice                        0.938634\n",
       "22nd                         0.936050\n",
       "very_friendly_and_helpful    0.931041\n",
       "best                         0.930881\n",
       "russian_guest                0.930526\n",
       "Name: helpful, dtype: float32"
      ]
     },
     "execution_count": 222,
     "metadata": {},
     "output_type": "execute_result"
    }
   ],
   "source": [
    "# most \"similar\" to helpful\n",
    "simmatrix['helpful'].sort_values(ascending = False).head(10)"
   ]
  },
  {
   "cell_type": "code",
   "execution_count": 223,
   "metadata": {
    "id": "1QJ0zZj9w4Xn",
    "outputId": "b8c82202-191e-4c0e-f5fc-339c01f0cefa"
   },
   "outputs": [
    {
     "data": {
      "text/plain": [
       "w\n",
       "rude                    1.000000\n",
       "indifferent             0.965205\n",
       "zero                    0.964413\n",
       "totally_unacceptable    0.963160\n",
       "useless                 0.959357\n",
       "no_apology              0.959173\n",
       "unhelpful               0.958967\n",
       "argue                   0.957434\n",
       "turn_into               0.957403\n",
       "spider                  0.956066\n",
       "Name: rude, dtype: float32"
      ]
     },
     "execution_count": 223,
     "metadata": {},
     "output_type": "execute_result"
    }
   ],
   "source": [
    "# most \"similar\" to rude\n",
    "simmatrix['rude'].sort_values(ascending = False).head(10)"
   ]
  },
  {
   "cell_type": "code",
   "execution_count": 224,
   "metadata": {
    "id": "v-nAsXw3w4Xn"
   },
   "outputs": [],
   "source": [
    "# let's do the same thing for rooms\n",
    "# retrieve index for each word\n",
    "wordindex = pd.DataFrame(tokenizer.word_index.items(), columns = ['w', 'id'])\n",
    "\n",
    "# Retrieve embedding weights from service model\n",
    "embedwts = pd.DataFrame(model_rooms.layers[1].get_weights()[0])\n",
    "embedwts['id'] = embedwts.index.values\n",
    "\n",
    "# merge word:index with index:embedding\n",
    "wordindex = wordindex.merge(embedwts, how = 'left', on = 'id')\n",
    "\n",
    "# Similarity matrix, remember this is similarity w.r.t. how similar\n",
    "# the words are in their ability to predict service quality\n",
    "simmatrix = pd.DataFrame(cosine_similarity(np.array(wordindex[list(range(EMBED_SIZE))])))\n",
    "simmatrix.index = wordindex.w\n",
    "simmatrix.columns = wordindex.w"
   ]
  },
  {
   "cell_type": "code",
   "execution_count": 225,
   "metadata": {
    "id": "A0AZk0-fw4Xn",
    "outputId": "7f217a27-ce48-4496-cf82-0adc41132392"
   },
   "outputs": [
    {
     "data": {
      "text/plain": [
       "w\n",
       "helpful                  1.000000\n",
       "italian_restaurant       0.918230\n",
       "nightly_entertainment    0.906130\n",
       "north                    0.905065\n",
       "stroll                   0.904486\n",
       "plastic_bag              0.899391\n",
       "free_weight              0.897521\n",
       "time                     0.893944\n",
       "i-95                     0.891653\n",
       "professionalism          0.890702\n",
       "Name: helpful, dtype: float32"
      ]
     },
     "execution_count": 225,
     "metadata": {},
     "output_type": "execute_result"
    }
   ],
   "source": [
    "# most \"similar\" to helpful\n",
    "simmatrix['helpful'].sort_values(ascending = False).head(10)"
   ]
  },
  {
   "cell_type": "code",
   "execution_count": 226,
   "metadata": {
    "id": "IwfM4Hu1w4Xn",
    "outputId": "70ebc379-698c-4a44-837c-a6aa34672690"
   },
   "outputs": [
    {
     "data": {
      "text/plain": [
       "w\n",
       "rude                  1.000000\n",
       "run_down              0.955662\n",
       "updating              0.946852\n",
       "shortage              0.946185\n",
       "their_parent          0.945724\n",
       "most_disappointing    0.943522\n",
       "hassle                0.942229\n",
       "bug                   0.941843\n",
       "onsite                0.940821\n",
       "useless               0.939832\n",
       "Name: rude, dtype: float32"
      ]
     },
     "execution_count": 226,
     "metadata": {},
     "output_type": "execute_result"
    }
   ],
   "source": [
    "# most \"similar\" to rude\n",
    "simmatrix['rude'].sort_values(ascending = False).head(10)"
   ]
  },
  {
   "cell_type": "code",
   "execution_count": 227,
   "metadata": {
    "id": "zfsEgd5Ww4Xn",
    "outputId": "5158bc0e-092f-4f3c-a623-9c626c0d70ff"
   },
   "outputs": [
    {
     "data": {
      "text/plain": [
       "w\n",
       "dirty                  1.000000\n",
       "filthy                 0.972740\n",
       "ceiling                0.958781\n",
       "stain                  0.953253\n",
       "disgusting             0.950706\n",
       "my_credit_card         0.949865\n",
       "date                   0.942352\n",
       "not_worth_the_money    0.942184\n",
       "tiny                   0.940892\n",
       "horrible               0.940084\n",
       "Name: dirty, dtype: float32"
      ]
     },
     "execution_count": 227,
     "metadata": {},
     "output_type": "execute_result"
    }
   ],
   "source": [
    "# most \"similar\" to dirty\n",
    "simmatrix['dirty'].sort_values(ascending = False).head(10)"
   ]
  },
  {
   "cell_type": "code",
   "execution_count": 267,
   "metadata": {
    "id": "PKM1pnPnw4Xn",
    "outputId": "95a27d53-26fd-43c5-ff12-dfd168516ce8"
   },
   "outputs": [
    {
     "data": {
      "text/plain": [
       "w\n",
       "view             1.000000\n",
       "location         0.831079\n",
       "tin              0.779510\n",
       "luxury           0.775344\n",
       "would_def        0.769979\n",
       "city_view        0.768970\n",
       "umbrella         0.767145\n",
       "shape            0.767103\n",
       "any_complaint    0.763676\n",
       "east             0.761724\n",
       "Name: view, dtype: float32"
      ]
     },
     "execution_count": 267,
     "metadata": {},
     "output_type": "execute_result"
    }
   ],
   "source": [
    "# most \"similar\" to view\n",
    "simmatrix['view'].sort_values(ascending = False).head(10)"
   ]
  },
  {
   "cell_type": "markdown",
   "metadata": {
    "id": "MmkuwYS4w4Xl"
   },
   "source": [
    "### Examine marginal effect on service and room rating for each word in review"
   ]
  },
  {
   "cell_type": "markdown",
   "metadata": {
    "id": "aLXKe5aRw4Xl"
   },
   "source": [
    "#### Load Trained Models for Service & Room Quality"
   ]
  },
  {
   "cell_type": "code",
   "execution_count": 213,
   "metadata": {
    "id": "K2D7fgjWw4Xm"
   },
   "outputs": [],
   "source": [
    "# Initialize Model\n",
    "model_service = bilstm_attention_model(MAX_FEATURES+1,\n",
    "                                       MAX_LEN,\n",
    "                                       EMBED_SIZE,\n",
    "                                       RNN_CELL_SIZE, \n",
    "                                       ATTEN_SIZE,\n",
    "                                       DENSE_SIZE, \n",
    "                                       DROPOUT=DROPOUT)\n",
    "model_rooms = bilstm_attention_model(MAX_FEATURES+1,\n",
    "                                       MAX_LEN,\n",
    "                                       EMBED_SIZE,\n",
    "                                       RNN_CELL_SIZE, \n",
    "                                       ATTEN_SIZE,\n",
    "                                       DENSE_SIZE, \n",
    "                                       DROPOUT=DROPOUT)\n",
    "# Load weights\n",
    "model_service.load_weights('./models/bilstm_attention_r_service.h5')\n",
    "model_rooms.load_weights('./models/bilstm_attention_r_rooms.h5')\n",
    "\n"
   ]
  },
  {
   "cell_type": "code",
   "execution_count": 214,
   "metadata": {
    "id": "7WidMxUJw4Xm"
   },
   "outputs": [],
   "source": [
    "def get_mfx(txt, tokenizer, model, MAX_LEN=300):\n",
    "    \"\"\"\n",
    "    Obtain marginal effect on prediction using\n",
    "    leave one out (and replace with empty token) method\n",
    "    \"\"\"\n",
    "    list_token = tokenizer.texts_to_sequences([txt])\n",
    "    # 0 Pad the tokenized data\n",
    "    X_example = pad_sequences(list_token, maxlen=MAX_LEN)\n",
    "    rating0 = model(X_example).numpy()[0][0]\n",
    "    mfx = list()\n",
    "    for i,w in enumerate(txt.split()):\n",
    "        list_token = tokenizer.texts_to_sequences([txt])\n",
    "        list_token[0][i]=0 # replace focal word with \"missing\"\n",
    "        X_example = pad_sequences(list_token, maxlen=MAX_LEN)\n",
    "        drating = rating0-model(X_example).numpy()[0][0]\n",
    "        mfx.append([w,drating])\n",
    "    return pd.DataFrame(mfx, columns = ['w','mfx'])"
   ]
  },
  {
   "cell_type": "markdown",
   "metadata": {
    "id": "kdiJnT7Yw4Xm"
   },
   "source": [
    "#### Marginal contribution of each word to predicted service quality"
   ]
  },
  {
   "cell_type": "code",
   "execution_count": 215,
   "metadata": {
    "code_folding": [],
    "id": "sSGU48VIw4Xm"
   },
   "outputs": [],
   "source": [
    "# compute mfx for service\n",
    "mfx = get_mfx(r.processed_review_filter, tokenizer, model_service, MAX_LEN=300)\n",
    "mfx['abs_mfx'] = mfx.mfx.map(abs)\n",
    "mfx['abs_rank'] = mfx.abs_mfx.rank(ascending = False)"
   ]
  },
  {
   "cell_type": "code",
   "execution_count": 216,
   "metadata": {
    "id": "wKcCB0iCw4Xm",
    "outputId": "eba4db44-aae8-4c3d-9bc2-9f96d925207c"
   },
   "outputs": [
    {
     "data": {
      "text/plain": [
       "<matplotlib.lines.Line2D at 0x7fdf68452be0>"
      ]
     },
     "execution_count": 216,
     "metadata": {},
     "output_type": "execute_result"
    },
    {
     "data": {
      "image/png": "[encoded data removed]",
      "text/plain": [
       "<Figure size 360x1440 with 1 Axes>"
      ]
     },
     "metadata": {
      "needs_background": "light"
     },
     "output_type": "display_data"
    }
   ],
   "source": [
    "# Plot marginal effects\n",
    "mfx[::-1].plot(y='mfx', x = 'w', kind = 'barh',legend = None, figsize = (5,20), title = 'Marginal Contribution to Service Rating')\n",
    "plt.axvline(x = 0, color = 'black', linewidth = 1)"
   ]
  },
  {
   "cell_type": "markdown",
   "metadata": {
    "id": "lggNga94w4Xm"
   },
   "source": [
    "#### Marginal contribution of each word to predicted room quality"
   ]
  },
  {
   "cell_type": "code",
   "execution_count": 217,
   "metadata": {
    "id": "VtMjkod3w4Xm"
   },
   "outputs": [],
   "source": [
    "mfx = get_mfx(r.processed_review_filter, tokenizer, model_rooms, MAX_LEN=300)\n",
    "mfx['abs_mfx'] = mfx.mfx.map(abs)\n",
    "mfx['abs_rank'] = mfx.abs_mfx.rank(ascending = False)"
   ]
  },
  {
   "cell_type": "code",
   "execution_count": 218,
   "metadata": {
    "id": "lKqqeE1Dw4Xm",
    "outputId": "cd77bd66-daa1-4aa2-d3e6-626c74debde6"
   },
   "outputs": [
    {
     "data": {
      "text/plain": [
       "<matplotlib.lines.Line2D at 0x7fdf604f5e50>"
      ]
     },
     "execution_count": 218,
     "metadata": {},
     "output_type": "execute_result"
    },
    {
     "data": {
      "image/png": "[encoded data removed]",
      "text/plain": [
       "<Figure size 360x1440 with 1 Axes>"
      ]
     },
     "metadata": {
      "needs_background": "light"
     },
     "output_type": "display_data"
    }
   ],
   "source": [
    "mfx[::-1].plot(y='mfx', x = 'w', kind = 'barh',legend = None, figsize = (5,20), title = 'Marginal Contribution to Room Rating')\n",
    "plt.axvline(x = 0, color = 'black', linewidth = 1)"
   ]
  }
 ],
 "metadata": {
  "accelerator": "GPU",
  "colab": {
   "collapsed_sections": [
    "b0wosT_iw4XV",
    "6uKHKt4fw4XX",
    "zH1AK6uPw4XZ",
    "RfiiEh8Bw4Xi",
    "lvU0gy0rw4Xi",
    "AL22syi5w4Xi",
    "rjPWxOHFw4Xk",
    "zZQ26OcXw4Xl",
    "CK-V-X8sw4Xl",
    "MmkuwYS4w4Xl",
    "aLXKe5aRw4Xl",
    "kdiJnT7Yw4Xm",
    "lggNga94w4Xm",
    "Kg6o-xgWw4Xm"
   ],
   "name": "NLP_Example.ipynb",
   "provenance": []
  },
  "hide_input": false,
  "kernelspec": {
   "display_name": "Python 3",
   "language": "python",
   "name": "python3"
  },
  "language_info": {
   "codemirror_mode": {
    "name": "ipython",
    "version": 3
   },
   "file_extension": ".py",
   "mimetype": "text/x-python",
   "name": "python",
   "nbconvert_exporter": "python",
   "pygments_lexer": "ipython3",
   "version": "3.7.9"
  },
  "latex_envs": {
   "LaTeX_envs_menu_present": true,
   "autoclose": true,
   "autocomplete": false,
   "bibliofile": "biblio.bib",
   "cite_by": "apalike",
   "current_citInitial": 1,
   "eqLabelWithNumbers": true,
   "eqNumInitial": 1,
   "hotkeys": {
    "equation": "Ctrl-E",
    "itemize": "Ctrl-I"
   },
   "labels_anchors": false,
   "latex_user_defs": false,
   "report_style_numbering": false,
   "user_envs_cfg": false
  }
 },
 "nbformat": 4,
 "nbformat_minor": 1
}
