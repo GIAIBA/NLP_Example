{
 "cells": [
  {
   "cell_type": "markdown",
   "metadata": {},
   "source": [
    "Adapted from [Matthew McAteer](https://matthewmcateer.me/blog/getting-started-with-attention-for-classification/)"
   ]
  },
  {
   "cell_type": "markdown",
   "metadata": {},
   "source": [
    "# Import required libraries"
   ]
  },
  {
   "cell_type": "code",
   "execution_count": 1,
   "metadata": {},
   "outputs": [
    {
     "name": "stdout",
     "output_type": "stream",
     "text": [
      "INFO: Pandarallel will run on 5 workers.\n",
      "INFO: Pandarallel will use Memory file system to transfer data between the main process and workers.\n",
      "WARNING:tensorflow:From <ipython-input-1-06fb28c607ff>:21: is_gpu_available (from tensorflow.python.framework.test_util) is deprecated and will be removed in a future version.\n",
      "Instructions for updating:\n",
      "Use `tf.config.list_physical_devices('GPU')` instead.\n"
     ]
    },
    {
     "data": {
      "text/plain": [
       "True"
      ]
     },
     "execution_count": 1,
     "metadata": {},
     "output_type": "execute_result"
    }
   ],
   "source": [
    "# standard imports (installed by default w/ anaconda)\n",
    "import pandas as pd, numpy as np, os,random, progressbar, matplotlib.pyplot as plt,gc,re\n",
    "from itertools import chain\n",
    "from pandarallel import pandarallel\n",
    "pandarallel.initialize(nb_workers=5)\n",
    "%matplotlib inline\n",
    "\n",
    "from collections import Counter\n",
    "import tensorflow as tf\n",
    "\n",
    "from tensorflow.keras.layers.experimental.preprocessing import TextVectorization\n",
    "import tensorflow.keras\n",
    "from tensorflow.keras.preprocessing.text import Tokenizer\n",
    "from tensorflow.keras.preprocessing.sequence import pad_sequences\n",
    "from tensorflow.keras.layers import Concatenate, Dense, Input, LSTM, Embedding, Dropout, Activation, GRU, Flatten\n",
    "from tensorflow.keras.layers import Bidirectional, GlobalMaxPool1D\n",
    "from tensorflow.keras.models import Model, Sequential\n",
    "from tensorflow.keras.layers import Convolution1D\n",
    "from tensorflow.keras import initializers, regularizers, constraints, optimizers, layers\n",
    "from tensorflow.keras.callbacks import EarlyStopping\n",
    "from tensorflow.keras import regularizers\n",
    "print(tf.test.is_gpu_available()) # GPU enabled?\n",
    "tf.config.gpu.set_per_process_memory_growth(True)"
   ]
  },
  {
   "cell_type": "markdown",
   "metadata": {},
   "source": [
    "# Creating a text prediction model"
   ]
  },
  {
   "cell_type": "code",
   "execution_count": 71,
   "metadata": {},
   "outputs": [
    {
     "data": {
      "text/plain": [
       "array(['gd', 'review_id', 'review_date', 'review_rating', 'review_text',\n",
       "       'r_service', 'r_rooms', 'r_sleep_quality', 'r_check_in_front_desk',\n",
       "       'r_business_service_', 'r_value', 'r_location', 'r_cleanliness',\n",
       "       'stopwords', 'reviewlen', 'stopword_pct', 'processed_reviews',\n",
       "       'processed_len', 'processed_review_filter'], dtype=object)"
      ]
     },
     "execution_count": 71,
     "metadata": {},
     "output_type": "execute_result"
    }
   ],
   "source": [
    "# Save/Load preprocessed reviews\n",
    "if 1==1:\n",
    "    data = pd.read_csv('tripadvisor.csv', encoding = 'utf-8', index_col = 0)\n",
    "data.columns.values"
   ]
  },
  {
   "cell_type": "markdown",
   "metadata": {},
   "source": [
    "# Build embedding layer using GLoVE"
   ]
  },
  {
   "cell_type": "code",
   "execution_count": 72,
   "metadata": {},
   "outputs": [
    {
     "name": "stdout",
     "output_type": "stream",
     "text": [
      "Found 400000 word vectors.\n"
     ]
    }
   ],
   "source": [
    "path_to_glove_file = '../../../Resources/glove/glove.6B.300d.txt'\n",
    "glove = {}\n",
    "with open(path_to_glove_file) as f:\n",
    "    for line in f:\n",
    "        word, coefs = line.split(maxsplit=1)\n",
    "        coefs = np.fromstring(coefs, \"f\", sep=\" \")\n",
    "        glove[word] = coefs\n",
    "\n",
    "print(\"Found %s word vectors.\" % len(glove))"
   ]
  },
  {
   "cell_type": "code",
   "execution_count": 73,
   "metadata": {},
   "outputs": [],
   "source": [
    "def parse_reviews_glove(txt):\n",
    "    txt = re.sub('[^a-zA-Z]',' ',txt.strip().lower())\n",
    "    return str(txt)"
   ]
  },
  {
   "cell_type": "code",
   "execution_count": 74,
   "metadata": {},
   "outputs": [],
   "source": [
    "data['glove_txt'] = data.review_text.parallel_apply(lambda x: parse_reviews_glove(x))"
   ]
  },
  {
   "cell_type": "code",
   "execution_count": 84,
   "metadata": {},
   "outputs": [
    {
     "data": {
      "text/plain": [
       "9999"
      ]
     },
     "execution_count": 84,
     "metadata": {},
     "output_type": "execute_result"
    }
   ],
   "source": [
    "# Vectorizer\n",
    "vectorizer = TextVectorization(max_tokens=10000, output_sequence_length=300)\n",
    "text_ds = tf.data.Dataset.from_tensor_slices(data.glove_txt.astype(str)).batch(128)\n",
    "vectorizer.adapt(text_ds)\n",
    "\n",
    "vocab = vectorizer.get_vocabulary() # get vocab\n",
    "vocab = [v.decode('utf-8') for v in vocab]\n",
    "word_index = dict(zip(vocab, range(len(vocab))))\n",
    "len(vocab)"
   ]
  },
  {
   "cell_type": "code",
   "execution_count": 85,
   "metadata": {},
   "outputs": [
    {
     "name": "stdout",
     "output_type": "stream",
     "text": [
      "this hotel is very tired  the room i stayed in had a window with a broken shutter that had been broken for some time which allowed a light outside that lit the building up at night to shine through the window expect to get white towels one day and striped towels on another  also there is a stale water smell in the bathroom this is not in my opinion worth the price that is demanded wifi is patchy at best and doesn t work in all rooms or the seating area near reception  in the restaurant it does however work the breakfast is very good and the girls who are there are very friendly and polite however  the new nescaf  machine for coffee does not make a good coffee  it was better when they had the coffee on tap from an urn \n"
     ]
    },
    {
     "data": {
      "text/plain": [
       "array([ 21,  14,  11,  16, 719,   2,  17,  10,  57,   8])"
      ]
     },
     "execution_count": 85,
     "metadata": {},
     "output_type": "execute_result"
    }
   ],
   "source": [
    "# How to vecrrize 1 doc\n",
    "print(data.glove_txt[1])\n",
    "output = vectorizer([[data.glove_txt[1]]])\n",
    "output.numpy()[0, :10]"
   ]
  },
  {
   "cell_type": "code",
   "execution_count": 86,
   "metadata": {},
   "outputs": [
    {
     "name": "stdout",
     "output_type": "stream",
     "text": [
      "Converted 9790 words (209 misses)\n"
     ]
    }
   ],
   "source": [
    "# Create embedding lookup table\n",
    "num_tokens = len(vocab) + 2 # 0 reserved for missing, 1 reserved for unknown\n",
    "embedding_dim = 300 # GLOVE 300D version\n",
    "hits = 0\n",
    "misses = 0\n",
    "\n",
    "# Create embedding matrix maps tokens to embedding\n",
    "embedding_matrix = np.zeros((num_tokens, embedding_dim)) # initialize w/ 0's so missing = 0\n",
    "for word, i in word_index.items():\n",
    "    embedding_vector = glove.get(str(word))\n",
    "    if embedding_vector is not None:\n",
    "        # Words not found in embedding index will be all-zeros.\n",
    "        # This includes the representation for \"padding\" and \"OOV\"\n",
    "        embedding_matrix[i] = embedding_vector\n",
    "        hits += 1\n",
    "    else:\n",
    "        misses += 1\n",
    "print(\"Converted %d words (%d misses)\" % (hits, misses))"
   ]
  },
  {
   "cell_type": "code",
   "execution_count": 87,
   "metadata": {},
   "outputs": [],
   "source": [
    "# Define Attention Layer\n",
    "# Basically a weighted average layer over RNN sequence\n",
    "# where weights are learned in training\n",
    "class Attention(tf.keras.Model):\n",
    "    def __init__(self, units):\n",
    "        super(Attention, self).__init__()\n",
    "        self.W1 = tf.keras.layers.Dense(units)\n",
    "        self.W2 = tf.keras.layers.Dense(units)\n",
    "        self.V = tf.keras.layers.Dense(1)\n",
    "\n",
    "    def call(self, features, hidden):\n",
    "        # hidden shape == (batch_size, hidden size)\n",
    "        # hidden_with_time_axis shape == (batch_size, 1, hidden size)\n",
    "        # we are doing this to perform addition to calculate the score\n",
    "        hidden_with_time_axis = tf.expand_dims(hidden, 1)\n",
    "          \n",
    "        # score shape == (batch_size, max_length, 1)\n",
    "        # we get 1 at the last axis because we are applying score to self.V\n",
    "        # the shape of the tensor before applying self.V is (batch_size, max_length, units)\n",
    "        score = tf.nn.tanh(\n",
    "            self.W1(features) + self.W2(hidden_with_time_axis))\n",
    "        # attention_weights shape == (batch_size, max_length, 1)\n",
    "        attention_weights = tf.nn.softmax(self.V(score), axis=1)\n",
    "          \n",
    "        # context_vector shape after sum == (batch_size, hidden_size)\n",
    "        context_vector = attention_weights * features\n",
    "        context_vector = tf.reduce_sum(context_vector, axis=1)\n",
    "        return context_vector, attention_weights\n",
    "    "
   ]
  },
  {
   "cell_type": "code",
   "execution_count": 88,
   "metadata": {},
   "outputs": [],
   "source": [
    "embedding_layer = Embedding(\n",
    "    num_tokens,\n",
    "    embedding_dim,\n",
    "    embeddings_initializer=tf.keras.initializers.Constant(embedding_matrix),\n",
    "    trainable=False,# make this untrainable\n",
    ")"
   ]
  },
  {
   "cell_type": "code",
   "execution_count": 89,
   "metadata": {},
   "outputs": [],
   "source": [
    "# Function to define model\n",
    "def bilstm_attention_model(embedding, MAX_FEATURES=5000,RNN_CELL_SIZE=32, ATTEN_SIZE=10,DENSE_SIZE=54, DROPOUT=.1, l1 = 0., l2 = .01):\n",
    "\n",
    "    int_sequences_input = Input(shape=(None,), dtype=\"int64\")\n",
    "    embedded_sequences = embedding(int_sequences_input)\n",
    "\n",
    "    # Bidirectional LSTM\n",
    "    lstm = Bidirectional(LSTM(RNN_CELL_SIZE, return_sequences = True), name=\"bi_lstm_0\")(embedded_sequences)\n",
    "\n",
    "    # Getting our LSTM outputs\n",
    "    (lstm, forward_h, forward_c, backward_h, backward_c) = Bidirectional(LSTM(RNN_CELL_SIZE, return_sequences=True, return_state=True), name=\"bi_lstm_1\")(lstm)    # # Getting our LSTM outputs\n",
    "    \n",
    "    \n",
    "    # Given bi-directional RNN, must concatenate the forward+ backward hidden states from each RNN \n",
    "    # before computing the attention weights and applying the weighted sum.\n",
    "    state_h = Concatenate()([forward_h, backward_h])\n",
    "    state_c = Concatenate()([forward_c, backward_c])\n",
    "    context_vector, attention_weights = Attention(ATTEN_SIZE)(lstm, state_h)\n",
    "    dense = Dense(int(DENSE_SIZE), activation=\"relu\")(context_vector)\n",
    "    dropout = Dropout(DROPOUT)(dense)\n",
    "    output = Dense(1, activation=\"linear\",\n",
    "                   kernel_regularizer= regularizers.l1_l2(l1=l1, l2=l2))(dropout)\n",
    "    model = tf.keras.Model(inputs=int_sequences_input, outputs=output)\n",
    "    return model"
   ]
  },
  {
   "cell_type": "code",
   "execution_count": 90,
   "metadata": {},
   "outputs": [],
   "source": [
    "# Parameters of model (can change these - choice is a bit of an art)\n",
    "  \n",
    "RNN_CELL_SIZE = 64\n",
    "  \n",
    "ATTEN_SIZE = 20\n",
    "\n",
    "DENSE_SIZE = 16\n",
    "\n",
    "DROPOUT = .1\n",
    "\n",
    "# tokenizer = Tokenizer(num_words=MAX_FEATURES) # Create integer coding of vocab size\n",
    "# tokenizer.fit_on_texts(data.loc[data[dv].notnull(),'processed_review_filter']) # Make text to sequence mapping\n"
   ]
  },
  {
   "cell_type": "code",
   "execution_count": 92,
   "metadata": {
    "scrolled": true
   },
   "outputs": [
    {
     "data": {
      "image/png": "[encoded data removed]",
      "text/plain": [
       "<IPython.core.display.Image object>"
      ]
     },
     "execution_count": 92,
     "metadata": {},
     "output_type": "execute_result"
    }
   ],
   "source": [
    "model = bilstm_attention_model(embedding_layer,\n",
    "                               MAX_FEATURES,\n",
    "                               RNN_CELL_SIZE, \n",
    "                               ATTEN_SIZE,\n",
    "                               DENSE_SIZE, \n",
    "                               DROPOUT=DROPOUT)\n",
    "\n",
    "\n",
    "\n",
    "\n",
    "tf.keras.utils.plot_model(model, show_shapes=True, dpi=80)\n"
   ]
  },
  {
   "cell_type": "code",
   "execution_count": 93,
   "metadata": {},
   "outputs": [],
   "source": [
    "# Full dataset predictors\n",
    "X_all = vectorizer(np.array([[s] for s in data.loc[:,'glove_txt']])).numpy()\n",
    "\n"
   ]
  },
  {
   "cell_type": "code",
   "execution_count": 94,
   "metadata": {},
   "outputs": [
    {
     "data": {
      "text/plain": [
       "array([[ 291,  357,    1, ..., 9782,  124,    8],\n",
       "       [  21,   14,   11, ...,    0,    0,    0],\n",
       "       [   7,   57,   19, ...,    0,    0,    0],\n",
       "       ...,\n",
       "       [  16,  926,    3, ...,    0,    0,    0],\n",
       "       [   7,   57,  758, ...,    0,    0,    0],\n",
       "       [ 113, 1447,  522, ...,    0,    0,    0]])"
      ]
     },
     "execution_count": 94,
     "metadata": {},
     "output_type": "execute_result"
    }
   ],
   "source": [
    "X_all[:10] # sequences of token ID's in column space, 1 row = 1 review"
   ]
  },
  {
   "cell_type": "code",
   "execution_count": null,
   "metadata": {},
   "outputs": [],
   "source": []
  },
  {
   "cell_type": "code",
   "execution_count": 95,
   "metadata": {
    "code_folding": [],
    "scrolled": true
   },
   "outputs": [
    {
     "name": "stdout",
     "output_type": "stream",
     "text": [
      "Epoch 1/100\n",
      "322/322 [==============================] - 24s 75ms/step - loss: 1.6787 - val_loss: 1.1206\n",
      "Epoch 2/100\n",
      "322/322 [==============================] - 23s 72ms/step - loss: 1.1826 - val_loss: 0.8365\n",
      "Epoch 3/100\n",
      "322/322 [==============================] - 23s 72ms/step - loss: 0.9166 - val_loss: 0.8053\n",
      "Epoch 4/100\n",
      "322/322 [==============================] - 24s 73ms/step - loss: 0.7715 - val_loss: 0.7210\n",
      "Epoch 5/100\n",
      "322/322 [==============================] - 24s 73ms/step - loss: 0.6526 - val_loss: 0.6956\n",
      "Epoch 6/100\n",
      "322/322 [==============================] - 24s 73ms/step - loss: 0.5702 - val_loss: 0.7001\n",
      "Epoch 7/100\n",
      "322/322 [==============================] - 24s 73ms/step - loss: 0.5220 - val_loss: 0.6767\n",
      "Epoch 8/100\n",
      "322/322 [==============================] - 24s 73ms/step - loss: 0.4662 - val_loss: 0.7136\n",
      "Epoch 9/100\n",
      "322/322 [==============================] - 23s 73ms/step - loss: 0.4413 - val_loss: 0.6838\n",
      "Epoch 10/100\n",
      "322/322 [==============================] - 23s 72ms/step - loss: 0.3959 - val_loss: 0.6915\n",
      "Epoch 11/100\n",
      "322/322 [==============================] - 23s 72ms/step - loss: 0.3627 - val_loss: 0.6749\n",
      "Epoch 12/100\n",
      "322/322 [==============================] - 23s 72ms/step - loss: 0.3360 - val_loss: 0.7087\n",
      "Epoch 13/100\n",
      "322/322 [==============================] - 23s 72ms/step - loss: 0.3153 - val_loss: 0.6828\n",
      "Epoch 14/100\n",
      "322/322 [==============================] - 23s 72ms/step - loss: 0.3093 - val_loss: 0.6765\n",
      "Epoch 15/100\n",
      "322/322 [==============================] - 23s 72ms/step - loss: 0.3040 - val_loss: 0.7036\n",
      "Epoch 16/100\n",
      "322/322 [==============================] - 23s 72ms/step - loss: 0.2896 - val_loss: 0.6985\n",
      "Epoch 17/100\n",
      "322/322 [==============================] - 23s 72ms/step - loss: 0.2728 - val_loss: 0.7098\n",
      "Epoch 18/100\n",
      "322/322 [==============================] - 23s 72ms/step - loss: 0.2589 - val_loss: 0.6918\n",
      "Epoch 19/100\n",
      "322/322 [==============================] - 23s 72ms/step - loss: 0.2437 - val_loss: 0.7115\n",
      "Epoch 20/100\n",
      "322/322 [==============================] - 23s 72ms/step - loss: 0.2411 - val_loss: 0.7692\n",
      "Epoch 21/100\n",
      "322/322 [==============================] - 23s 72ms/step - loss: 0.2463 - val_loss: 0.7023\n",
      "Epoch 22/100\n",
      "322/322 [==============================] - 23s 72ms/step - loss: 0.2444 - val_loss: 0.7263\n",
      "Epoch 23/100\n",
      "322/322 [==============================] - 23s 72ms/step - loss: 0.2254 - val_loss: 0.6820\n",
      "Epoch 24/100\n",
      "322/322 [==============================] - 23s 72ms/step - loss: 0.2196 - val_loss: 0.7105\n",
      "Epoch 25/100\n",
      "322/322 [==============================] - 23s 72ms/step - loss: 0.2220 - val_loss: 0.6867\n",
      "Epoch 26/100\n",
      "322/322 [==============================] - 23s 72ms/step - loss: 0.2159 - val_loss: 0.6751\n"
     ]
    }
   ],
   "source": [
    "BATCH_SIZE = 50 # number to train in a batch\n",
    "EPOCHS = 100 # complete cycles through training data\n",
    "\n",
    "np.random.seed(1) # seed for reproducible results\n",
    "data['train'] = np.random.binomial(1,.85, size =len(data)) # Randomly assign 15% to testing set\n",
    "data = data.sample(len(data)) # shuffle\n",
    "\n",
    "DVs = ['r_service', 'r_rooms', 'r_value', 'r_location'] # use these DVs\n",
    "\n",
    "training_histories = list()\n",
    "for dv in DVs[:1]:\n",
    "    \n",
    "    cond = (data[dv].notnull())&(data['train']==1) # subset condition for training\n",
    "    \n",
    "    # Tokenize the text (convert to list of IDs)\n",
    "    X_train = vectorizer(np.array([[s] for s in data.loc[cond,'glove_txt']])).numpy()\n",
    "\n",
    "\n",
    "    # Select corresponding training labels\n",
    "    y_train = data.loc[cond,dv]\n",
    "    \n",
    "    # define model\n",
    "    model = bilstm_attention_model(embedding_layer,\n",
    "                                   MAX_FEATURES,\n",
    "                                   RNN_CELL_SIZE, \n",
    "                                   ATTEN_SIZE,\n",
    "                                   DENSE_SIZE, \n",
    "                                   DROPOUT=DROPOUT)\n",
    "\n",
    "    # compile model to maximize mean squared error, use adaptive optimizer\n",
    "    model.compile(loss='mse', optimizer=tf.keras.optimizers.Adam(learning_rate=.01)) # use a custom optimizer: \n",
    "    \n",
    "    # Train\n",
    "    history = model.fit(X_train,y_train,\n",
    "                        batch_size=BATCH_SIZE,\n",
    "                        epochs=EPOCHS,\n",
    "                        validation_split=(.15/.85), # 15% of whole dataset\n",
    "                       callbacks = [EarlyStopping(patience=15, restore_best_weights=True)])\n",
    "    \n",
    "    training_histories.append(history)\n",
    "    \n",
    "    # Save model in Models subfoler, make it if it doesn't exist\n",
    "    try:\n",
    "        os.listdir('./models/')\n",
    "    except:\n",
    "        os.mkdir('./models/')\n",
    "        \n",
    "    # Save model\n",
    "    model.save_weights('./models/bilstm_glove_attention_{}.h5'.format(dv))\n",
    "    \n",
    "    \n",
    "    # predict back on dataset\n",
    "    data[dv+'_pred'] = model.predict(X_all)\n",
    "    \n",
    "    del model\n",
    "    gc.collect()"
   ]
  },
  {
   "cell_type": "markdown",
   "metadata": {},
   "source": [
    "# Diagnostics"
   ]
  },
  {
   "cell_type": "code",
   "execution_count": 96,
   "metadata": {},
   "outputs": [
    {
     "data": {
      "text/html": [
       "<div>\n",
       "<style scoped>\n",
       "    .dataframe tbody tr th:only-of-type {\n",
       "        vertical-align: middle;\n",
       "    }\n",
       "\n",
       "    .dataframe tbody tr th {\n",
       "        vertical-align: top;\n",
       "    }\n",
       "\n",
       "    .dataframe thead th {\n",
       "        text-align: right;\n",
       "    }\n",
       "</style>\n",
       "<table border=\"1\" class=\"dataframe\">\n",
       "  <thead>\n",
       "    <tr style=\"text-align: right;\">\n",
       "      <th></th>\n",
       "      <th>r_service</th>\n",
       "    </tr>\n",
       "  </thead>\n",
       "  <tbody>\n",
       "    <tr>\n",
       "      <th>r_service_pred</th>\n",
       "      <td>-0.000076</td>\n",
       "    </tr>\n",
       "  </tbody>\n",
       "</table>\n",
       "</div>"
      ],
      "text/plain": [
       "                r_service\n",
       "r_service_pred  -0.000076"
      ]
     },
     "execution_count": 96,
     "metadata": {},
     "output_type": "execute_result"
    }
   ],
   "source": [
    "DVs = ['r_service']\n",
    "data.loc[data.train==1,DVs+ [c+'_pred' for c in DVs]].corr().loc[[c+'_pred' for c in DVs],DVs]\n"
   ]
  },
  {
   "cell_type": "code",
   "execution_count": null,
   "metadata": {},
   "outputs": [],
   "source": []
  },
  {
   "cell_type": "code",
   "execution_count": 54,
   "metadata": {},
   "outputs": [
    {
     "data": {
      "text/html": [
       "<div>\n",
       "<style scoped>\n",
       "    .dataframe tbody tr th:only-of-type {\n",
       "        vertical-align: middle;\n",
       "    }\n",
       "\n",
       "    .dataframe tbody tr th {\n",
       "        vertical-align: top;\n",
       "    }\n",
       "\n",
       "    .dataframe thead th {\n",
       "        text-align: right;\n",
       "    }\n",
       "</style>\n",
       "<table border=\"1\" class=\"dataframe\">\n",
       "  <thead>\n",
       "    <tr style=\"text-align: right;\">\n",
       "      <th></th>\n",
       "      <th>r_service</th>\n",
       "    </tr>\n",
       "  </thead>\n",
       "  <tbody>\n",
       "    <tr>\n",
       "      <th>r_service_pred</th>\n",
       "      <td>-0.015412</td>\n",
       "    </tr>\n",
       "  </tbody>\n",
       "</table>\n",
       "</div>"
      ],
      "text/plain": [
       "                r_service\n",
       "r_service_pred  -0.015412"
      ]
     },
     "execution_count": 54,
     "metadata": {},
     "output_type": "execute_result"
    }
   ],
   "source": [
    "data.loc[data.train==0,DVs+ [c+'_pred' for c in DVs]].corr().loc[[c+'_pred' for c in DVs],DVs]"
   ]
  },
  {
   "cell_type": "code",
   "execution_count": 55,
   "metadata": {},
   "outputs": [
    {
     "data": {
      "text/plain": [
       "<AxesSubplot:xlabel='r_service'>"
      ]
     },
     "execution_count": 55,
     "metadata": {},
     "output_type": "execute_result"
    },
    {
     "data": {
      "image/png": "[encoded data removed]",
      "text/plain": [
       "<Figure size 432x288 with 1 Axes>"
      ]
     },
     "metadata": {
      "needs_background": "light"
     },
     "output_type": "display_data"
    }
   ],
   "source": [
    "temp = data[data.train==1].groupby('r_service')['r_service_pred'].agg(['mean','median','std','count'])\n",
    "temp['SE'] = temp['std']/np.sqrt(temp['count'])\n",
    "temp[['mean', 'SE']].plot(kind = 'bar', yerr='SE',legend = None)"
   ]
  },
  {
   "cell_type": "code",
   "execution_count": 422,
   "metadata": {},
   "outputs": [
    {
     "data": {
      "text/plain": [
       "11882    hotel one clean friendly place stay long time ...\n",
       "28535    look golf resort US take friend_who scratch se...\n",
       "22372    easy get airport locate pretty close business ...\n",
       "32286    attend weekend conference resort great special...\n",
       "17931    since hotel connect casino do_not research roo...\n",
       "Name: processed_review_filter, dtype: object"
      ]
     },
     "execution_count": 422,
     "metadata": {},
     "output_type": "execute_result"
    }
   ],
   "source": [
    "data.processed_review_filter.head()"
   ]
  },
  {
   "cell_type": "code",
   "execution_count": 22,
   "metadata": {},
   "outputs": [
    {
     "data": {
      "text/plain": [
       "array([[   2, 1270,  355, 3224, 3782,   11,  132,   13,   11,   43,  208,\n",
       "           3,  621,   23,  222,   80,    4,  535,    7,  427,   66,    3,\n",
       "          24,    6,   12,    4, 2781,  281,   15,    4,  535,  318,  110,\n",
       "           7,   25,   26,  380,  547,  454,  428, 2909,  485,  184, 1003,\n",
       "           3,  754,    3,  822,   17,    2,   47,  377,    8,   26,   37,\n",
       "           6,   27,  646,   47,    6, 5989,  138,   15,  156,  686, 1566,\n",
       "         545, 3337, 1428, 1244, 2054, 2249, 1199, 1007, 1676, 2970, 3855,\n",
       "        1874,  851,    3,    9,  515,  184,   10,  357,  139,  667, 1270,\n",
       "          78,   13,    6,  198,    0,    0,    0,    0,    0,    0,    0,\n",
       "           0,    0,    0,    0,    0,    0,    0,    0,    0,    0,    0,\n",
       "           0,    0,    0,    0,    0,    0,    0,    0,    0,    0,    0,\n",
       "           0,    0,    0,    0,    0,    0,    0,    0,    0,    0,    0,\n",
       "           0,    0,    0,    0,    0,    0,    0,    0,    0,    0,    0,\n",
       "           0,    0,    0,    0,    0,    0,    0,    0,    0,    0,    0,\n",
       "           0,    0,    0,    0,    0,    0,    0,    0,    0,    0,    0,\n",
       "           0,    0,    0,    0,    0,    0,    0,    0,    0,    0,    0,\n",
       "           0,    0,    0,    0,    0,    0,    0,    0,    0,    0,    0,\n",
       "           0,    0,    0,    0,    0,    0,    0,    0,    0,    0,    0,\n",
       "           0,    0]])"
      ]
     },
     "execution_count": 22,
     "metadata": {},
     "output_type": "execute_result"
    }
   ],
   "source": [
    "# r = data[(data.r_service_pred>4)&(data.r_rooms_pred<3)].iloc[5]\n",
    "r = data.iloc[1]\n",
    "txt = r.review_text # example\n",
    "X_example = vectorizer([[r.glove_txt]]).numpy()\n",
    "X_example"
   ]
  },
  {
   "cell_type": "code",
   "execution_count": 23,
   "metadata": {},
   "outputs": [
    {
     "data": {
      "text/plain": [
       "\"The Hampton Inn (Clay/Liverpool) is beautiful. It is clean, spacious and makes you feel like a King. We paid $169/night and that was for a studio/suite with a King size bed. We had our own mini kitchen (fridge/freezer, microwave, coffee maker and sink) and living room. The breakfast included in our stay was NOT continental. Breakfast was piping hot with many choices. Scrambled eggs, Omelettes, Sausage, Bacon, Fried Potatoes, Waffles, Cereal, Bagels, Donuts, Danish, Orange Juice and of course coffee. I'd definitely choose Hampton again. It was Perfect!\""
      ]
     },
     "execution_count": 23,
     "metadata": {},
     "output_type": "execute_result"
    }
   ],
   "source": [
    "txt"
   ]
  },
  {
   "cell_type": "code",
   "execution_count": 29,
   "metadata": {},
   "outputs": [
    {
     "data": {
      "text/plain": [
       "r_service               5\n",
       "r_service_pred    3.39787\n",
       "Name: 23387, dtype: object"
      ]
     },
     "execution_count": 29,
     "metadata": {},
     "output_type": "execute_result"
    }
   ],
   "source": [
    "r[DVs[:1]+[d+'_pred' for d in DVs[:1]]]"
   ]
  },
  {
   "cell_type": "code",
   "execution_count": 25,
   "metadata": {},
   "outputs": [],
   "source": [
    "model_service = bilstm_attention_model(embedding_layer,\n",
    "                               MAX_FEATURES,\n",
    "                               RNN_CELL_SIZE, \n",
    "                               ATTEN_SIZE,\n",
    "                               DENSE_SIZE, \n",
    "                               DROPOUT=DROPOUT)\n",
    "\n",
    "\n",
    "model_rooms = bilstm_attention_model(embedding_layer,\n",
    "                               MAX_FEATURES,\n",
    "                               RNN_CELL_SIZE, \n",
    "                               ATTEN_SIZE,\n",
    "                               DENSE_SIZE, \n",
    "                               DROPOUT=DROPOUT)"
   ]
  },
  {
   "cell_type": "code",
   "execution_count": 26,
   "metadata": {},
   "outputs": [],
   "source": [
    "model_service.load_weights('./models/bilstm_attention_r_service.h5')\n",
    "# model_rooms.load_weights('./models/bilstm_attention_r_rooms.h5')"
   ]
  },
  {
   "cell_type": "code",
   "execution_count": 61,
   "metadata": {},
   "outputs": [],
   "source": [
    "# model = Model(inputs=model_rooms.input,\n",
    "#               outputs=[model_rooms.output, model_rooms.layers[5].output])\n",
    "\n",
    "# attentionwts = model(X_example)[1][1].numpy()\n",
    "# attentionwts = pd.DataFrame(zip(r.processed_review_filter.split(),attentionwts[-len(X_example):].reshape(-1,)),columns = ['tokens', 'weights'])\n",
    "# attentionwts.weights = attentionwts.weights/attentionwts.weights.sum()\n",
    "# attentionwts.plot(kind = 'bar', figsize = (15,5))"
   ]
  },
  {
   "cell_type": "code",
   "execution_count": 28,
   "metadata": {},
   "outputs": [
    {
     "data": {
      "text/plain": [
       "<AxesSubplot:>"
      ]
     },
     "execution_count": 28,
     "metadata": {},
     "output_type": "execute_result"
    },
    {
     "data": {
      "image/png": "[encoded data removed]",
      "text/plain": [
       "<Figure size 1080x360 with 1 Axes>"
      ]
     },
     "metadata": {
      "needs_background": "light"
     },
     "output_type": "display_data"
    }
   ],
   "source": [
    "model = Model(inputs=model_service.input,\n",
    "              outputs=[model_service.output, model_service.layers[5].output])\n",
    "\n",
    "attentionwts = model(X_example)[1][1].numpy()\n",
    "attentionwts = pd.DataFrame(zip(r.processed_review_filter.split(),attentionwts[-len(X_example):].reshape(-1,)),columns = ['tokens', 'weights'])\n",
    "attentionwts.weights = attentionwts.weights/attentionwts.weights.sum()\n",
    "attentionwts.plot(kind = 'bar', figsize = (15,5))"
   ]
  },
  {
   "cell_type": "code",
   "execution_count": null,
   "metadata": {},
   "outputs": [],
   "source": []
  }
 ],
 "metadata": {
  "hide_input": false,
  "kernelspec": {
   "display_name": "Python 3",
   "language": "python",
   "name": "python3"
  },
  "language_info": {
   "codemirror_mode": {
    "name": "ipython",
    "version": 3
   },
   "file_extension": ".py",
   "mimetype": "text/x-python",
   "name": "python",
   "nbconvert_exporter": "python",
   "pygments_lexer": "ipython3",
   "version": "3.8.3"
  },
  "latex_envs": {
   "LaTeX_envs_menu_present": true,
   "autoclose": true,
   "autocomplete": false,
   "bibliofile": "biblio.bib",
   "cite_by": "apalike",
   "current_citInitial": 1,
   "eqLabelWithNumbers": true,
   "eqNumInitial": 1,
   "hotkeys": {
    "equation": "Ctrl-E",
    "itemize": "Ctrl-I"
   },
   "labels_anchors": false,
   "latex_user_defs": false,
   "report_style_numbering": false,
   "user_envs_cfg": false
  }
 },
 "nbformat": 4,
 "nbformat_minor": 4
}
