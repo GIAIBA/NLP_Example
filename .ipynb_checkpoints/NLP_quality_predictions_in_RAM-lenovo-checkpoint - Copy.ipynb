{
 "cells": [
  {
   "cell_type": "markdown",
   "metadata": {},
   "source": [
    "Adapted from [Matthew McAteer](https://matthewmcateer.me/blog/getting-started-with-attention-for-classification/)"
   ]
  },
  {
   "cell_type": "markdown",
   "metadata": {},
   "source": [
    "# Import required libraries"
   ]
  },
  {
   "cell_type": "code",
   "execution_count": 8,
   "metadata": {},
   "outputs": [
    {
     "name": "stdout",
     "output_type": "stream",
     "text": [
      "INFO: Pandarallel will run on 5 workers.\n",
      "INFO: Pandarallel will use Memory file system to transfer data between the main process and workers.\n"
     ]
    },
    {
     "data": {
      "text/plain": [
       "True"
      ]
     },
     "execution_count": 8,
     "metadata": {},
     "output_type": "execute_result"
    }
   ],
   "source": [
    "# standard imports (installed by default w/ anaconda)\n",
    "import pandas as pd, numpy as np, os,random, progressbar, matplotlib.pyplot as plt,gc\n",
    "from itertools import chain\n",
    "from pandarallel import pandarallel\n",
    "pandarallel.initialize(nb_workers=5)\n",
    "%matplotlib inline\n",
    "\n",
    "from collections import Counter\n",
    "# Imports for NLP\n",
    "import spacy\n",
    "from nltk.corpus import stopwords\n",
    "sw = stopwords.words('english')\n",
    "from gensim.models.phrases import Phrases, ENGLISH_CONNECTOR_WORDS\n",
    "\n",
    "import tensorflow as tf\n",
    "\n",
    "import tensorflow.keras\n",
    "from tensorflow.keras.preprocessing.text import Tokenizer\n",
    "from tensorflow.keras.preprocessing.sequence import pad_sequences\n",
    "from tensorflow.keras.layers import Concatenate, Dense, Input, LSTM, Embedding, Dropout, Activation, GRU, Flatten\n",
    "from tensorflow.keras.layers import Bidirectional, GlobalMaxPool1D\n",
    "from tensorflow.keras.models import Model, Sequential\n",
    "from tensorflow.keras.layers import Convolution1D\n",
    "from tensorflow.keras import initializers, regularizers, constraints, optimizers, layers\n",
    "from tensorflow.keras.callbacks import EarlyStopping\n",
    "tf.test.is_gpu_available() # GPU enabled?"
   ]
  },
  {
   "cell_type": "markdown",
   "metadata": {
    "heading_collapsed": true
   },
   "source": [
    "# Raw Files"
   ]
  },
  {
   "cell_type": "code",
   "execution_count": 4,
   "metadata": {
    "hidden": true
   },
   "outputs": [
    {
     "name": "stdout",
     "output_type": "stream",
     "text": [
      "Total Venues: 176095\n"
     ]
    }
   ],
   "source": [
    "# get list of reviews scraped from TripAdvisor in 2018 \n",
    "flist = list()\n",
    "for root,sub,files in os.walk('/mnt/data2/tripadvisor/New_Review_Data2/scrape_4'):\n",
    "    files = [f for f in files if '.txt' in f]\n",
    "    if len(files)>0:\n",
    "        flist.append(['/'.join([root,f]) for f in files])\n",
    "flist = list(chain(*flist))\n",
    "\n",
    "print('Total Venues: {}'.format(len(flist)))"
   ]
  },
  {
   "cell_type": "code",
   "execution_count": 5,
   "metadata": {
    "hidden": true
   },
   "outputs": [],
   "source": [
    "flist = [f for f in flist if 'lang_detect' not in f]\n",
    "# Get a sample of files:\n",
    "random.seed(1)\n",
    "samplesize = 200 # number of hotels\n",
    "flist = random.sample(flist, samplesize)"
   ]
  },
  {
   "cell_type": "markdown",
   "metadata": {
    "heading_collapsed": true
   },
   "source": [
    "# Preprocess texts\n"
   ]
  },
  {
   "cell_type": "code",
   "execution_count": null,
   "metadata": {
    "hidden": true
   },
   "outputs": [
    {
     "name": "stderr",
     "output_type": "stream",
     "text": [
      " 63% (127 of 200) |#############         | Elapsed Time: 0:00:04 ETA:   0:00:02"
     ]
    }
   ],
   "source": [
    "data = list()\n",
    "for f in progressbar.progressbar(flist):\n",
    "    df = pd.read_csv(f, encoding = 'utf-8', sep = '|', index_col = 0)\n",
    "    if 'review_subratings' in df.columns.values:\n",
    "        df.review_subratings = df.review_subratings.map(eval)\n",
    "        subratings = list(set(chain(*df.review_subratings.apply(lambda x: x.keys()))))\n",
    "        for r in subratings:\n",
    "            df['r_{}'.format(r.lower().replace(' ', '_').replace('/','').split('(')[0].replace('__','_'))] = df.review_subratings.apply(lambda x: x.get(r))\n",
    "        cols = ['r_{}'.format(r.lower().replace(' ', '_').replace('/','').split('(')[0].replace('__','_')) for r in subratings]\n",
    "        df = df[['gd', 'review_id', 'review_date','review_rating', 'review_text']+cols]\n",
    "        df = df[df.review_text.notnull()]\n",
    "        data.append(df)\n",
    "data = pd.concat(data).reset_index(drop = True)\n",
    "del df"
   ]
  },
  {
   "cell_type": "code",
   "execution_count": null,
   "metadata": {
    "hidden": true
   },
   "outputs": [],
   "source": [
    "# Get rid of non-English reviews\n",
    "sws = set([w for w in sw if len(w)>2])\n",
    "nwrds = len(sws)\n",
    "data['stopwords'] = data.review_text.parallel_apply(lambda x: len([w for w in x.strip().split() if w in sws]))\n",
    "data['reviewlen'] = data.review_text.str.strip().str.split().map(len)\n",
    "data['stopword_pct'] = data.stopwords/data.reviewlen"
   ]
  },
  {
   "cell_type": "code",
   "execution_count": null,
   "metadata": {
    "hidden": true
   },
   "outputs": [],
   "source": [
    "data.stopword_pct.hist() # peak below .1, get rid of all those likely non-english"
   ]
  },
  {
   "cell_type": "code",
   "execution_count": null,
   "metadata": {
    "hidden": true
   },
   "outputs": [],
   "source": [
    "data[data.stopword_pct<.1].head()['review_text'] # looks like all non-English"
   ]
  },
  {
   "cell_type": "code",
   "execution_count": null,
   "metadata": {
    "hidden": true
   },
   "outputs": [],
   "source": [
    "data = data[data.stopword_pct>.1] # keep only English"
   ]
  },
  {
   "cell_type": "code",
   "execution_count": null,
   "metadata": {
    "hidden": true
   },
   "outputs": [],
   "source": [
    "data.review_text.head() # English!"
   ]
  },
  {
   "cell_type": "markdown",
   "metadata": {
    "hidden": true
   },
   "source": [
    "## Clean up text"
   ]
  },
  {
   "cell_type": "code",
   "execution_count": null,
   "metadata": {
    "hidden": true
   },
   "outputs": [],
   "source": [
    "spacy.require_gpu() # use GPU for faster computation\n",
    "nlp = spacy.load('en_core_web_sm') # using full transformer based models (better accuracy)"
   ]
  },
  {
   "cell_type": "code",
   "execution_count": null,
   "metadata": {
    "hidden": true
   },
   "outputs": [],
   "source": [
    "texts = list(data.review_text)"
   ]
  },
  {
   "cell_type": "code",
   "execution_count": null,
   "metadata": {
    "hidden": true
   },
   "outputs": [],
   "source": [
    "# Lemmatize - this may take a while\n",
    "# A faster, but less accurate alternative is to use stemming methods\n",
    "lemma = [[[w.lemma_ for w in s if not w.is_punct] for s in nlp(t).sents] for t in texts]\n",
    "del nlp\n",
    "import gc\n",
    "gc.collect()"
   ]
  },
  {
   "cell_type": "code",
   "execution_count": null,
   "metadata": {
    "hidden": true
   },
   "outputs": [],
   "source": [
    "# Lemmatized sentences\n",
    "sentences = list(chain(*lemma))"
   ]
  },
  {
   "cell_type": "code",
   "execution_count": null,
   "metadata": {
    "hidden": true
   },
   "outputs": [],
   "source": [
    "# Model phrases using colocation frequency >10x random\n",
    "phrase_model = Phrases(sentences, min_count=5, threshold=10, connector_words=ENGLISH_CONNECTOR_WORDS)\n",
    "sentences2 = phrase_model[sentences]"
   ]
  },
  {
   "cell_type": "code",
   "execution_count": null,
   "metadata": {
    "hidden": true
   },
   "outputs": [],
   "source": [
    "# run again for longer sequences\n",
    "phrase_model2 = Phrases(sentences2, min_count=5, threshold=10, connector_words=ENGLISH_CONNECTOR_WORDS)\n",
    "sentences3 = phrase_model2[sentences2]"
   ]
  },
  {
   "cell_type": "code",
   "execution_count": null,
   "metadata": {
    "hidden": true
   },
   "outputs": [],
   "source": [
    "sentences3[100] # look at the phrases"
   ]
  },
  {
   "cell_type": "code",
   "execution_count": null,
   "metadata": {
    "hidden": true
   },
   "outputs": [],
   "source": [
    "# get parsed documents\n",
    "parsed = [list(phrase_model2[phrase_model[l]]) for l in lemma]"
   ]
  },
  {
   "cell_type": "code",
   "execution_count": null,
   "metadata": {
    "hidden": true
   },
   "outputs": [],
   "source": [
    "# remove stopwords\n",
    "parsed = [[[w for w in s if w not in sw] for s in p] for p in parsed] "
   ]
  },
  {
   "cell_type": "code",
   "execution_count": null,
   "metadata": {
    "hidden": true
   },
   "outputs": [],
   "source": [
    "data['processed_reviews'] = [' '.join(list(chain(*p))) for p in parsed] # Get text as single str"
   ]
  },
  {
   "cell_type": "code",
   "execution_count": null,
   "metadata": {
    "hidden": true
   },
   "outputs": [],
   "source": [
    "data.processed_reviews[0] # processed text"
   ]
  },
  {
   "cell_type": "code",
   "execution_count": null,
   "metadata": {
    "hidden": true
   },
   "outputs": [],
   "source": [
    "# Max text length\n",
    "data['processed_len'] = data.processed_reviews.str.split().map(len)"
   ]
  },
  {
   "cell_type": "code",
   "execution_count": null,
   "metadata": {
    "hidden": true
   },
   "outputs": [],
   "source": [
    "data.processed_len.hist()"
   ]
  },
  {
   "cell_type": "code",
   "execution_count": null,
   "metadata": {
    "hidden": true
   },
   "outputs": [],
   "source": [
    "vocab = Counter(chain(*data.processed_reviews.str.split()))\n",
    "V = pd.DataFrame(vocab.items(), columns = ['w', 'ct'])"
   ]
  },
  {
   "cell_type": "code",
   "execution_count": null,
   "metadata": {
    "hidden": true
   },
   "outputs": [],
   "source": [
    "minct = 20\n",
    "max_freq = 50000\n",
    "remove = set(V.loc[(V.ct<20)|(V.ct>50000), 'w'])"
   ]
  },
  {
   "cell_type": "code",
   "execution_count": null,
   "metadata": {
    "hidden": true
   },
   "outputs": [],
   "source": [
    "data['processed_review_filter'] = data.processed_reviews.parallel_apply(lambda x: ' ' .join([w for w in x.split() if w not in remove]))"
   ]
  },
  {
   "cell_type": "markdown",
   "metadata": {},
   "source": [
    "# Creating a text prediction model"
   ]
  },
  {
   "cell_type": "code",
   "execution_count": 14,
   "metadata": {},
   "outputs": [
    {
     "data": {
      "text/plain": [
       "array(['gd', 'review_id', 'review_date', 'review_rating', 'review_text',\n",
       "       'r_service', 'r_rooms', 'r_sleep_quality', 'r_check_in_front_desk',\n",
       "       'r_business_service_', 'r_value', 'r_location', 'r_cleanliness',\n",
       "       'stopwords', 'reviewlen', 'stopword_pct', 'processed_reviews',\n",
       "       'processed_len', 'processed_review_filter'], dtype=object)"
      ]
     },
     "execution_count": 14,
     "metadata": {},
     "output_type": "execute_result"
    }
   ],
   "source": [
    "# Save/Load preprocessed reviews\n",
    "if 1==0:\n",
    "    data.to_csv('tripadvisor.csv', encoding = 'utf-8')\n",
    "if 1==1:\n",
    "    data = pd.read_csv('tripadvisor.csv', encoding = 'utf-8', index_col = 0)\n",
    "    data = data.sample(len(data))\n",
    "data.columns.values"
   ]
  },
  {
   "cell_type": "code",
   "execution_count": 15,
   "metadata": {},
   "outputs": [
    {
     "data": {
      "text/plain": [
       "7265"
      ]
     },
     "execution_count": 15,
     "metadata": {},
     "output_type": "execute_result"
    }
   ],
   "source": [
    "vocab = set(chain(*data.processed_review_filter.str.split()))\n",
    "len(vocab) # Vocab size"
   ]
  },
  {
   "cell_type": "code",
   "execution_count": 67,
   "metadata": {},
   "outputs": [],
   "source": [
    "# Define Attention Layer\n",
    "# Basically a weighted average layer over RNN sequence\n",
    "# where weights are learned in training\n",
    "class Attention(tf.keras.Model):\n",
    "    def __init__(self, units):\n",
    "        super(Attention, self).__init__()\n",
    "        self.W1 = tf.keras.layers.Dense(units)\n",
    "        self.W2 = tf.keras.layers.Dense(units)\n",
    "        self.V = tf.keras.layers.Dense(1)\n",
    "\n",
    "    def call(self, features, hidden):\n",
    "        # hidden shape == (batch_size, hidden size)\n",
    "        # hidden_with_time_axis shape == (batch_size, 1, hidden size)\n",
    "        # we are doing this to perform addition to calculate the score\n",
    "        hidden_with_time_axis = tf.expand_dims(hidden, 1)\n",
    "          \n",
    "        # score shape == (batch_size, max_length, 1)\n",
    "        # we get 1 at the last axis because we are applying score to self.V\n",
    "        # the shape of the tensor before applying self.V is (batch_size, max_length, units)\n",
    "        score = tf.nn.tanh(\n",
    "            self.W1(features) + self.W2(hidden_with_time_axis))\n",
    "        # attention_weights shape == (batch_size, max_length, 1)\n",
    "        attention_weights = tf.nn.softmax(self.V(score), axis=1)\n",
    "          \n",
    "        # context_vector shape after sum == (batch_size, hidden_size)\n",
    "        context_vector = attention_weights * features\n",
    "        context_vector = tf.reduce_sum(context_vector, axis=1)\n",
    "        return context_vector, attention_weights\n",
    "    "
   ]
  },
  {
   "cell_type": "code",
   "execution_count": 68,
   "metadata": {},
   "outputs": [],
   "source": [
    "# Function to define model\n",
    "def bilstm_attention_model(MAX_FEATURES=8000,MAX_LEN=300,EMBED_SIZE=128,RNN_CELL_SIZE=32, ATTEN_SIZE=10,DENSE_SIZE=54, DROPOUT=.1):\n",
    "    sequence_input = Input(shape=(MAX_LEN,), dtype=\"int32\")\n",
    "    embedded_sequences = Embedding(MAX_FEATURES, EMBED_SIZE)(sequence_input)\n",
    "\n",
    "    # Bidirectional LSTM\n",
    "    lstm = Bidirectional(LSTM(RNN_CELL_SIZE, return_sequences = True), \n",
    "                         name=\"bi_lstm_0\")(embedded_sequences)\n",
    "\n",
    "    # Getting our LSTM outputs\n",
    "    (lstm, forward_h, forward_c, backward_h, backward_c) = Bidirectional(LSTM(RNN_CELL_SIZE, \n",
    "                                                                              return_sequences=True, \n",
    "                                                                              return_state=True), \n",
    "                                                                         name=\"bi_lstm_1\")(lstm)\n",
    "    \n",
    "    \n",
    "    # Given bi-directional RNN, must concatenate the forward+ backward hidden states from each RNN \n",
    "    # before computing the attention weights and applying the weighted sum.\n",
    "    state_h = Concatenate()([forward_h, backward_h])\n",
    "    state_c = Concatenate()([forward_c, backward_c])\n",
    "    context_vector, attention_weights = Attention(ATTEN_SIZE)(lstm, state_h)\n",
    "    dense = Dense(int(DENSE_SIZE), activation=\"relu\")(context_vector)\n",
    "    dropout = Dropout(DROPOUT)(dense)\n",
    "    output = Dense(1, activation=\"relu\")(dropout)\n",
    "    model = tf.keras.Model(inputs=sequence_input, outputs=output)\n",
    "    return model"
   ]
  },
  {
   "cell_type": "code",
   "execution_count": 69,
   "metadata": {},
   "outputs": [],
   "source": [
    "# Parameters of model (can change these - choice is a bit of an art)\n",
    "\n",
    "MAX_FEATURES = len(vocab) # keep N most common words\n",
    "\n",
    "EMBED_SIZE = 128\n",
    "  \n",
    "RNN_CELL_SIZE = 32\n",
    "  \n",
    "MAX_LEN = 300\n",
    "\n",
    "ATTEN_SIZE = 32\n",
    "\n",
    "DENSE_SIZE = 16\n",
    "\n",
    "DROPOUT = .1\n",
    "\n",
    "\n",
    "tokenizer = Tokenizer(num_words=MAX_FEATURES) # Create integer coding of vocab size\n",
    "tokenizer.fit_on_texts(data['processed_review_filter']) # Make text to sequence mapping\n"
   ]
  },
  {
   "cell_type": "code",
   "execution_count": 70,
   "metadata": {
    "scrolled": true
   },
   "outputs": [
    {
     "data": {
      "image/png": "[encoded data removed]",
      "text/plain": [
       "<IPython.core.display.Image object>"
      ]
     },
     "execution_count": 70,
     "metadata": {},
     "output_type": "execute_result"
    }
   ],
   "source": [
    "model = bilstm_attention_model(MAX_FEATURES,\n",
    "                               MAX_LEN,\n",
    "                               EMBED_SIZE,\n",
    "                               RNN_CELL_SIZE, \n",
    "                               ATTEN_SIZE,\n",
    "                               DENSE_SIZE, \n",
    "                               DROPOUT=DROPOUT)\n",
    "\n",
    "\n",
    "\n",
    "\n",
    "tf.keras.utils.plot_model(model, show_shapes=True, dpi=80)\n"
   ]
  },
  {
   "cell_type": "code",
   "execution_count": 71,
   "metadata": {},
   "outputs": [],
   "source": [
    "# Full dataset predictors\n",
    "list_tokenized_train = tokenizer.texts_to_sequences(data.loc[:,'processed_review_filter']) # \n",
    "X_all =  pad_sequences(list_tokenized_train, maxlen=MAX_LEN)"
   ]
  },
  {
   "cell_type": "code",
   "execution_count": 72,
   "metadata": {},
   "outputs": [
    {
     "data": {
      "text/plain": [
       "array([[   0,    0,    0, ..., 1755, 3126, 1127],\n",
       "       [   0,    0,    0, ...,  992,  217,  217],\n",
       "       [   0,    0,    0, ...,    5,  340,   38],\n",
       "       ...,\n",
       "       [   0,    0,    0, ...,  198,   94,  103],\n",
       "       [   0,    0,    0, ...,  160,   66,  605],\n",
       "       [   0,    0,    0, ...,  287,   93,  132]], dtype=int32)"
      ]
     },
     "execution_count": 72,
     "metadata": {},
     "output_type": "execute_result"
    }
   ],
   "source": [
    "X_all[:10] # sequences of token ID's in column space, 1 row = 1 review"
   ]
  },
  {
   "cell_type": "code",
   "execution_count": null,
   "metadata": {},
   "outputs": [],
   "source": []
  },
  {
   "cell_type": "code",
   "execution_count": 73,
   "metadata": {
    "scrolled": true
   },
   "outputs": [
    {
     "name": "stdout",
     "output_type": "stream",
     "text": [
      "Epoch 1/100\n",
      "17/17 [==============================] - 3s 175ms/step - loss: 5.2578 - val_loss: 1.6331\n",
      "Epoch 2/100\n",
      "17/17 [==============================] - 2s 135ms/step - loss: 2.1318 - val_loss: 1.3119\n",
      "Epoch 3/100\n",
      "17/17 [==============================] - 2s 133ms/step - loss: 1.9161 - val_loss: 1.2403\n",
      "Epoch 4/100\n",
      "17/17 [==============================] - 2s 133ms/step - loss: 1.7994 - val_loss: 1.1832\n",
      "Epoch 5/100\n",
      "17/17 [==============================] - 2s 133ms/step - loss: 1.6412 - val_loss: 0.9489\n",
      "Epoch 6/100\n",
      "17/17 [==============================] - 2s 133ms/step - loss: 1.3633 - val_loss: 0.8533\n",
      "Epoch 7/100\n",
      "17/17 [==============================] - 2s 133ms/step - loss: 1.2284 - val_loss: 0.7585\n",
      "Epoch 8/100\n",
      "17/17 [==============================] - 2s 134ms/step - loss: 1.1354 - val_loss: 0.6767\n",
      "Epoch 9/100\n",
      "17/17 [==============================] - 2s 134ms/step - loss: 1.0037 - val_loss: 0.6726\n",
      "Epoch 10/100\n",
      "17/17 [==============================] - 2s 134ms/step - loss: 0.8078 - val_loss: 0.6600\n",
      "Epoch 11/100\n",
      "17/17 [==============================] - 2s 133ms/step - loss: 0.7485 - val_loss: 0.6679\n",
      "Epoch 12/100\n",
      "17/17 [==============================] - 2s 133ms/step - loss: 0.6979 - val_loss: 0.6711\n",
      "Epoch 13/100\n",
      "17/17 [==============================] - 2s 132ms/step - loss: 0.6581 - val_loss: 0.7122\n",
      "Epoch 14/100\n",
      "17/17 [==============================] - 2s 133ms/step - loss: 0.6052 - val_loss: 0.6839\n",
      "Epoch 15/100\n",
      "17/17 [==============================] - 2s 133ms/step - loss: 0.5763 - val_loss: 0.6749\n",
      "Epoch 16/100\n",
      "17/17 [==============================] - 2s 133ms/step - loss: 0.5460 - val_loss: 0.6610\n",
      "Epoch 17/100\n",
      "17/17 [==============================] - 2s 133ms/step - loss: 0.5370 - val_loss: 0.8042\n",
      "Epoch 18/100\n",
      "17/17 [==============================] - 2s 133ms/step - loss: 0.5395 - val_loss: 0.7220\n",
      "Epoch 19/100\n",
      "17/17 [==============================] - 2s 134ms/step - loss: 0.5137 - val_loss: 0.7542\n",
      "Epoch 20/100\n",
      "17/17 [==============================] - 2s 133ms/step - loss: 0.5380 - val_loss: 0.7255\n",
      "Epoch 1/100\n",
      "12/12 [==============================] - 2s 189ms/step - loss: 5.3414 - val_loss: 1.4691\n",
      "Epoch 2/100\n",
      "12/12 [==============================] - 2s 132ms/step - loss: 1.7142 - val_loss: 1.3786\n",
      "Epoch 3/100\n",
      "12/12 [==============================] - 2s 131ms/step - loss: 1.5728 - val_loss: 1.3007\n",
      "Epoch 4/100\n",
      "12/12 [==============================] - 2s 132ms/step - loss: 1.5160 - val_loss: 1.2233\n",
      "Epoch 5/100\n",
      "12/12 [==============================] - 2s 132ms/step - loss: 1.5042 - val_loss: 1.2049\n",
      "Epoch 6/100\n",
      "12/12 [==============================] - 2s 132ms/step - loss: 1.4765 - val_loss: 1.1596\n",
      "Epoch 7/100\n",
      "12/12 [==============================] - 2s 133ms/step - loss: 1.3501 - val_loss: 0.9095\n",
      "Epoch 8/100\n",
      "12/12 [==============================] - 2s 133ms/step - loss: 1.0475 - val_loss: 0.6877\n",
      "Epoch 9/100\n",
      "12/12 [==============================] - 2s 132ms/step - loss: 0.8409 - val_loss: 0.6353\n",
      "Epoch 10/100\n",
      "12/12 [==============================] - 2s 132ms/step - loss: 0.7514 - val_loss: 0.6386\n",
      "Epoch 11/100\n",
      "12/12 [==============================] - 2s 132ms/step - loss: 0.6813 - val_loss: 0.6172\n",
      "Epoch 12/100\n",
      "12/12 [==============================] - 2s 132ms/step - loss: 0.6284 - val_loss: 0.6469\n",
      "Epoch 13/100\n",
      "12/12 [==============================] - 2s 132ms/step - loss: 0.6029 - val_loss: 0.6552\n",
      "Epoch 14/100\n",
      "12/12 [==============================] - 2s 132ms/step - loss: 0.5700 - val_loss: 0.6411\n",
      "Epoch 15/100\n",
      "12/12 [==============================] - 2s 132ms/step - loss: 0.5497 - val_loss: 0.6876\n",
      "Epoch 16/100\n",
      "12/12 [==============================] - 2s 132ms/step - loss: 0.5248 - val_loss: 0.6824\n",
      "Epoch 17/100\n",
      "12/12 [==============================] - 2s 131ms/step - loss: 0.5021 - val_loss: 0.6757\n",
      "Epoch 18/100\n",
      "12/12 [==============================] - 2s 131ms/step - loss: 0.4906 - val_loss: 0.6739\n",
      "Epoch 19/100\n",
      "12/12 [==============================] - 2s 132ms/step - loss: 0.4583 - val_loss: 0.6902\n",
      "Epoch 20/100\n",
      "12/12 [==============================] - 2s 131ms/step - loss: 0.4541 - val_loss: 0.7135\n",
      "Epoch 21/100\n",
      "12/12 [==============================] - 2s 132ms/step - loss: 0.4418 - val_loss: 0.7218\n",
      "Epoch 1/100\n",
      "13/13 [==============================] - 2s 183ms/step - loss: 5.2608 - val_loss: 1.7209\n",
      "Epoch 2/100\n",
      "13/13 [==============================] - 2s 130ms/step - loss: 1.8042 - val_loss: 1.4993\n",
      "Epoch 3/100\n",
      "13/13 [==============================] - 2s 131ms/step - loss: 1.6913 - val_loss: 1.3783\n",
      "Epoch 4/100\n",
      "13/13 [==============================] - 2s 131ms/step - loss: 1.6132 - val_loss: 1.3478\n",
      "Epoch 5/100\n",
      "13/13 [==============================] - 2s 131ms/step - loss: 1.6046 - val_loss: 1.3280\n",
      "Epoch 6/100\n",
      "13/13 [==============================] - 2s 132ms/step - loss: 1.5240 - val_loss: 1.1200\n",
      "Epoch 7/100\n",
      "13/13 [==============================] - 2s 132ms/step - loss: 1.1480 - val_loss: 0.8516\n",
      "Epoch 8/100\n",
      "13/13 [==============================] - 2s 130ms/step - loss: 0.9494 - val_loss: 0.8342\n",
      "Epoch 9/100\n",
      "13/13 [==============================] - 2s 131ms/step - loss: 0.8950 - val_loss: 0.9595\n",
      "Epoch 10/100\n",
      "13/13 [==============================] - 2s 130ms/step - loss: 0.8756 - val_loss: 0.8605\n",
      "Epoch 11/100\n",
      "13/13 [==============================] - 2s 131ms/step - loss: 0.8204 - val_loss: 0.8015\n",
      "Epoch 12/100\n",
      "13/13 [==============================] - 2s 129ms/step - loss: 0.7696 - val_loss: 0.9446\n",
      "Epoch 13/100\n",
      "13/13 [==============================] - 2s 130ms/step - loss: 0.7929 - val_loss: 0.8595\n",
      "Epoch 14/100\n",
      "13/13 [==============================] - 2s 130ms/step - loss: 0.7266 - val_loss: 0.8187\n",
      "Epoch 15/100\n",
      "13/13 [==============================] - 2s 132ms/step - loss: 0.6758 - val_loss: 0.8317\n",
      "Epoch 16/100\n",
      "13/13 [==============================] - 2s 131ms/step - loss: 0.6613 - val_loss: 0.8575\n",
      "Epoch 17/100\n",
      "13/13 [==============================] - 2s 130ms/step - loss: 0.6413 - val_loss: 0.8557\n",
      "Epoch 18/100\n",
      "13/13 [==============================] - 2s 130ms/step - loss: 0.6243 - val_loss: 0.8603\n",
      "Epoch 19/100\n",
      "13/13 [==============================] - 2s 131ms/step - loss: 0.6029 - val_loss: 0.8109\n",
      "Epoch 20/100\n",
      "13/13 [==============================] - 2s 130ms/step - loss: 0.6064 - val_loss: 0.8528\n",
      "Epoch 21/100\n",
      "13/13 [==============================] - 2s 132ms/step - loss: 0.5796 - val_loss: 0.8583\n",
      "Epoch 1/100\n",
      "12/12 [==============================] - 2s 192ms/step - loss: 5.4981 - val_loss: 0.7606\n",
      "Epoch 2/100\n",
      "12/12 [==============================] - 2s 131ms/step - loss: 1.1830 - val_loss: 0.8011\n",
      "Epoch 3/100\n",
      "12/12 [==============================] - 2s 132ms/step - loss: 1.0799 - val_loss: 0.7932\n",
      "Epoch 4/100\n",
      "12/12 [==============================] - 2s 134ms/step - loss: 1.0524 - val_loss: 0.7525\n",
      "Epoch 5/100\n",
      "12/12 [==============================] - 2s 133ms/step - loss: 1.0156 - val_loss: 0.7347\n",
      "Epoch 6/100\n",
      "12/12 [==============================] - 2s 133ms/step - loss: 1.0246 - val_loss: 0.7362\n",
      "Epoch 7/100\n",
      "12/12 [==============================] - 2s 133ms/step - loss: 1.0192 - val_loss: 0.7336\n",
      "Epoch 8/100\n",
      "12/12 [==============================] - 2s 133ms/step - loss: 1.0176 - val_loss: 0.7094\n",
      "Epoch 9/100\n",
      "12/12 [==============================] - 2s 134ms/step - loss: 0.9673 - val_loss: 0.6744\n",
      "Epoch 10/100\n",
      "12/12 [==============================] - 2s 132ms/step - loss: 0.8761 - val_loss: 0.6607\n",
      "Epoch 11/100\n",
      "12/12 [==============================] - 2s 133ms/step - loss: 0.8032 - val_loss: 0.6210\n",
      "Epoch 12/100\n",
      "12/12 [==============================] - 2s 132ms/step - loss: 0.7697 - val_loss: 0.6484\n",
      "Epoch 13/100\n",
      "12/12 [==============================] - 2s 133ms/step - loss: 0.7122 - val_loss: 0.6580\n",
      "Epoch 14/100\n",
      "12/12 [==============================] - 2s 132ms/step - loss: 0.7013 - val_loss: 0.6629\n",
      "Epoch 15/100\n",
      "12/12 [==============================] - 2s 133ms/step - loss: 0.6819 - val_loss: 0.6603\n",
      "Epoch 16/100\n",
      "12/12 [==============================] - 2s 132ms/step - loss: 0.6446 - val_loss: 0.7028\n",
      "Epoch 17/100\n",
      "12/12 [==============================] - 2s 132ms/step - loss: 0.6019 - val_loss: 0.7073\n",
      "Epoch 18/100\n",
      "12/12 [==============================] - 2s 132ms/step - loss: 0.5805 - val_loss: 0.6927\n",
      "Epoch 19/100\n"
     ]
    },
    {
     "name": "stdout",
     "output_type": "stream",
     "text": [
      "12/12 [==============================] - 2s 132ms/step - loss: 0.5654 - val_loss: 0.6935\n",
      "Epoch 20/100\n",
      "12/12 [==============================] - 2s 133ms/step - loss: 0.5433 - val_loss: 0.7247\n",
      "Epoch 21/100\n",
      "12/12 [==============================] - 2s 133ms/step - loss: 0.5176 - val_loss: 0.7446\n"
     ]
    }
   ],
   "source": [
    "BATCH_SIZE = 1000 # number to train in a batch\n",
    "EPOCHS = 100 # complete cycles through training data\n",
    "\n",
    "np.random.seed(1) # seed for reproducible results\n",
    "data['train'] = np.random.binomial(1,.85, size =len(data)) # Randomly assign 15% to testing set\n",
    "\n",
    "\n",
    "# DVs = [c for c in data.columns if ('r_'==c[:2])&('_pred' not in c)]# train for these DVs\n",
    "\n",
    "DVs = ['r_service', 'r_rooms', 'r_value', 'r_location']\n",
    "\n",
    "training_histories = list()\n",
    "for dv in DVs:\n",
    "    \n",
    "    cond = (data[dv].notnull())&(data['train']==1) # subset condition for training\n",
    "    \n",
    "    # Tokenize the text (convert to list of IDs)\n",
    "    list_tokenized_train = tokenizer.texts_to_sequences(data.loc[cond,'processed_review_filter'])\n",
    "    \n",
    "    # 0 Pad the tokenized data\n",
    "    X_train = pad_sequences(list_tokenized_train, maxlen=MAX_LEN)\n",
    "\n",
    "    # Select corresponding training labels\n",
    "    y_train = data.loc[cond,dv]\n",
    "    \n",
    "    # define model\n",
    "    model = bilstm_attention_model(MAX_FEATURES,\n",
    "                                   MAX_LEN,\n",
    "                                   EMBED_SIZE,\n",
    "                                   RNN_CELL_SIZE, \n",
    "                                   ATTEN_SIZE,\n",
    "                                   DENSE_SIZE, \n",
    "                                   DROPOUT=DROPOUT)\n",
    "    \n",
    "    \n",
    "    # compile model to maximize mean squared error, use adaptive optimizer\n",
    "    model.compile(loss='mse', optimizer=tf.keras.optimizers.Adam(learning_rate=.01))\n",
    "    \n",
    "    # Train\n",
    "    history = model.fit(X_train,y_train,\n",
    "                        batch_size=BATCH_SIZE,\n",
    "                        epochs=EPOCHS,\n",
    "                        validation_split=(.15/.85), # 15% of whole dataset\n",
    "                       callbacks = [EarlyStopping(patience=10, restore_best_weights=True)])\n",
    "    \n",
    "    training_histories.append(history)\n",
    "    \n",
    "    # Save model in Models subfoler, make it if it doesn't exist\n",
    "    try:\n",
    "        os.listdir('./models/')\n",
    "    except:\n",
    "        os.mkdir('./models/')\n",
    "        \n",
    "    # Save model\n",
    "    model.save_weights('./models/bilstm_attention_{}.h5'.format(dv))\n",
    "    \n",
    "    \n",
    "    # predict back on dataset\n",
    "    data[dv+'_pred'] = model.predict(X_all)\n",
    "    \n",
    "    del model\n",
    "    gc.collect()"
   ]
  },
  {
   "cell_type": "markdown",
   "metadata": {},
   "source": [
    "# Diagnostics"
   ]
  },
  {
   "cell_type": "code",
   "execution_count": 74,
   "metadata": {},
   "outputs": [
    {
     "data": {
      "text/html": [
       "<div>\n",
       "<style scoped>\n",
       "    .dataframe tbody tr th:only-of-type {\n",
       "        vertical-align: middle;\n",
       "    }\n",
       "\n",
       "    .dataframe tbody tr th {\n",
       "        vertical-align: top;\n",
       "    }\n",
       "\n",
       "    .dataframe thead th {\n",
       "        text-align: right;\n",
       "    }\n",
       "</style>\n",
       "<table border=\"1\" class=\"dataframe\">\n",
       "  <thead>\n",
       "    <tr style=\"text-align: right;\">\n",
       "      <th></th>\n",
       "      <th>r_service</th>\n",
       "      <th>r_rooms</th>\n",
       "      <th>r_value</th>\n",
       "      <th>r_location</th>\n",
       "    </tr>\n",
       "  </thead>\n",
       "  <tbody>\n",
       "    <tr>\n",
       "      <th>r_service_pred</th>\n",
       "      <td>0.800950</td>\n",
       "      <td>0.675644</td>\n",
       "      <td>0.707125</td>\n",
       "      <td>0.484170</td>\n",
       "    </tr>\n",
       "    <tr>\n",
       "      <th>r_rooms_pred</th>\n",
       "      <td>0.659134</td>\n",
       "      <td>0.820978</td>\n",
       "      <td>0.683377</td>\n",
       "      <td>0.476465</td>\n",
       "    </tr>\n",
       "    <tr>\n",
       "      <th>r_value_pred</th>\n",
       "      <td>0.697549</td>\n",
       "      <td>0.682210</td>\n",
       "      <td>0.773430</td>\n",
       "      <td>0.454476</td>\n",
       "    </tr>\n",
       "    <tr>\n",
       "      <th>r_location_pred</th>\n",
       "      <td>0.592160</td>\n",
       "      <td>0.577953</td>\n",
       "      <td>0.576162</td>\n",
       "      <td>0.565060</td>\n",
       "    </tr>\n",
       "  </tbody>\n",
       "</table>\n",
       "</div>"
      ],
      "text/plain": [
       "                 r_service   r_rooms   r_value  r_location\n",
       "r_service_pred    0.800950  0.675644  0.707125    0.484170\n",
       "r_rooms_pred      0.659134  0.820978  0.683377    0.476465\n",
       "r_value_pred      0.697549  0.682210  0.773430    0.454476\n",
       "r_location_pred   0.592160  0.577953  0.576162    0.565060"
      ]
     },
     "execution_count": 74,
     "metadata": {},
     "output_type": "execute_result"
    }
   ],
   "source": [
    "\n",
    "data.loc[data.train==1,DVs+ [c+'_pred' for c in DVs]].corr().loc[[c+'_pred' for c in DVs],DVs]\n"
   ]
  },
  {
   "cell_type": "code",
   "execution_count": 75,
   "metadata": {},
   "outputs": [
    {
     "data": {
      "text/html": [
       "<div>\n",
       "<style scoped>\n",
       "    .dataframe tbody tr th:only-of-type {\n",
       "        vertical-align: middle;\n",
       "    }\n",
       "\n",
       "    .dataframe tbody tr th {\n",
       "        vertical-align: top;\n",
       "    }\n",
       "\n",
       "    .dataframe thead th {\n",
       "        text-align: right;\n",
       "    }\n",
       "</style>\n",
       "<table border=\"1\" class=\"dataframe\">\n",
       "  <thead>\n",
       "    <tr style=\"text-align: right;\">\n",
       "      <th></th>\n",
       "      <th>r_service</th>\n",
       "      <th>r_rooms</th>\n",
       "      <th>r_value</th>\n",
       "      <th>r_location</th>\n",
       "    </tr>\n",
       "  </thead>\n",
       "  <tbody>\n",
       "    <tr>\n",
       "      <th>r_service_pred</th>\n",
       "      <td>0.698156</td>\n",
       "      <td>0.628183</td>\n",
       "      <td>0.649048</td>\n",
       "      <td>0.438118</td>\n",
       "    </tr>\n",
       "    <tr>\n",
       "      <th>r_rooms_pred</th>\n",
       "      <td>0.616328</td>\n",
       "      <td>0.679915</td>\n",
       "      <td>0.627900</td>\n",
       "      <td>0.427597</td>\n",
       "    </tr>\n",
       "    <tr>\n",
       "      <th>r_value_pred</th>\n",
       "      <td>0.635366</td>\n",
       "      <td>0.616540</td>\n",
       "      <td>0.640404</td>\n",
       "      <td>0.419374</td>\n",
       "    </tr>\n",
       "    <tr>\n",
       "      <th>r_location_pred</th>\n",
       "      <td>0.534009</td>\n",
       "      <td>0.535752</td>\n",
       "      <td>0.528272</td>\n",
       "      <td>0.414949</td>\n",
       "    </tr>\n",
       "  </tbody>\n",
       "</table>\n",
       "</div>"
      ],
      "text/plain": [
       "                 r_service   r_rooms   r_value  r_location\n",
       "r_service_pred    0.698156  0.628183  0.649048    0.438118\n",
       "r_rooms_pred      0.616328  0.679915  0.627900    0.427597\n",
       "r_value_pred      0.635366  0.616540  0.640404    0.419374\n",
       "r_location_pred   0.534009  0.535752  0.528272    0.414949"
      ]
     },
     "execution_count": 75,
     "metadata": {},
     "output_type": "execute_result"
    }
   ],
   "source": [
    "data.loc[data.train==0,DVs+ [c+'_pred' for c in DVs]].corr().loc[[c+'_pred' for c in DVs],DVs]"
   ]
  },
  {
   "cell_type": "code",
   "execution_count": 76,
   "metadata": {},
   "outputs": [
    {
     "data": {
      "text/plain": [
       "<AxesSubplot:xlabel='r_service'>"
      ]
     },
     "execution_count": 76,
     "metadata": {},
     "output_type": "execute_result"
    },
    {
     "data": {
      "image/png": "[encoded data removed]",
      "text/plain": [
       "<Figure size 432x288 with 1 Axes>"
      ]
     },
     "metadata": {
      "needs_background": "light"
     },
     "output_type": "display_data"
    }
   ],
   "source": [
    "temp = data[data.train==1].groupby('r_service')['r_service_pred'].agg(['mean','median','std','count'])\n",
    "temp['SE'] = temp['std']/np.sqrt(temp['count'])\n",
    "temp[['mean', 'SE']].plot(kind = 'bar', yerr='SE',legend = None)"
   ]
  },
  {
   "cell_type": "code",
   "execution_count": 77,
   "metadata": {},
   "outputs": [
    {
     "data": {
      "text/plain": [
       "4859     Crowne_Plaza new luxurious resort Dead_Sea fac...\n",
       "25076    location great hotel tired room spacious bathr...\n",
       "22414    travel upper sell shoe time year lie entire li...\n",
       "635      Maplewood great place stay come hotel every 4 ...\n",
       "34325    stay_here 4 night choose hotel good review sev...\n",
       "Name: processed_review_filter, dtype: object"
      ]
     },
     "execution_count": 77,
     "metadata": {},
     "output_type": "execute_result"
    }
   ],
   "source": [
    "data.processed_review_filter.head()"
   ]
  },
  {
   "cell_type": "code",
   "execution_count": 148,
   "metadata": {},
   "outputs": [],
   "source": [
    "r = data[(data.r_service_pred>4)&(data.r_rooms_pred<3)].iloc[50]\n",
    "txt = r.review_text # example"
   ]
  },
  {
   "cell_type": "code",
   "execution_count": 149,
   "metadata": {},
   "outputs": [
    {
     "data": {
      "text/plain": [
       "\"Just arrived home from the Aldea Playa and had a lovely time with my husband, daughter and her two little girls. I had asked for an upper floor overlooking the sea and that's what we got.(Room 301 overlooking the pool) The girls loved the children's part of the pool and spent a few hours there every morning. There was the usual towels on sunbeds fiasco which we had to join in with and older kids (and their Dads) playing handball over the barrier but overall it was fine for the short time we were there. As we wanted peace and quiet we loved where we were. Its true the apartments are a bit dated and my daughter had a problem sleeping on the day bed as the mattress was merely soft foam with a dip in it so she didnt get much sleep. She didnt want to complain so we didnt make an issue of it. The cleaning ladies came every day and were very pleasant and hard working.We ate mostly at the Martel restaurant next door where the staff were very friendly. In fact the staff at the Reception were also pleasant and helpful. Unfortunately my daughter was badly bitten by mosquitos and she had to see a doctor then we had to go to Fornells for medicine. Fornells was lovely and we had a very pleasant evening there. I would recommend the self catering part of the Aldea Playa complex. I dont know anything about the entertainment as we didnt go there but the girls did enjoy the play area near the Water park.Altogether a memorable time and lovely to see our little grand daughters so happy.\""
      ]
     },
     "execution_count": 149,
     "metadata": {},
     "output_type": "execute_result"
    }
   ],
   "source": [
    "txt"
   ]
  },
  {
   "cell_type": "code",
   "execution_count": 150,
   "metadata": {},
   "outputs": [
    {
     "data": {
      "text/plain": [
       "r_service              NaN\n",
       "r_rooms                NaN\n",
       "r_value                NaN\n",
       "r_location             NaN\n",
       "r_service_pred     4.77098\n",
       "r_rooms_pred       2.94853\n",
       "r_value_pred       4.42164\n",
       "r_location_pred    4.54228\n",
       "Name: 16680, dtype: object"
      ]
     },
     "execution_count": 150,
     "metadata": {},
     "output_type": "execute_result"
    }
   ],
   "source": [
    "r[DVs+[d+'_pred' for d in DVs]]"
   ]
  },
  {
   "cell_type": "code",
   "execution_count": 151,
   "metadata": {},
   "outputs": [],
   "source": [
    "model_service = bilstm_attention_model(MAX_FEATURES,\n",
    "                                       MAX_LEN,\n",
    "                                       EMBED_SIZE,\n",
    "                                       RNN_CELL_SIZE, \n",
    "                                       ATTEN_SIZE,\n",
    "                                       DENSE_SIZE, \n",
    "                                       DROPOUT=DROPOUT)\n",
    "model_rooms = bilstm_attention_model(MAX_FEATURES,\n",
    "                                       MAX_LEN,\n",
    "                                       EMBED_SIZE,\n",
    "                                       RNN_CELL_SIZE, \n",
    "                                       ATTEN_SIZE,\n",
    "                                       DENSE_SIZE, \n",
    "                                       DROPOUT=DROPOUT)"
   ]
  },
  {
   "cell_type": "code",
   "execution_count": 160,
   "metadata": {},
   "outputs": [],
   "source": [
    "model_service.load_weights('./models/bilstm_attention_r_service.h5')\n",
    "model_rooms.load_weights('./models/bilstm_attention_r_rooms.h5')"
   ]
  },
  {
   "cell_type": "code",
   "execution_count": null,
   "metadata": {},
   "outputs": [],
   "source": []
  },
  {
   "cell_type": "code",
   "execution_count": 161,
   "metadata": {},
   "outputs": [],
   "source": [
    "list_tokenized_example = tokenizer.texts_to_sequences([r.processed_review_filter])\n",
    "# 0 Pad the tokenized data\n",
    "X_example = pad_sequences(list_tokenized_example, maxlen=MAX_LEN)\n",
    "rating0 = model_service(X_example).numpy()[0][0]\n",
    "mfx = list()\n",
    "for i,w in enumerate(r.processed_review_filter.split()):\n",
    "    list_tokenized_example = tokenizer.texts_to_sequences([' '.join([w for j,w in enumerate(r.processed_review_filter.split()) if j != i])])\n",
    "    X_example = pad_sequences(list_tokenized_example, maxlen=MAX_LEN)\n",
    "    drating = rating0-model_service(X_example).numpy()[0][0]\n",
    "    mfx.append([w,drating])\n",
    "mfx = pd.DataFrame(mfx, columns = ['w','drating'])"
   ]
  },
  {
   "cell_type": "code",
   "execution_count": 162,
   "metadata": {},
   "outputs": [
    {
     "data": {
      "text/plain": [
       "<AxesSubplot:title={'center':'Marginal Contribution to Service Rating'}, xlabel='w'>"
      ]
     },
     "execution_count": 162,
     "metadata": {},
     "output_type": "execute_result"
    },
    {
     "data": {
      "image/png": "[encoded data removed]",
      "text/plain": [
       "<Figure size 1080x360 with 1 Axes>"
      ]
     },
     "metadata": {
      "needs_background": "light"
     },
     "output_type": "display_data"
    }
   ],
   "source": [
    "mfx.plot(y='drating', x = 'w', kind = 'bar',legend = None, figsize = (15,5), title = 'Marginal Contribution to Service Rating')"
   ]
  },
  {
   "cell_type": "code",
   "execution_count": 165,
   "metadata": {},
   "outputs": [],
   "source": [
    "list_tokenized_example = tokenizer.texts_to_sequences([r.processed_review_filter])\n",
    "# 0 Pad the tokenized data\n",
    "X_example = pad_sequences(list_tokenized_example, maxlen=MAX_LEN)\n",
    "rating0 = model_rooms(X_example).numpy()[0][0]\n",
    "mfx = list()\n",
    "for i,w in enumerate(r.processed_review_filter.split()):\n",
    "    list_tokenized_example = tokenizer.texts_to_sequences([' '.join([w for j,w in enumerate(r.processed_review_filter.split()) if j != i])])\n",
    "    X_example = pad_sequences(list_tokenized_example, maxlen=MAX_LEN)\n",
    "    drating = rating0-model_rooms(X_example).numpy()[0][0]\n",
    "    mfx.append([w,drating])\n",
    "mfx = pd.DataFrame(mfx, columns = ['w','drating'])"
   ]
  },
  {
   "cell_type": "code",
   "execution_count": 167,
   "metadata": {},
   "outputs": [
    {
     "data": {
      "text/plain": [
       "<AxesSubplot:title={'center':'Marginal Contribution to Room Rating'}, xlabel='w'>"
      ]
     },
     "execution_count": 167,
     "metadata": {},
     "output_type": "execute_result"
    },
    {
     "data": {
      "image/png": "[encoded data removed]",
      "text/plain": [
       "<Figure size 1080x360 with 1 Axes>"
      ]
     },
     "metadata": {
      "needs_background": "light"
     },
     "output_type": "display_data"
    }
   ],
   "source": [
    "mfx.plot(y='drating', x = 'w', kind = 'bar',legend = None, figsize = (15,5), title = 'Marginal Contribution to Room Rating')"
   ]
  },
  {
   "cell_type": "code",
   "execution_count": 168,
   "metadata": {},
   "outputs": [
    {
     "data": {
      "text/plain": [
       "\"Just arrived home from the Aldea Playa and had a lovely time with my husband, daughter and her two little girls. I had asked for an upper floor overlooking the sea and that's what we got.(Room 301 overlooking the pool) The girls loved the children's part of the pool and spent a few hours there every morning. There was the usual towels on sunbeds fiasco which we had to join in with and older kids (and their Dads) playing handball over the barrier but overall it was fine for the short time we were there. As we wanted peace and quiet we loved where we were. Its true the apartments are a bit dated and my daughter had a problem sleeping on the day bed as the mattress was merely soft foam with a dip in it so she didnt get much sleep. She didnt want to complain so we didnt make an issue of it. The cleaning ladies came every day and were very pleasant and hard working.We ate mostly at the Martel restaurant next door where the staff were very friendly. In fact the staff at the Reception were also pleasant and helpful. Unfortunately my daughter was badly bitten by mosquitos and she had to see a doctor then we had to go to Fornells for medicine. Fornells was lovely and we had a very pleasant evening there. I would recommend the self catering part of the Aldea Playa complex. I dont know anything about the entertainment as we didnt go there but the girls did enjoy the play area near the Water park.Altogether a memorable time and lovely to see our little grand daughters so happy.\""
      ]
     },
     "execution_count": 168,
     "metadata": {},
     "output_type": "execute_result"
    }
   ],
   "source": [
    "txt"
   ]
  },
  {
   "cell_type": "code",
   "execution_count": 135,
   "metadata": {},
   "outputs": [],
   "source": [
    "# model = Model(inputs=model_rooms.input,\n",
    "#               outputs=[model_rooms.output, model_rooms.layers[5].output])\n",
    "\n",
    "# attentionwts = model(X_example)[1][1].numpy()\n",
    "# attentionwts = pd.DataFrame(zip(r.processed_review_filter.split(),attentionwts[-len(X_example):].reshape(-1,)),columns = ['tokens', 'weights'])\n",
    "# attentionwts.weights = attentionwts.weights/attentionwts.weights.sum()\n",
    "# attentionwts.plot(kind = 'bar', figsize = (15,5))"
   ]
  },
  {
   "cell_type": "code",
   "execution_count": null,
   "metadata": {},
   "outputs": [],
   "source": []
  },
  {
   "cell_type": "code",
   "execution_count": 136,
   "metadata": {},
   "outputs": [],
   "source": [
    "# model = Model(inputs=model_service.input,\n",
    "#               outputs=[model_service.output, model_service.layers[5].output])\n",
    "\n",
    "# attentionwts = model(X_example)[1][1].numpy()\n",
    "# attentionwts = pd.DataFrame(zip(r.processed_review_filter.split(),attentionwts[-len(X_example):].reshape(-1,)),columns = ['tokens', 'weights'])\n",
    "# attentionwts.weights = attentionwts.weights/attentionwts.weights.sum()\n",
    "# attentionwts.plot(kind = 'bar', figsize = (15,5))"
   ]
  },
  {
   "cell_type": "code",
   "execution_count": null,
   "metadata": {},
   "outputs": [],
   "source": []
  },
  {
   "cell_type": "code",
   "execution_count": null,
   "metadata": {},
   "outputs": [],
   "source": []
  },
  {
   "cell_type": "code",
   "execution_count": null,
   "metadata": {},
   "outputs": [],
   "source": []
  },
  {
   "cell_type": "code",
   "execution_count": null,
   "metadata": {},
   "outputs": [],
   "source": []
  }
 ],
 "metadata": {
  "hide_input": false,
  "kernelspec": {
   "display_name": "Python 3",
   "language": "python",
   "name": "python3"
  },
  "language_info": {
   "codemirror_mode": {
    "name": "ipython",
    "version": 3
   },
   "file_extension": ".py",
   "mimetype": "text/x-python",
   "name": "python",
   "nbconvert_exporter": "python",
   "pygments_lexer": "ipython3",
   "version": "3.8.3"
  },
  "latex_envs": {
   "LaTeX_envs_menu_present": true,
   "autoclose": true,
   "autocomplete": false,
   "bibliofile": "biblio.bib",
   "cite_by": "apalike",
   "current_citInitial": 1,
   "eqLabelWithNumbers": true,
   "eqNumInitial": 1,
   "hotkeys": {
    "equation": "Ctrl-E",
    "itemize": "Ctrl-I"
   },
   "labels_anchors": false,
   "latex_user_defs": false,
   "report_style_numbering": false,
   "user_envs_cfg": false
  }
 },
 "nbformat": 4,
 "nbformat_minor": 4
}
