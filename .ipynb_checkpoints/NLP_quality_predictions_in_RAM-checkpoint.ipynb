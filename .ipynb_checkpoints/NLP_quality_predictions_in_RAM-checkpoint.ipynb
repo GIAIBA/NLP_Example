{
 "cells": [
  {
   "cell_type": "markdown",
   "metadata": {},
   "source": [
    "# Predicting Multi-Dimensional Hotel Quality Ratings "
   ]
  },
  {
   "cell_type": "markdown",
   "metadata": {},
   "source": [
    "This notebook walks through a deep learning model of hotel subcategroy ratings.\n",
    "\n",
    "While aggregate reviews ratings represent a good measure of the perceived quality of a hotel, it may be useful for customers, managers, and researchers to gain a better understanding of the specific dimensions of quality. Given the importance of these latent quality dimensions, popular hotel review sites like TripAdvisor provide reviewers the opportunity to rate these quality sub-categories individually. For instance, the example below shows that while the room appears to be in disrepair, the reviewer seems fairly happy about the service. \n",
    "\n",
    "![TA_screenshot](./images/TA_subratings.png)\n",
    "\n",
    "\n",
    "However, these additional subcategory fields are often ignored by reviewers. Nonetheless, the review text can often inform these unrated subcategories. Assuming review texts are generally informative, we can use the these texts to predict each reviewer's expected subcategory rating using deep learning methods. \n",
    "\n",
    "Since we have plenty of reviews with labeled subcategory ratings, we do not need to do any human labeling to construct a training dataset. Using the pre-labeled dataset, we will build a deep neural network model with embedding, bidirectional LSTM, attention, and dense layers. \n",
    "\n",
    "The full dataset contains over 170k locations, for demonstration purposes, we will randomly sample 200 hotels for this exercise. Using the full dataset will require some practical adjustments for the code. In particular, the code used in this notebook is designed to work in memory. Some adjustments need to be made to stream training data from disk in the case of production scale implementation. Additional hardware / cloud computing may also be required for scaling up. In particularly multi-GPU server setups and faster storage can significantly improve training speed.\n",
    "\n",
    "\n",
    "*****"
   ]
  },
  {
   "cell_type": "markdown",
   "metadata": {},
   "source": [
    "## Technical Specifications"
   ]
  },
  {
   "cell_type": "markdown",
   "metadata": {},
   "source": [
    "Machine specs to generate results for this notebook.\n",
    "\n",
    "Lenovo P520 workstation\n",
    "1. 20C Xeon W processor\n",
    "1. NVIDIA RTX Quadro 6000 (24GB VRAM)\n",
    "1. 128 GB RAM\n",
    "\n",
    "Core software stack required to run this notebook\n",
    "1. Python 3.8.3 (Anaconda install, incl. pandas, numpy, etc.)\n",
    "1. Tensorflow 2.1\n",
    "1. NVIDIA Driver 450.119.03\n",
    "1. CUDA 10.1\n",
    "1. CuDNN 7.6.5\n",
    "\n",
    "Additional required software for preprocessing\n",
    "1. Spacy 3.0.5, GPU enabled (standard small English model)\n",
    "1. Gensim 4.0.1\n",
    "1. NLTK 3.5 (just for stopwords - should download them)\n",
    "\n",
    "Optional software for running code (slight adjustments needed if not used)\n",
    "1. progressbar 3.53.1\n",
    "1. pandarallel 1.5.2"
   ]
  },
  {
   "cell_type": "markdown",
   "metadata": {},
   "source": [
    "# Import libraries"
   ]
  },
  {
   "cell_type": "code",
   "execution_count": 2,
   "metadata": {},
   "outputs": [
    {
     "name": "stdout",
     "output_type": "stream",
     "text": [
      "True\n"
     ]
    }
   ],
   "source": [
    "# standard imports (installed by default w/ anaconda)\n",
    "import pandas as pd, numpy as np, os,random, matplotlib.pyplot as plt,gc\n",
    "from itertools import chain\n",
    "from collections import Counter\n",
    "%matplotlib inline\n",
    "\n",
    "# Tensorflow for GPU-enabled deep learning \n",
    "import tensorflow as tf\n",
    "import tensorflow.keras\n",
    "from tensorflow.keras.preprocessing.text import Tokenizer\n",
    "from tensorflow.keras.preprocessing.sequence import pad_sequences\n",
    "from tensorflow.keras.layers import Concatenate, Dense, Input, LSTM, Embedding, Dropout, Activation, GRU, Flatten\n",
    "from tensorflow.keras.layers import Bidirectional, GlobalMaxPool1D\n",
    "from tensorflow.keras.models import Model, Sequential\n",
    "from tensorflow.keras.layers import Convolution1D\n",
    "from tensorflow.keras import initializers, regularizers, constraints, optimizers, layers\n",
    "from tensorflow.keras.callbacks import EarlyStopping\n",
    "\n",
    "print(tf.test.is_gpu_available()) # GPU enabled?\n",
    "\n",
    "\n",
    "#### Needed only for processing raw data (not necessary, skip to Creating a prediciton model)\n",
    "# import progressbar # don't need this if progress tracking on loops is not needed\n",
    "# from pandarallel import pandarallel # don't need this if no parallel processing is desired on pandas dataframes\n",
    "# # change .parallel_apply to .apply\n",
    "# pandarallel.initialize(nb_workers=5)\n",
    "# # Imports for NLP\n",
    "# import spacy\n",
    "# from nltk.corpus import stopwords\n",
    "# sw = stopwords.words('english')\n",
    "# from gensim.models.phrases import Phrases, ENGLISH_CONNECTOR_WORDS"
   ]
  },
  {
   "cell_type": "markdown",
   "metadata": {},
   "source": [
    "# Raw Files"
   ]
  },
  {
   "cell_type": "code",
   "execution_count": 2,
   "metadata": {},
   "outputs": [
    {
     "name": "stdout",
     "output_type": "stream",
     "text": [
      "Total Venues: 176095\n"
     ]
    }
   ],
   "source": [
    "# Figure out what data we have\n",
    "# This data was collected with coauthor Alex Chaudhry from 2017-2018 (see Wang & Chaudhry, 2018 JMR paper for data details), contains\n",
    "\n",
    "flist = list()\n",
    "for root,sub,files in os.walk('/mnt/data2/tripadvisor/New_Review_Data2/scrape_4'):\n",
    "    files = [f for f in files if '.txt' in f]\n",
    "    if len(files)>0:\n",
    "        flist.append(['/'.join([root,f]) for f in files])\n",
    "flist = list(chain(*flist))\n",
    "\n",
    "print('Total Venues: {}'.format(len(flist)))"
   ]
  },
  {
   "cell_type": "code",
   "execution_count": 3,
   "metadata": {},
   "outputs": [],
   "source": [
    "# ignore predominantly foreign language files\n",
    "flist = [f for f in flist if 'lang_detect' not in f] \n",
    "# Get a sample of files:\n",
    "random.seed(1)\n",
    "samplesize = 200 # number of hotels\n",
    "flist = random.sample(flist, samplesize) # Sample some files"
   ]
  },
  {
   "cell_type": "markdown",
   "metadata": {},
   "source": [
    "# Preprocess texts\n"
   ]
  },
  {
   "cell_type": "markdown",
   "metadata": {},
   "source": [
    "While not the focus of this notebook, this step can be crucial for the successful application of deep learning NLP models. Some basic elements of pre-processing include:\n",
    "\n",
    "1. Normalization: lemmatize, remove stop words (uninformative words like articles)\n",
    "1. Phrase modeling: combine words that appear together frequently into phrases. This step can greatly improve custom trained models but will be unnecessary if using pre-trained NLP models like BERT as a starting point. There's a tradeoff here between the value of massive training scale of pre-trained models versus context-specific domain knowledge that can be captured by context-specific phrases.\n",
    "1. Tokenizing: map remaining words and phrases to integer IDs, filter out infrequent words (probably misspellings or proper nouns) and frequent words (uninformative words). The filtering is less necessary with more sophisticated models and big data.\n",
    "\n",
    "Some additional steps we take in this section include removing non-English reviews, removing punctuation, and de-casing."
   ]
  },
  {
   "cell_type": "code",
   "execution_count": 4,
   "metadata": {},
   "outputs": [
    {
     "name": "stderr",
     "output_type": "stream",
     "text": [
      "100% (200 of 200) |######################| Elapsed Time: 0:00:01 Time:  0:00:01\n"
     ]
    }
   ],
   "source": [
    "# Construct dataset form individual CSV's\n",
    "data = list()\n",
    "for f in progressbar.progressbar(flist):\n",
    "    df = pd.read_csv(f, encoding = 'utf-8', sep = '|', index_col = 0)\n",
    "    if 'review_subratings' in df.columns.values:\n",
    "        df.review_subratings = df.review_subratings.map(eval)\n",
    "        subratings = list(set(chain(*df.review_subratings.apply(lambda x: x.keys()))))\n",
    "        for r in subratings:\n",
    "            df['r_{}'.format(r.lower().replace(' ', '_').replace('/','').split('(')[0].replace('__','_'))] = df.review_subratings.apply(lambda x: x.get(r))\n",
    "        cols = ['r_{}'.format(r.lower().replace(' ', '_').replace('/','').split('(')[0].replace('__','_')) for r in subratings]\n",
    "        df = df[['gd', 'review_id', 'review_date','review_rating', 'review_text']+cols]\n",
    "        df = df[df.review_text.notnull()]\n",
    "        data.append(df)\n",
    "data = pd.concat(data).reset_index(drop = True)\n",
    "del df"
   ]
  },
  {
   "cell_type": "code",
   "execution_count": 5,
   "metadata": {},
   "outputs": [],
   "source": [
    "# Get rid of non-English reviews by detecting the proportion of English stop words in the review\n",
    "sws = set([w for w in sw if len(w)>2])\n",
    "nwrds = len(sws)\n",
    "data['stopwords'] = data.review_text.parallel_apply(lambda x: len([w for w in x.strip().split() if w in sws]))\n",
    "data['reviewlen'] = data.review_text.str.strip().str.split().map(len)\n",
    "data['stopword_pct'] = data.stopwords/data.reviewlen"
   ]
  },
  {
   "cell_type": "code",
   "execution_count": 6,
   "metadata": {},
   "outputs": [
    {
     "data": {
      "text/plain": [
       "<AxesSubplot:>"
      ]
     },
     "execution_count": 6,
     "metadata": {},
     "output_type": "execute_result"
    },
    {
     "data": {
      "image/png": "[encoded data removed]",
      "text/plain": [
       "<Figure size 432x288 with 1 Axes>"
      ]
     },
     "metadata": {
      "needs_background": "light"
     },
     "output_type": "display_data"
    }
   ],
   "source": [
    "# Second peak below .1, get rid of all those, likely non-english.\n",
    "# In my experience, .1 seems like the norm.\n",
    "data.stopword_pct.hist() "
   ]
  },
  {
   "cell_type": "code",
   "execution_count": 7,
   "metadata": {},
   "outputs": [
    {
     "data": {
      "text/plain": [
       "10     We were in a nice two bedroom condo. This reso...\n",
       "128    The best part of fairfield bay is no heavy pre...\n",
       "258    Sono andata in vacanza nella seconda settimana...\n",
       "261    Nous sommes parti à deux fin septembre, pour 5...\n",
       "262    Ronduit misleidend. Het is om te beginnen geen...\n",
       "Name: review_text, dtype: object"
      ]
     },
     "execution_count": 7,
     "metadata": {},
     "output_type": "execute_result"
    }
   ],
   "source": [
    "# Just check to see that these appear to be mostly non-English\n",
    "data[data.stopword_pct<.1].head()['review_text'] "
   ]
  },
  {
   "cell_type": "code",
   "execution_count": 8,
   "metadata": {},
   "outputs": [],
   "source": [
    "data = data[data.stopword_pct>.1] # keep only English"
   ]
  },
  {
   "cell_type": "code",
   "execution_count": 9,
   "metadata": {},
   "outputs": [
    {
     "data": {
      "text/plain": [
       "0    Immaculate, we had some neighbors, but rarely ...\n",
       "1    From the time we checked in on Dec 30 @845pm. ...\n",
       "2    We stayed in the Fairways condos. Very clean a...\n",
       "3    We rented a 2BR condo this through RCI for Tha...\n",
       "4    From the time you walk through the door at the...\n",
       "Name: review_text, dtype: object"
      ]
     },
     "execution_count": 9,
     "metadata": {},
     "output_type": "execute_result"
    }
   ],
   "source": [
    "data.review_text.head() # English!"
   ]
  },
  {
   "cell_type": "markdown",
   "metadata": {},
   "source": [
    "## Lemmatization\n",
    "\n",
    "We use Spacy to do lemmatization. Spacy preloads state of the art deep-learning English parsing models. These can be run using GPU. Alternative methods such as rule-based stemming can be executed much faster, see NLTK stemming methods."
   ]
  },
  {
   "cell_type": "code",
   "execution_count": 10,
   "metadata": {},
   "outputs": [],
   "source": [
    "spacy.require_gpu() # use GPU for faster computation\n",
    "nlp = spacy.load('en_core_web_sm') # using full transformer based models (better accuracy)"
   ]
  },
  {
   "cell_type": "code",
   "execution_count": 11,
   "metadata": {},
   "outputs": [],
   "source": [
    "texts = list(data.review_text)"
   ]
  },
  {
   "cell_type": "code",
   "execution_count": 12,
   "metadata": {},
   "outputs": [
    {
     "data": {
      "text/plain": [
       "81453"
      ]
     },
     "execution_count": 12,
     "metadata": {},
     "output_type": "execute_result"
    }
   ],
   "source": [
    "# Lemmatize - this may take a while\n",
    "# A faster, but less accurate alternative is to use stemming methods (see NLTK lemmatizers)\n",
    "lemma = [[[w.lemma_.strip().lower() for w in s if not w.is_punct] for s in nlp(t).sents] for t in texts]\n",
    "del nlp\n",
    "gc.collect()"
   ]
  },
  {
   "cell_type": "markdown",
   "metadata": {},
   "source": [
    "## Phrase modeling \n",
    "\n",
    "We use Gensim to do co-location phrase modeling. In essence, any 2 words that appear next to each other more than K times than would be expected at random given empirical frequencies of words will be tagged as a phrase. Usually, we use K=10. Note that we run phrase modeling twice, the first pass detects phrases of 2 words, the second pass can detect phrases consisting of up to 4 words."
   ]
  },
  {
   "cell_type": "code",
   "execution_count": 13,
   "metadata": {},
   "outputs": [],
   "source": [
    "# Lemmatized sentences\n",
    "sentences = list(chain(*lemma))"
   ]
  },
  {
   "cell_type": "code",
   "execution_count": 14,
   "metadata": {},
   "outputs": [],
   "source": [
    "# Model phrases using colocation frequency >10x random\n",
    "phrase_model = Phrases(sentences, min_count=5, threshold=10, connector_words=ENGLISH_CONNECTOR_WORDS)\n",
    "sentences2 = phrase_model[sentences]"
   ]
  },
  {
   "cell_type": "code",
   "execution_count": 15,
   "metadata": {},
   "outputs": [],
   "source": [
    "# run again for longer sequences\n",
    "phrase_model2 = Phrases(sentences2, min_count=5, threshold=10, connector_words=ENGLISH_CONNECTOR_WORDS)\n",
    "sentences3 = phrase_model2[sentences2]"
   ]
  },
  {
   "cell_type": "code",
   "execution_count": 16,
   "metadata": {},
   "outputs": [
    {
     "data": {
      "text/plain": [
       "['the',\n",
       " 'resort',\n",
       " 'have',\n",
       " 'plenty',\n",
       " 'to',\n",
       " 'do',\n",
       " 'we',\n",
       " 'hike',\n",
       " 'eat',\n",
       " 'out',\n",
       " 'go',\n",
       " 'to',\n",
       " 'the',\n",
       " 'grocery_store',\n",
       " 'play_mini_golf',\n",
       " 'disc_golf',\n",
       " 'and',\n",
       " 'on',\n",
       " 'the',\n",
       " 'playground']"
      ]
     },
     "execution_count": 16,
     "metadata": {},
     "output_type": "execute_result"
    }
   ],
   "source": [
    "sentences3[111] # look at the phrases"
   ]
  },
  {
   "cell_type": "code",
   "execution_count": 17,
   "metadata": {},
   "outputs": [],
   "source": [
    "# get parsed documents - previously we had sentences\n",
    "parsed = [list(phrase_model2[phrase_model[l]]) for l in lemma] "
   ]
  },
  {
   "cell_type": "code",
   "execution_count": 18,
   "metadata": {},
   "outputs": [],
   "source": [
    "# remove stopwords\n",
    "parsed = [[[w for w in s if w not in sw] for s in p] for p in parsed] "
   ]
  },
  {
   "cell_type": "code",
   "execution_count": 19,
   "metadata": {},
   "outputs": [],
   "source": [
    "# Create new column for processed reviews in dataframe\n",
    "data['processed_reviews'] = [' '.join(list(chain(*p))) for p in parsed] # Get text as single str"
   ]
  },
  {
   "cell_type": "code",
   "execution_count": 20,
   "metadata": {},
   "outputs": [
    {
     "data": {
      "text/plain": [
       "'immaculate neighbor rarely hear beautiful location lot tree foliage unit recently remodel beautiful washer_and_dryer also include unit post picture take later'"
      ]
     },
     "execution_count": 20,
     "metadata": {},
     "output_type": "execute_result"
    }
   ],
   "source": [
    "# processed text looks like this\n",
    "data.processed_reviews[0] "
   ]
  },
  {
   "cell_type": "code",
   "execution_count": 21,
   "metadata": {},
   "outputs": [],
   "source": [
    "# Max text length this is the distribution of review length (based on processed text)\n",
    "# We can use this to inform us of the input length into the deep learning model\n",
    "data['processed_len'] = data.processed_reviews.str.split().map(len)"
   ]
  },
  {
   "cell_type": "code",
   "execution_count": 22,
   "metadata": {},
   "outputs": [
    {
     "data": {
      "text/plain": [
       "<AxesSubplot:>"
      ]
     },
     "execution_count": 22,
     "metadata": {},
     "output_type": "execute_result"
    },
    {
     "data": {
      "image/png": "[encoded data removed]",
      "text/plain": [
       "<Figure size 432x288 with 1 Axes>"
      ]
     },
     "metadata": {
      "needs_background": "light"
     },
     "output_type": "display_data"
    }
   ],
   "source": [
    "data.processed_len.hist()"
   ]
  },
  {
   "cell_type": "markdown",
   "metadata": {},
   "source": [
    "## Standardize vocab (remove extremes)"
   ]
  },
  {
   "cell_type": "code",
   "execution_count": 23,
   "metadata": {},
   "outputs": [],
   "source": [
    "# Get vocab \n",
    "vocab = Counter(chain(*data.processed_reviews.str.strip().str.lower().str.split()))\n",
    "V = pd.DataFrame(vocab.items(), columns = ['w', 'ct'])\n",
    "V['logct'] = np.log(V.ct)"
   ]
  },
  {
   "cell_type": "code",
   "execution_count": 24,
   "metadata": {},
   "outputs": [
    {
     "data": {
      "text/plain": [
       "<AxesSubplot:>"
      ]
     },
     "execution_count": 24,
     "metadata": {},
     "output_type": "execute_result"
    },
    {
     "data": {
      "image/png": "[encoded data removed]",
      "text/plain": [
       "<Figure size 432x288 with 1 Axes>"
      ]
     },
     "metadata": {
      "needs_background": "light"
     },
     "output_type": "display_data"
    }
   ],
   "source": [
    "# log count distribution of each token\n",
    "# We can cut off words that appear too frequently\n",
    "V.logct.hist()"
   ]
  },
  {
   "cell_type": "code",
   "execution_count": 25,
   "metadata": {},
   "outputs": [
    {
     "data": {
      "text/plain": [
       "58049"
      ]
     },
     "execution_count": 25,
     "metadata": {},
     "output_type": "execute_result"
    }
   ],
   "source": [
    "# Filter out words\n",
    "remove = set(V.loc[(V.ct<20)|(V.logct>9), 'w'])\n",
    "len(remove)"
   ]
  },
  {
   "cell_type": "code",
   "execution_count": 26,
   "metadata": {},
   "outputs": [],
   "source": [
    "data['processed_review_filter'] = data.processed_reviews.parallel_apply(lambda x: ' ' .join([w for w in x.strip().lower().split() if w not in remove]))"
   ]
  },
  {
   "cell_type": "markdown",
   "metadata": {},
   "source": [
    "# Creating a text prediction model"
   ]
  },
  {
   "cell_type": "markdown",
   "metadata": {},
   "source": [
    "## Read in processed data"
   ]
  },
  {
   "cell_type": "code",
   "execution_count": 3,
   "metadata": {},
   "outputs": [
    {
     "data": {
      "text/plain": [
       "array(['gd', 'review_id', 'review_date', 'review_rating', 'review_text',\n",
       "       'r_cleanliness', 'r_rooms', 'r_value', 'r_service',\n",
       "       'r_sleep_quality', 'r_check_in_front_desk', 'r_business_service_',\n",
       "       'r_location', 'stopwords', 'reviewlen', 'stopword_pct',\n",
       "       'processed_reviews', 'processed_len', 'processed_review_filter'],\n",
       "      dtype=object)"
      ]
     },
     "execution_count": 3,
     "metadata": {},
     "output_type": "execute_result"
    }
   ],
   "source": [
    "# Save/Load preprocessed reviews\n",
    "if 1==0: # if running pre processing, set 1==1\n",
    "    data.to_csv('tripadvisor.csv', encoding = 'utf-8')\n",
    "if 1==1: # if using processed texts, set 1==1\n",
    "    data = pd.read_csv('tripadvisor.csv', encoding = 'utf-8', index_col = 0)\n",
    "    data = data[data.processed_review_filter.notnull()]\n",
    "data.columns.values"
   ]
  },
  {
   "cell_type": "code",
   "execution_count": 4,
   "metadata": {},
   "outputs": [
    {
     "data": {
      "text/plain": [
       "8699"
      ]
     },
     "execution_count": 4,
     "metadata": {},
     "output_type": "execute_result"
    }
   ],
   "source": [
    "# Length of vocabulary\n",
    "data['processed_review_filter'] = data['processed_review_filter']\n",
    "vocab = set(chain(*data.processed_review_filter.str.split()))\n",
    "len(vocab) # Vocab size"
   ]
  },
  {
   "cell_type": "markdown",
   "metadata": {},
   "source": [
    "## Define model architecture"
   ]
  },
  {
   "cell_type": "markdown",
   "metadata": {},
   "source": [
    "Our model will consist of the following **core concepts** from deep learning.\n",
    "\n",
    "1. [Embedding](https://en.wikipedia.org/wiki/Word_embedding)\n",
    "1. [RNN](https://en.wikipedia.org/wiki/Recurrent_neural_network) / [LSTM](https://colah.github.io/posts/2015-08-Understanding-LSTMs/)\n",
    "1. [Attention](https://en.wikipedia.org/wiki/Attention_(machine_learning))\n",
    "1. [Dense network with nonlinearities](https://medium.com/datathings/dense-layers-explained-in-a-simple-way-62fe1db0ed75)\n",
    "1. [Dropout](https://en.wikipedia.org/wiki/Dilution_(neural_networks))\n",
    "1. [Loss function](https://en.wikipedia.org/wiki/Loss_function)"
   ]
  },
  {
   "cell_type": "markdown",
   "metadata": {},
   "source": [
    "### Embedding\n",
    "\n"
   ]
  },
  {
   "cell_type": "markdown",
   "metadata": {},
   "source": [
    "Embedding is a powerful concept in ML, particularly for NLP but also for other problems. The basic idea is to take a high dimensional variable and represent them in a lower dimensional space. In NLP, we think of the high dimensional variable as the words contianed in a vocabulary. A typical way to convert text to numerical data is to one-hot-encode (aka dummy code) the text. However, it may become computationally infeasible and also inefficient from a learning perspective to represent each word as an independent and unique factor. Therefore, rather than representing each of 10k words in a vocabulary, for example, as a 10k-dimensional vector with 9999 0's and a single 1, we can represent each word as being a vector in a lower dimensional space. For instance, from our model's embedding representation, each word will occupy a 128-D space. Here's an example of a few words and the first 5 dimensions:\n",
    "\n",
    "![Embedding example](./images/embedding_matrix.png)\n",
    "\n",
    "By embedding a one-hot-encoded space into a lower dimensional space, we are implicitly specifying that some words are close together than others in \"meaning.\" From a natural language processing perspective, this is very natural. The word hotel and motel, for example, are much more similar to each other than \"hotel\" and \"restaurant.\" Thinking beyond NLP, one can imagine the application to representing individual customer IDs as being embedded in a lower dimensional space - some customers are more alike than others (heterogeneity! targeting!)."
   ]
  },
  {
   "cell_type": "markdown",
   "metadata": {},
   "source": [
    "There is an important decision when using embedding in a neural network. Should we **train our own embedding** or **use pre-trained embeddings**? Pre-trained embeddings can reduce training time and allow you to leverage massive secondary datasets (wiki/common crawl). However, these embeddings are trained on general rather than context-specific documeents and do not allow you to pre-process the text with domain-specific knowledge in mind. We can also train our own embeddings, but even this can be generally done in 2 ways. First, we can train an embedding using an unsupervised method, like word2vec. Such an embedding model depends only on the sequence of words and the structure of sentences within documents, and not outcome labels. If we do not have much labeled data, we can use a full text corpous to conduct this type of embedding training. Alternatively, we can train our own embedding layer as part of a larger end-to-end deep learning model that has an objective of accurately predicting an outcome, i.e. training a purpose built embedding layer. In our case, we will demonstrate how to incorporate this last type of embedding.\n",
    "\n",
    "\n",
    "Since our embedding layer is designed to embed vocabulary into a lower dimensional space *that best predicts subcategory ratings*, **we will have very different embeddings depending on the dependent variable used to train** the model.\n",
    "\n",
    "**Service quality word embeddings** \n",
    "\n",
    "Most \"similar\" words for \"helpful\"\n",
    "![service embedding: helpful](./images/service_embed_helpful.png)\n",
    "\n",
    "Most \"similar\" words for \"rude\"\n",
    "![service embedding: rude](./images/service_embed_rude.png)\n",
    "\n",
    "**Room quality word embeddings**\n",
    "Clearly, helpful and rude don't reference rooms, but they are correlated with certain room characteristics. Thus, the embeddings here are less intuitive.\n",
    "\n",
    "Most \"similar\" words for \"helpful\"\n",
    "![service embedding: helpful](./images/room_embed_helpful.png)\n",
    "\n",
    "Most \"similar\" words for \"rude\"\n",
    "![service embedding: rude](./images/room_embed_rude.png)\n",
    "\n",
    "**However**, if we use room-relevant words, the embeddings make some more sense.\n",
    "\n",
    "Most \"similar\" words for \"dirty\"\n",
    "![service embedding: rude](./images/room_embed_dirty.png)\n",
    "\n"
   ]
  },
  {
   "cell_type": "markdown",
   "metadata": {},
   "source": [
    "### RNN/LSTM"
   ]
  },
  {
   "cell_type": "markdown",
   "metadata": {},
   "source": [
    "LSTM (long short-term memory) is a specific (and popular) type of RNN (recurrent neural network). The idea of both is to take temporal sequences into account in predictive models. In the context of NLP, the sequence of words matter above and beyond their inclusion in a document (think bag of words representation). For example, \"this old hotel's front desk employees are excellent\" is very different compared to \"hotel's old front desk employees are excellent.\" Thus the relative locations of words in a text is absolutely critical to the correct understanding of the text."
   ]
  },
  {
   "cell_type": "markdown",
   "metadata": {},
   "source": [
    "RNN generally model temporal dependencies by allowing past observations to pass information into subsequent observations. In the illustration before, each observation $x_t$ feeds into an RNN cell in which some operation $V$ is computed and passes some information $h_t$ into the next observation in a temporal sequence while outputting $O_t$ for the current time step.\n",
    "\n",
    "![RNN from wiki](https://upload.wikimedia.org/wikipedia/commons/thumb/b/b5/Recurrent_neural_network_unfold.svg/2880px-Recurrent_neural_network_unfold.svg.png)\n",
    "\n",
    "LSTM ([Hochreiter and Schmidhuber, 1997](http://www.bioinf.jku.at/publications/older/2604.pdf)) is an specific variant of RNN that has a more complex cell structure incorporating input, output, and forgetting gates. The design of LSTM is to allow for the network structure to learn from not only the most recent information (RNN's structure biases towards \"recent\" cells), but also context from earlier observations. This is especially important for NLP problems where information from an earlier part of the document provides the context for the machine to understand the meaning of a focal word. The figure below illustrates these the inner workings of an LSTM cell. The core idea of the LSTM modification of a vanilla RNN is visualized in the top horizontal line that goes through the cell and connects to the subsequent cell (the output of this is frequently denoted as $C_t$). This route of passing information is designed to have minimal interaction with the nonlinear operations within the cell. New information gets incorprated at two key points. First, a sigmoid ($\\sigma$) activation layer acts as a gate to allow certain information from the current $X_t$ through. Second, the $tanh$ activation creates a vector of new candidate values bounded between -1 and 1 that could be propagated to the next state. To determine if this vector is passed down, a second $\\sigma$ gate will generate 0's or 1's to multiply to the candidate values. The product of these 2 are then added to the updated long term information route. Finally, to pass on the \"short term\" $h_t$, we multiply the prior $\\sigma$-gated $h_{t-1}$ with a $tanh$-activated $C_t$ to determine $h_{t+1}$.\n",
    "\n",
    "In short, there are 2 routes for information to be transferred. A *long memory route* that sometimes incorporates new information and a *short memory route* that primarily passes down newer information, hence long short-term memory. For our problem, we actually run the LSTM forwards and backwards to achieve better performance, this is called bidirectional LSTM and is a staple of modern NLP models.\n",
    "\n",
    "![LSTM from colah](https://colah.github.io/posts/2015-08-Understanding-LSTMs/img/LSTM3-chain.png)\n",
    "[Borrowed from Chris Olah, *Google Brain*](https://colah.github.io/posts/2015-08-Understanding-LSTMs/)"
   ]
  },
  {
   "cell_type": "markdown",
   "metadata": {},
   "source": [
    "### Attention "
   ]
  },
  {
   "cell_type": "markdown",
   "metadata": {},
   "source": [
    "\n",
    "Not to be outdone by the success of LSTM, attention mechanisms have become a mainstay in the world of deep learning, particularly for NLP. The idea behind attention is incredibly simple (though there are variants with more complicated details). Typically in a ML model, only the final output from the last LSTM cell is propagated forward, since it encapsulated a summary of all the prior information. Attention layers allow all the intermediate outputs of each LSTM cell to be used in a \"smart\" way by weighting them (think weighted average). In practice, the weights typically pass through a network structure, like a $tanh$ activation fed into a softmax (logit probability weights) before combining with the sequential layer (lstm) outputs as a dot product. The end output from the attention layer is known as a \"context\" vector, which is fed forward to the rest of the deep learning structure. The illustration below from Matthew McAteer demonstrates how an bi-LSTM model can be used in conjunction with a global attention layer to improve a binary classification task. Note that for our task, we will solve a regression (not classification) problem\n",
    "\n",
    "\n",
    "![attention McAteer](https://matthewmcateer.me/media/attention/additive_attention.png)\n",
    "*borrowed from [Matthew McAteer](https://matthewmcateer.me/blog/getting-started-with-attention-for-classification/)*\n",
    "\n",
    "\n"
   ]
  },
  {
   "cell_type": "markdown",
   "metadata": {},
   "source": [
    "### Dense layers, nonlinear activation, dropout, Loss"
   ]
  },
  {
   "cell_type": "markdown",
   "metadata": {},
   "source": [
    "In our model, our attention context layer feeds in to one more fully connected hidden layer to reduce the attention dimensionality. A fully connected dense layer is often used to flexibly fit curves, particulary when combined with a simple nonlinear activation, such as ReLU (recitified linear unit). ReLu takes inputs and transforms them by converting all negative values to 0. This forced nonlinearity helps dense networks adapt to arbitrary functional forms. This presents an additional problem, overfitting (see illustration below). The problem with overfitting is that the model begins to memorize the training data than extracting systematic relationships that can be generalized to another dataset. There are many ways to combat this problem (i.e. adding L1/L2 penalties), but one that is almost always present with fully connected layers is dropout. Dropout works by randomly dropping nodes in a dense layer to train many versions of those layers. In this way, the network becomes more robust as weights per node are not over emphasized in training.\n",
    "\n",
    "![Medium Overfitting](https://miro.medium.com/max/1125/1*_7OPgojau8hkiPUiHoGK_w.png)\n",
    "From [Anup Bhande](https://medium.com/greyatom/what-is-underfitting-and-overfitting-in-machine-learning-and-how-to-deal-with-it-6803a989c76)\n",
    "\n",
    "Our model, layed out in code below, combines all the previously covered core topics in deep learning. We begin with an embedding layer, which feeds into a BiLSTM layer, which feeds into an attention layer, which feeds into a dense layer, which outputs to a single scalar, the predicted rating based on the review text input. To train a ML model, we need one more component, a objective on which to optimize, i.e. a loss function. Given our problem is to predict a continuous variable, we will be compute a mean squared error loss (just like OLS). Based on changes to this loss objective as a consequence of small adjustments to each of the trainable weights in our model (taking iterative derivatives from the last to first layer, i.e. back-propagation), we can finally train the model for our prediction task."
   ]
  },
  {
   "cell_type": "code",
   "execution_count": 5,
   "metadata": {},
   "outputs": [],
   "source": [
    "# Define Attention Layer\n",
    "# Basically a weighted average layer over RNN sequence\n",
    "# where weights are learned in training\n",
    "class Attention(tf.keras.Model):\n",
    "    def __init__(self, units):\n",
    "        super(Attention, self).__init__()\n",
    "        self.W1 = tf.keras.layers.Dense(units)\n",
    "        self.W2 = tf.keras.layers.Dense(units)\n",
    "        self.V = tf.keras.layers.Dense(1)\n",
    "\n",
    "    def call(self, features, hidden):\n",
    "        # hidden shape == (batch_size, hidden size)\n",
    "        # hidden_with_time_axis shape == (batch_size, 1, hidden size)\n",
    "        # we are doing this to perform addition to calculate the score\n",
    "        hidden_with_time_axis = tf.expand_dims(hidden, 1)\n",
    "          \n",
    "        # score shape == (batch_size, max_length, 1)\n",
    "        # we get 1 at the last axis because we are applying score to self.V\n",
    "        # the shape of the tensor before applying self.V is (batch_size, max_length, units)\n",
    "        score = tf.nn.tanh(\n",
    "            self.W1(features) + self.W2(hidden_with_time_axis))\n",
    "        # attention_weights shape == (batch_size, max_length, 1)\n",
    "        attention_weights = tf.nn.softmax(self.V(score), axis=1)\n",
    "          \n",
    "        # context_vector shape after sum == (batch_size, hidden_size)\n",
    "        context_vector = attention_weights * features\n",
    "        context_vector = tf.reduce_sum(context_vector, axis=1)\n",
    "        return context_vector, attention_weights\n",
    "    "
   ]
  },
  {
   "cell_type": "code",
   "execution_count": 6,
   "metadata": {},
   "outputs": [],
   "source": [
    "# Function to define full model\n",
    "def bilstm_attention_model(MAX_FEATURES=9000,MAX_LEN=300,EMBED_SIZE=128,RNN_CELL_SIZE=32, ATTEN_SIZE=10,DENSE_SIZE=54, DROPOUT=.1):\n",
    "    sequence_input = Input(shape=(MAX_LEN,), dtype=\"int32\")\n",
    "    embedded_sequences = Embedding(MAX_FEATURES, EMBED_SIZE)(sequence_input)\n",
    "\n",
    "    # Bidirectional LSTM\n",
    "    lstm = Bidirectional(LSTM(RNN_CELL_SIZE, return_sequences = True), \n",
    "                         name=\"bi_lstm_0\")(embedded_sequences)\n",
    "\n",
    "    # Getting our LSTM outputs\n",
    "    (lstm, forward_h, forward_c, backward_h, backward_c) = Bidirectional(LSTM(RNN_CELL_SIZE, \n",
    "                                                                              return_sequences=True, \n",
    "                                                                              return_state=True), \n",
    "                                                                         name=\"bi_lstm_1\")(lstm)\n",
    "    \n",
    "    \n",
    "    # Given bi-directional RNN, must concatenate the forward+ backward hidden states from each RNN \n",
    "    # before computing the attention weights and applying the weighted sum.\n",
    "    state_h = Concatenate()([forward_h, backward_h])\n",
    "    state_c = Concatenate()([forward_c, backward_c])\n",
    "    context_vector, attention_weights = Attention(ATTEN_SIZE)(lstm, state_h) # attention weighted output\n",
    "    dense = Dense(int(DENSE_SIZE), activation=\"relu\")(context_vector)\n",
    "    dropout = Dropout(DROPOUT)(dense)\n",
    "    output = Dense(1, activation=\"relu\")(dropout)\n",
    "    model = tf.keras.Model(inputs=sequence_input, outputs=output)\n",
    "    return model"
   ]
  },
  {
   "cell_type": "code",
   "execution_count": 7,
   "metadata": {},
   "outputs": [],
   "source": [
    "# Parameters of model (can change these - choice is a bit of an art)\n",
    "# We define them here just to print out the schematic below\n",
    "# these parameters can be optimally selected by doing a grid search, but in practice, this is not so practical \n",
    "\n",
    "\n",
    "EMBED_SIZE = 128\n",
    "  \n",
    "RNN_CELL_SIZE = 32\n",
    "  \n",
    "MAX_LEN = 300\n",
    "\n",
    "ATTEN_SIZE = 32\n",
    "\n",
    "DENSE_SIZE = 16\n",
    "\n",
    "DROPOUT = .1\n",
    "\n",
    "\n",
    "tokenizer = Tokenizer(num_words=None, filters = '', oov_token = 'OOV') # Create integer coding of vocab size\n",
    "tokenizer.fit_on_texts(data['processed_review_filter']) # Make text to sequence mapping\n",
    "\n",
    "MAX_FEATURES = len(tokenizer.word_index)"
   ]
  },
  {
   "cell_type": "code",
   "execution_count": null,
   "metadata": {},
   "outputs": [],
   "source": []
  },
  {
   "cell_type": "code",
   "execution_count": 14,
   "metadata": {
    "scrolled": true
   },
   "outputs": [
    {
     "data": {
      "image/png": "[encoded data removed]",
      "text/plain": [
       "<IPython.core.display.Image object>"
      ]
     },
     "execution_count": 14,
     "metadata": {},
     "output_type": "execute_result"
    }
   ],
   "source": [
    "model = bilstm_attention_model(MAX_FEATURES+1,\n",
    "                               MAX_LEN,\n",
    "                               EMBED_SIZE,\n",
    "                               RNN_CELL_SIZE, \n",
    "                               ATTEN_SIZE,\n",
    "                               DENSE_SIZE, \n",
    "                               DROPOUT=DROPOUT)\n",
    "\n",
    "\n",
    "\n",
    "\n",
    "# Print out model schematic\n",
    "tf.keras.utils.plot_model(model, show_shapes=True, dpi=80)\n"
   ]
  },
  {
   "cell_type": "markdown",
   "metadata": {},
   "source": [
    "## Training\n"
   ]
  },
  {
   "cell_type": "markdown",
   "metadata": {},
   "source": [
    "\n",
    "Training can also be a bit of an art. In this example, we specify some of the following common training hyperparameters/adjustments:\n",
    "\n",
    "1. Sample split (training, validation, testing)\n",
    "1. Validation\n",
    "1. Early stopping criteria + patience\n",
    "\n",
    "Sample split is a fundamental idea in ML. By separating a dataset into training, validation, and testing sets, we can optimize training and evaluate the results out of sample. Validation set is used to evaluate training performance, particularly to stop training when the out of sample predictions stop improving. We implement this for training our model."
   ]
  },
  {
   "cell_type": "code",
   "execution_count": 15,
   "metadata": {},
   "outputs": [],
   "source": [
    "# Full dataset predictors, this will be used to predict back on full dataset after training\n",
    "list_tokenized_train = tokenizer.texts_to_sequences(data.loc[:,'processed_review_filter']) # \n",
    "X_all =  pad_sequences(list_tokenized_train, maxlen=MAX_LEN)"
   ]
  },
  {
   "cell_type": "code",
   "execution_count": 16,
   "metadata": {},
   "outputs": [
    {
     "data": {
      "text/plain": [
       "array([[   0,    0,    0, ...,  495,    4,  373],\n",
       "       [   0,    0,    0, ...,  186, 6344,  177],\n",
       "       [   0,    0,    0, ..., 1148,  171,  878],\n",
       "       ...,\n",
       "       [   0,    0,    0, ...,   31, 2475,  690],\n",
       "       [   0,    0,    0, ...,  827,  481,   27],\n",
       "       [   0,    0,    0, ...,   16,  244,  166]], dtype=int32)"
      ]
     },
     "execution_count": 16,
     "metadata": {},
     "output_type": "execute_result"
    }
   ],
   "source": [
    "X_all[:10] # sequences of token ID's in column space, 1 row = 1 review"
   ]
  },
  {
   "cell_type": "code",
   "execution_count": 17,
   "metadata": {
    "scrolled": true
   },
   "outputs": [
    {
     "name": "stdout",
     "output_type": "stream",
     "text": [
      "Epoch 1/100\n",
      "25/25 [==============================] - 4s 166ms/step - loss: 3.3038 - val_loss: 1.1229\n",
      "Epoch 2/100\n",
      "25/25 [==============================] - 3s 136ms/step - loss: 1.3635 - val_loss: 0.8683\n",
      "Epoch 3/100\n",
      "25/25 [==============================] - 3s 136ms/step - loss: 0.9589 - val_loss: 0.6670\n",
      "Epoch 4/100\n",
      "25/25 [==============================] - 3s 135ms/step - loss: 0.7601 - val_loss: 0.6391\n",
      "Epoch 5/100\n",
      "25/25 [==============================] - 3s 135ms/step - loss: 0.6837 - val_loss: 0.6136\n",
      "Epoch 6/100\n",
      "25/25 [==============================] - 3s 135ms/step - loss: 0.5991 - val_loss: 0.6321\n",
      "Epoch 7/100\n",
      "25/25 [==============================] - 3s 135ms/step - loss: 0.5548 - val_loss: 0.6346\n",
      "Epoch 8/100\n",
      "25/25 [==============================] - 3s 135ms/step - loss: 0.5024 - val_loss: 0.6917\n",
      "Epoch 9/100\n",
      "25/25 [==============================] - 3s 135ms/step - loss: 0.4659 - val_loss: 0.6724\n",
      "Epoch 10/100\n",
      "25/25 [==============================] - 3s 135ms/step - loss: 0.4467 - val_loss: 0.6838\n",
      "Epoch 11/100\n",
      "25/25 [==============================] - 3s 135ms/step - loss: 0.4265 - val_loss: 0.6674\n",
      "Epoch 12/100\n",
      "25/25 [==============================] - 3s 135ms/step - loss: 0.4043 - val_loss: 0.6801\n",
      "Epoch 13/100\n",
      "25/25 [==============================] - 3s 135ms/step - loss: 0.3890 - val_loss: 0.6927\n",
      "Epoch 14/100\n",
      "25/25 [==============================] - 3s 135ms/step - loss: 0.3643 - val_loss: 0.6928\n",
      "Epoch 15/100\n",
      "25/25 [==============================] - 3s 136ms/step - loss: 0.3518 - val_loss: 0.6966\n",
      "Epoch 1/100\n",
      "19/19 [==============================] - 3s 173ms/step - loss: 3.4479 - val_loss: 1.0473\n",
      "Epoch 2/100\n",
      "19/19 [==============================] - 3s 136ms/step - loss: 1.1417 - val_loss: 0.7273\n",
      "Epoch 3/100\n",
      "19/19 [==============================] - 3s 136ms/step - loss: 0.8580 - val_loss: 0.6574\n",
      "Epoch 4/100\n",
      "19/19 [==============================] - 3s 134ms/step - loss: 0.7238 - val_loss: 0.6582\n",
      "Epoch 5/100\n",
      "19/19 [==============================] - 3s 135ms/step - loss: 0.6381 - val_loss: 0.6688\n",
      "Epoch 6/100\n",
      "19/19 [==============================] - 3s 136ms/step - loss: 0.5921 - val_loss: 0.6737\n",
      "Epoch 7/100\n",
      "19/19 [==============================] - 3s 135ms/step - loss: 0.5517 - val_loss: 0.7073\n",
      "Epoch 8/100\n",
      "19/19 [==============================] - 3s 135ms/step - loss: 0.5213 - val_loss: 0.7435\n",
      "Epoch 9/100\n",
      "19/19 [==============================] - 3s 135ms/step - loss: 0.4897 - val_loss: 0.6981\n",
      "Epoch 10/100\n",
      "19/19 [==============================] - 3s 136ms/step - loss: 0.4602 - val_loss: 0.7011\n",
      "Epoch 11/100\n",
      "19/19 [==============================] - 3s 134ms/step - loss: 0.4390 - val_loss: 0.7246\n",
      "Epoch 12/100\n",
      "19/19 [==============================] - 3s 135ms/step - loss: 0.4329 - val_loss: 0.7133\n",
      "Epoch 13/100\n",
      "19/19 [==============================] - 3s 136ms/step - loss: 0.4116 - val_loss: 0.7537\n",
      "Epoch 1/100\n",
      "20/20 [==============================] - 3s 169ms/step - loss: 3.2545 - val_loss: 1.2825\n",
      "Epoch 2/100\n",
      "20/20 [==============================] - 3s 135ms/step - loss: 1.5161 - val_loss: 1.1202\n",
      "Epoch 3/100\n",
      "20/20 [==============================] - 3s 135ms/step - loss: 1.2311 - val_loss: 0.8446\n",
      "Epoch 4/100\n",
      "20/20 [==============================] - 3s 135ms/step - loss: 0.9645 - val_loss: 0.7404\n",
      "Epoch 5/100\n",
      "20/20 [==============================] - 3s 134ms/step - loss: 0.8168 - val_loss: 0.7727\n",
      "Epoch 6/100\n",
      "20/20 [==============================] - 3s 135ms/step - loss: 0.7261 - val_loss: 0.7273\n",
      "Epoch 7/100\n",
      "20/20 [==============================] - 3s 135ms/step - loss: 0.6781 - val_loss: 0.7234\n",
      "Epoch 8/100\n",
      "20/20 [==============================] - 3s 135ms/step - loss: 0.6186 - val_loss: 0.7849\n",
      "Epoch 9/100\n",
      "20/20 [==============================] - 3s 134ms/step - loss: 0.5763 - val_loss: 0.7781\n",
      "Epoch 10/100\n",
      "20/20 [==============================] - 3s 134ms/step - loss: 0.5404 - val_loss: 0.7981\n",
      "Epoch 11/100\n",
      "20/20 [==============================] - 3s 135ms/step - loss: 0.5168 - val_loss: 0.7660\n",
      "Epoch 12/100\n",
      "20/20 [==============================] - 3s 134ms/step - loss: 0.4874 - val_loss: 0.7670\n",
      "Epoch 13/100\n",
      "20/20 [==============================] - 3s 135ms/step - loss: 0.4742 - val_loss: 0.7966\n",
      "Epoch 14/100\n",
      "20/20 [==============================] - 3s 133ms/step - loss: 0.4568 - val_loss: 0.8338\n",
      "Epoch 15/100\n",
      "20/20 [==============================] - 3s 134ms/step - loss: 0.4352 - val_loss: 0.7886\n",
      "Epoch 16/100\n",
      "20/20 [==============================] - 3s 135ms/step - loss: 0.4110 - val_loss: 0.8002\n",
      "Epoch 17/100\n",
      "20/20 [==============================] - 3s 135ms/step - loss: 0.3996 - val_loss: 0.8135\n",
      "Epoch 1/100\n",
      "19/19 [==============================] - 3s 174ms/step - loss: 3.2053 - val_loss: 0.7411\n",
      "Epoch 2/100\n",
      "19/19 [==============================] - 3s 136ms/step - loss: 1.0163 - val_loss: 0.7424\n",
      "Epoch 3/100\n",
      "19/19 [==============================] - 3s 135ms/step - loss: 0.9685 - val_loss: 0.7309\n",
      "Epoch 4/100\n",
      "19/19 [==============================] - 3s 136ms/step - loss: 0.9574 - val_loss: 0.7234\n",
      "Epoch 5/100\n",
      "19/19 [==============================] - 3s 136ms/step - loss: 0.9211 - val_loss: 0.6438\n",
      "Epoch 6/100\n",
      "19/19 [==============================] - 3s 136ms/step - loss: 0.7928 - val_loss: 0.5961\n",
      "Epoch 7/100\n",
      "19/19 [==============================] - 3s 134ms/step - loss: 0.7126 - val_loss: 0.6101\n",
      "Epoch 8/100\n",
      "19/19 [==============================] - 3s 136ms/step - loss: 0.6144 - val_loss: 0.6112\n",
      "Epoch 9/100\n",
      "19/19 [==============================] - 3s 135ms/step - loss: 0.5503 - val_loss: 0.6435\n",
      "Epoch 10/100\n",
      "19/19 [==============================] - 3s 135ms/step - loss: 0.4816 - val_loss: 0.6403\n",
      "Epoch 11/100\n",
      "19/19 [==============================] - 3s 135ms/step - loss: 0.4538 - val_loss: 0.6520\n",
      "Epoch 12/100\n",
      "19/19 [==============================] - 3s 135ms/step - loss: 0.4277 - val_loss: 0.6650\n",
      "Epoch 13/100\n",
      "19/19 [==============================] - 3s 135ms/step - loss: 0.3989 - val_loss: 0.7051\n",
      "Epoch 14/100\n",
      "19/19 [==============================] - 3s 135ms/step - loss: 0.3754 - val_loss: 0.6598\n",
      "Epoch 15/100\n",
      "19/19 [==============================] - 3s 135ms/step - loss: 0.3537 - val_loss: 0.6991\n",
      "Epoch 16/100\n",
      "19/19 [==============================] - 3s 136ms/step - loss: 0.3445 - val_loss: 0.6608\n"
     ]
    }
   ],
   "source": [
    "BATCH_SIZE = 1000 # number to train in a batch\n",
    "EPOCHS = 100 # complete cycles through training data\n",
    "\n",
    "np.random.seed(1) # seed for reproducible results\n",
    "data['train'] = np.random.binomial(1,.75, size =len(data)) # Randomly assign 15% to testing set\n",
    "data.loc[data.train==0,'train'] = np.random.binomial(1,.5,size = sum(data.train==0))-1\n",
    "\n",
    "# DVs = [c for c in data.columns if ('r_'==c[:2])&('_pred' not in c)]# train for these DVs\n",
    "\n",
    "DVs = ['r_service', 'r_rooms', 'r_value', 'r_location']\n",
    "\n",
    "training_histories = list()\n",
    "for dv in DVs:\n",
    "    \n",
    "    cond = (data[dv].notnull())&(data['train']==1) # subset condition for training\n",
    "    \n",
    "    # Tokenize the text (convert to list of IDs)\n",
    "    list_tokenized_train = tokenizer.texts_to_sequences(data.loc[cond,'processed_review_filter'])\n",
    "    \n",
    "    # 0 Pad the tokenized data\n",
    "    X_train = pad_sequences(list_tokenized_train, maxlen=MAX_LEN)\n",
    "\n",
    "    # Select corresponding training labels\n",
    "    y_train = data.loc[cond,dv]\n",
    "    \n",
    "    condval = (data[dv].notnull())&(data['train']==-1)\n",
    "    # Tokenize the text (convert to list of IDs)\n",
    "    list_tokenized_val = tokenizer.texts_to_sequences(data.loc[condval,'processed_review_filter'])\n",
    "    \n",
    "    # 0 Pad the tokenized data\n",
    "    X_val = pad_sequences(list_tokenized_val, maxlen=MAX_LEN)\n",
    "\n",
    "    # Select corresponding training labels\n",
    "    y_val = data.loc[condval,dv]\n",
    "    \n",
    "    # define model\n",
    "    model = bilstm_attention_model(MAX_FEATURES + 1, # Add 1 feature for 0 padding\n",
    "                                   MAX_LEN,\n",
    "                                   EMBED_SIZE,\n",
    "                                   RNN_CELL_SIZE, \n",
    "                                   ATTEN_SIZE,\n",
    "                                   DENSE_SIZE, \n",
    "                                   DROPOUT=DROPOUT)\n",
    "    \n",
    "    \n",
    "    # compile model to maximize mean squared error, use adaptive optimizer\n",
    "    model.compile(loss='mse', optimizer=tf.keras.optimizers.Adam(learning_rate=.01))\n",
    "    \n",
    "    # Train\n",
    "    history = model.fit(X_train,y_train,\n",
    "                        batch_size=BATCH_SIZE,\n",
    "                        epochs=EPOCHS,\n",
    "                        validation_data=(X_val, y_val),\n",
    "                       callbacks = [EarlyStopping(patience=10, restore_best_weights=True)])\n",
    "    \n",
    "    training_histories.append(history)\n",
    "    \n",
    "    # Save model in Models subfoler, make it if it doesn't exist\n",
    "    try:\n",
    "        os.listdir('./models/')\n",
    "    except:\n",
    "        os.mkdir('./models/')\n",
    "        \n",
    "    # Save model\n",
    "    model.save_weights('./models/bilstm_attention_{}.h5'.format(dv))\n",
    "    \n",
    "    \n",
    "    # predict back on dataset\n",
    "    data[dv+'_pred'] = model.predict(X_all)\n",
    "    \n",
    "    del model\n",
    "    gc.collect()"
   ]
  },
  {
   "cell_type": "markdown",
   "metadata": {},
   "source": [
    "# Diagnostics"
   ]
  },
  {
   "cell_type": "markdown",
   "metadata": {},
   "source": [
    "## Training / Validation / Testing $R^2$"
   ]
  },
  {
   "cell_type": "code",
   "execution_count": 18,
   "metadata": {},
   "outputs": [],
   "source": [
    "def mse(ytrue,ypred):\n",
    "    return np.nanmean((ytrue-ypred)**2)\n",
    "\n",
    "def r2(ytrue,ypred):\n",
    "    SSR = mse(ytrue,ypred)\n",
    "    SST = np.nanmean((ytrue-np.nanmean(ytrue))**2)\n",
    "    return 1-SSR/SST"
   ]
  },
  {
   "cell_type": "code",
   "execution_count": 19,
   "metadata": {},
   "outputs": [
    {
     "name": "stdout",
     "output_type": "stream",
     "text": [
      "Training R2\n"
     ]
    },
    {
     "data": {
      "text/html": [
       "<div>\n",
       "<style scoped>\n",
       "    .dataframe tbody tr th:only-of-type {\n",
       "        vertical-align: middle;\n",
       "    }\n",
       "\n",
       "    .dataframe tbody tr th {\n",
       "        vertical-align: top;\n",
       "    }\n",
       "\n",
       "    .dataframe thead th {\n",
       "        text-align: right;\n",
       "    }\n",
       "</style>\n",
       "<table border=\"1\" class=\"dataframe\">\n",
       "  <thead>\n",
       "    <tr style=\"text-align: right;\">\n",
       "      <th></th>\n",
       "      <th>dv</th>\n",
       "      <th>r2</th>\n",
       "    </tr>\n",
       "  </thead>\n",
       "  <tbody>\n",
       "    <tr>\n",
       "      <th>0</th>\n",
       "      <td>r_service</td>\n",
       "      <td>0.663090</td>\n",
       "    </tr>\n",
       "    <tr>\n",
       "      <th>1</th>\n",
       "      <td>r_rooms</td>\n",
       "      <td>0.561414</td>\n",
       "    </tr>\n",
       "    <tr>\n",
       "      <th>2</th>\n",
       "      <td>r_value</td>\n",
       "      <td>0.711192</td>\n",
       "    </tr>\n",
       "    <tr>\n",
       "      <th>3</th>\n",
       "      <td>r_location</td>\n",
       "      <td>0.353242</td>\n",
       "    </tr>\n",
       "  </tbody>\n",
       "</table>\n",
       "</div>"
      ],
      "text/plain": [
       "           dv        r2\n",
       "0   r_service  0.663090\n",
       "1     r_rooms  0.561414\n",
       "2     r_value  0.711192\n",
       "3  r_location  0.353242"
      ]
     },
     "execution_count": 19,
     "metadata": {},
     "output_type": "execute_result"
    }
   ],
   "source": [
    "r2train = np.array([r2(data.loc[data.train ==1,c],data.loc[data.train==1,c+'_pred']) for c in DVs])\n",
    "r2train = pd.DataFrame(list(zip(DVs, r2train)), columns = ['dv','r2'])\n",
    "print('Training R2')\n",
    "r2train # note that location often does not require text to justify"
   ]
  },
  {
   "cell_type": "code",
   "execution_count": 20,
   "metadata": {},
   "outputs": [
    {
     "name": "stdout",
     "output_type": "stream",
     "text": [
      "Validation Sample R2\n"
     ]
    },
    {
     "data": {
      "text/html": [
       "<div>\n",
       "<style scoped>\n",
       "    .dataframe tbody tr th:only-of-type {\n",
       "        vertical-align: middle;\n",
       "    }\n",
       "\n",
       "    .dataframe tbody tr th {\n",
       "        vertical-align: top;\n",
       "    }\n",
       "\n",
       "    .dataframe thead th {\n",
       "        text-align: right;\n",
       "    }\n",
       "</style>\n",
       "<table border=\"1\" class=\"dataframe\">\n",
       "  <thead>\n",
       "    <tr style=\"text-align: right;\">\n",
       "      <th></th>\n",
       "      <th>dv</th>\n",
       "      <th>r2</th>\n",
       "    </tr>\n",
       "  </thead>\n",
       "  <tbody>\n",
       "    <tr>\n",
       "      <th>0</th>\n",
       "      <td>r_service</td>\n",
       "      <td>0.457163</td>\n",
       "    </tr>\n",
       "    <tr>\n",
       "      <th>1</th>\n",
       "      <td>r_rooms</td>\n",
       "      <td>0.398978</td>\n",
       "    </tr>\n",
       "    <tr>\n",
       "      <th>2</th>\n",
       "      <td>r_value</td>\n",
       "      <td>0.376747</td>\n",
       "    </tr>\n",
       "    <tr>\n",
       "      <th>3</th>\n",
       "      <td>r_location</td>\n",
       "      <td>0.184345</td>\n",
       "    </tr>\n",
       "  </tbody>\n",
       "</table>\n",
       "</div>"
      ],
      "text/plain": [
       "           dv        r2\n",
       "0   r_service  0.457163\n",
       "1     r_rooms  0.398978\n",
       "2     r_value  0.376747\n",
       "3  r_location  0.184345"
      ]
     },
     "execution_count": 20,
     "metadata": {},
     "output_type": "execute_result"
    }
   ],
   "source": [
    "r2test = np.array([r2(data.loc[data.train ==-1,c],data.loc[data.train==-1,c+'_pred']) for c in DVs])\n",
    "r2test = pd.DataFrame(list(zip(DVs, r2test)), columns = ['dv','r2'])\n",
    "print('Validation Sample R2')\n",
    "r2test"
   ]
  },
  {
   "cell_type": "code",
   "execution_count": 21,
   "metadata": {},
   "outputs": [
    {
     "name": "stdout",
     "output_type": "stream",
     "text": [
      "Out of Sample R2\n"
     ]
    },
    {
     "data": {
      "text/html": [
       "<div>\n",
       "<style scoped>\n",
       "    .dataframe tbody tr th:only-of-type {\n",
       "        vertical-align: middle;\n",
       "    }\n",
       "\n",
       "    .dataframe tbody tr th {\n",
       "        vertical-align: top;\n",
       "    }\n",
       "\n",
       "    .dataframe thead th {\n",
       "        text-align: right;\n",
       "    }\n",
       "</style>\n",
       "<table border=\"1\" class=\"dataframe\">\n",
       "  <thead>\n",
       "    <tr style=\"text-align: right;\">\n",
       "      <th></th>\n",
       "      <th>dv</th>\n",
       "      <th>r2</th>\n",
       "    </tr>\n",
       "  </thead>\n",
       "  <tbody>\n",
       "    <tr>\n",
       "      <th>0</th>\n",
       "      <td>r_service</td>\n",
       "      <td>0.438944</td>\n",
       "    </tr>\n",
       "    <tr>\n",
       "      <th>1</th>\n",
       "      <td>r_rooms</td>\n",
       "      <td>0.413197</td>\n",
       "    </tr>\n",
       "    <tr>\n",
       "      <th>2</th>\n",
       "      <td>r_value</td>\n",
       "      <td>0.360916</td>\n",
       "    </tr>\n",
       "    <tr>\n",
       "      <th>3</th>\n",
       "      <td>r_location</td>\n",
       "      <td>0.207725</td>\n",
       "    </tr>\n",
       "  </tbody>\n",
       "</table>\n",
       "</div>"
      ],
      "text/plain": [
       "           dv        r2\n",
       "0   r_service  0.438944\n",
       "1     r_rooms  0.413197\n",
       "2     r_value  0.360916\n",
       "3  r_location  0.207725"
      ]
     },
     "execution_count": 21,
     "metadata": {},
     "output_type": "execute_result"
    }
   ],
   "source": [
    "r2test = np.array([r2(data.loc[data.train ==0,c],data.loc[data.train==0,c+'_pred']) for c in DVs])\n",
    "r2test = pd.DataFrame(list(zip(DVs, r2test)), columns = ['dv','r2'])\n",
    "print('Out of Sample R2')\n",
    "r2test"
   ]
  },
  {
   "cell_type": "markdown",
   "metadata": {},
   "source": [
    "## Training / Validation / Testing Predicted vs. Actual Ratings"
   ]
  },
  {
   "cell_type": "code",
   "execution_count": 198,
   "metadata": {},
   "outputs": [
    {
     "data": {
      "image/png": "[encoded data removed]",
      "text/plain": [
       "<Figure size 864x432 with 1 Axes>"
      ]
     },
     "metadata": {},
     "output_type": "display_data"
    },
    {
     "data": {
      "image/png": "[encoded data removed]",
      "text/plain": [
       "<Figure size 864x432 with 1 Axes>"
      ]
     },
     "metadata": {},
     "output_type": "display_data"
    },
    {
     "data": {
      "image/png": "[encoded data removed]",
      "text/plain": [
       "<Figure size 864x432 with 1 Axes>"
      ]
     },
     "metadata": {},
     "output_type": "display_data"
    }
   ],
   "source": [
    "training = ['validation', 'testing','training']\n",
    "for i in range(3):\n",
    "    fig,ax = plt.subplots(1, figsize=(12,6))\n",
    "    T = i-1\n",
    "    temp = data[data.train==T].groupby('r_service')['r_service_pred'].mean()\n",
    "    ax.bar(temp.index.values, temp, alpha = .1, color = 'gray')\n",
    "    ax.scatter(data.loc[data.train==T, 'r_service']+np.random.normal(0,.03, size = sum(data.train==T)),\n",
    "                data.loc[data.train==T, 'r_service_pred'], alpha = .1, s=1,zorder = 1)\n",
    "    ax.set_title('Predicted vs. Actual Service ({} set), jitter added'.format(training[i]))\n",
    "    ax.set_xlabel('Actual Service Quality')\n",
    "    ax.set_ylabel('Predicted Service Quality')\n",
    "\n"
   ]
  },
  {
   "cell_type": "markdown",
   "metadata": {},
   "source": [
    "## Examine a specific example"
   ]
  },
  {
   "cell_type": "code",
   "execution_count": 25,
   "metadata": {},
   "outputs": [
    {
     "data": {
      "text/plain": [
       "'This needs major refurbishing, carpets, curtains, updated bathrooms decor. Security locks broken on outside security doors. Employees are very curious and helpful'"
      ]
     },
     "execution_count": 25,
     "metadata": {},
     "output_type": "execute_result"
    }
   ],
   "source": [
    "# pick a review\n",
    "r = data[(data.processed_review_filter.apply(lambda x: 'curious helpful' in x))].iloc[0]\n",
    "txt = r.review_text # example\n",
    "txt"
   ]
  },
  {
   "cell_type": "code",
   "execution_count": 26,
   "metadata": {},
   "outputs": [
    {
     "data": {
      "text/plain": [
       "r_service               4\n",
       "r_rooms                 1\n",
       "r_service_pred    3.98052\n",
       "r_rooms_pred      2.42019\n",
       "Name: 419, dtype: object"
      ]
     },
     "execution_count": 26,
     "metadata": {},
     "output_type": "execute_result"
    }
   ],
   "source": [
    "# service and rooms ratings for this review\n",
    "r[DVs[:2]+[d+'_pred' for d in DVs[:2]]]"
   ]
  },
  {
   "cell_type": "markdown",
   "metadata": {},
   "source": [
    "### Examine marginal effect on service and room rating for each word in review"
   ]
  },
  {
   "cell_type": "markdown",
   "metadata": {},
   "source": [
    "#### Load Trained Models for Service & Room Quality"
   ]
  },
  {
   "cell_type": "code",
   "execution_count": 28,
   "metadata": {},
   "outputs": [],
   "source": [
    "# Initialize Model\n",
    "model_service = bilstm_attention_model(MAX_FEATURES+1,\n",
    "                                       MAX_LEN,\n",
    "                                       EMBED_SIZE,\n",
    "                                       RNN_CELL_SIZE, \n",
    "                                       ATTEN_SIZE,\n",
    "                                       DENSE_SIZE, \n",
    "                                       DROPOUT=DROPOUT)\n",
    "model_rooms = bilstm_attention_model(MAX_FEATURES+1,\n",
    "                                       MAX_LEN,\n",
    "                                       EMBED_SIZE,\n",
    "                                       RNN_CELL_SIZE, \n",
    "                                       ATTEN_SIZE,\n",
    "                                       DENSE_SIZE, \n",
    "                                       DROPOUT=DROPOUT)\n",
    "# Load weights\n",
    "model_service.load_weights('./models/bilstm_attention_r_service.h5')\n",
    "model_rooms.load_weights('./models/bilstm_attention_r_rooms.h5')\n",
    "\n"
   ]
  },
  {
   "cell_type": "code",
   "execution_count": 29,
   "metadata": {},
   "outputs": [],
   "source": [
    "def get_mfx(txt, tokenizer, model, MAX_LEN=300):\n",
    "    \"\"\"\n",
    "    Obtain marginal effect on prediction using\n",
    "    leave one out method\n",
    "    \"\"\"\n",
    "    list_token = tokenizer.texts_to_sequences([txt])\n",
    "    # 0 Pad the tokenized data\n",
    "    X_example = pad_sequences(list_token, maxlen=MAX_LEN)\n",
    "    rating0 = model(X_example).numpy()[0][0]\n",
    "    mfx = list()\n",
    "    for i,w in enumerate(txt.split()):\n",
    "        list_token = tokenizer.texts_to_sequences([' '.join([w for j,w in enumerate(txt.split()) if j != i])])\n",
    "        X_example = pad_sequences(list_token, maxlen=MAX_LEN)\n",
    "        drating = rating0-model(X_example).numpy()[0][0]\n",
    "        mfx.append([w,drating])\n",
    "    return pd.DataFrame(mfx, columns = ['w','mfx'])"
   ]
  },
  {
   "cell_type": "markdown",
   "metadata": {},
   "source": [
    "#### MFX for Service Quality"
   ]
  },
  {
   "cell_type": "code",
   "execution_count": 30,
   "metadata": {
    "code_folding": []
   },
   "outputs": [],
   "source": [
    "# compute mfx for service\n",
    "mfx = get_mfx(r.processed_review_filter, tokenizer, model_service, MAX_LEN=300)\n",
    "mfx['abs_mfx'] = mfx.mfx.map(abs)\n",
    "mfx['abs_rank'] = mfx.abs_mfx.rank(ascending = False)"
   ]
  },
  {
   "cell_type": "code",
   "execution_count": 31,
   "metadata": {},
   "outputs": [
    {
     "data": {
      "text/plain": [
       "<matplotlib.lines.Line2D at 0x7f1e0426aca0>"
      ]
     },
     "execution_count": 31,
     "metadata": {},
     "output_type": "execute_result"
    },
    {
     "data": {
      "image/png": "[encoded data removed]",
      "text/plain": [
       "<Figure size 360x1440 with 1 Axes>"
      ]
     },
     "metadata": {
      "needs_background": "light"
     },
     "output_type": "display_data"
    }
   ],
   "source": [
    "# Plot marginal effects\n",
    "mfx[::-1].plot(y='mfx', x = 'w', kind = 'barh',legend = None, figsize = (5,20), title = 'Marginal Contribution to Service Rating')\n",
    "plt.axvline(x = 0, color = 'black', linewidth = 1)"
   ]
  },
  {
   "cell_type": "markdown",
   "metadata": {},
   "source": [
    "#### MFX for room quality"
   ]
  },
  {
   "cell_type": "code",
   "execution_count": 32,
   "metadata": {},
   "outputs": [],
   "source": [
    "mfx = get_mfx(r.processed_review_filter, tokenizer, model_rooms, MAX_LEN=300)\n",
    "mfx['abs_mfx'] = mfx.mfx.map(abs)\n",
    "mfx['abs_rank'] = mfx.abs_mfx.rank(ascending = False)"
   ]
  },
  {
   "cell_type": "code",
   "execution_count": 33,
   "metadata": {},
   "outputs": [
    {
     "data": {
      "text/plain": [
       "<matplotlib.lines.Line2D at 0x7f1e041eda60>"
      ]
     },
     "execution_count": 33,
     "metadata": {},
     "output_type": "execute_result"
    },
    {
     "data": {
      "image/png": "[encoded data removed]",
      "text/plain": [
       "<Figure size 360x1440 with 1 Axes>"
      ]
     },
     "metadata": {
      "needs_background": "light"
     },
     "output_type": "display_data"
    }
   ],
   "source": [
    "mfx[::-1].plot(y='mfx', x = 'w', kind = 'barh',legend = None, figsize = (5,20), title = 'Marginal Contribution to Room Rating')\n",
    "plt.axvline(x = 0, color = 'black', linewidth = 1)"
   ]
  },
  {
   "cell_type": "markdown",
   "metadata": {},
   "source": [
    "### What embeddings looks like"
   ]
  },
  {
   "cell_type": "code",
   "execution_count": 61,
   "metadata": {},
   "outputs": [],
   "source": [
    "# Get tokenized review\n",
    "txt = r.processed_review_filter\n",
    "list_token = tokenizer.texts_to_sequences([txt])\n",
    "X_example = pad_sequences(list_token, maxlen=MAX_LEN)\n",
    "\n",
    "# Construct model that outputs embedding layer\n",
    "model = Model(inputs=model_service.input,\n",
    "              outputs=[model_service.output, model_service.layers[1].output])\n",
    "\n",
    "# Get embeddings\n",
    "embed = model(X_example)[1].numpy()[:,-len(r.processed_review_filter.split()):,:]\n",
    "embed = pd.DataFrame(embed.reshape(embed.shape[1],-1))\n",
    "embed['w'] = r.processed_review_filter.split()\n",
    "embed = embed.set_index('w').reset_index()"
   ]
  },
  {
   "cell_type": "code",
   "execution_count": 62,
   "metadata": {},
   "outputs": [
    {
     "data": {
      "text/html": [
       "<div>\n",
       "<style scoped>\n",
       "    .dataframe tbody tr th:only-of-type {\n",
       "        vertical-align: middle;\n",
       "    }\n",
       "\n",
       "    .dataframe tbody tr th {\n",
       "        vertical-align: top;\n",
       "    }\n",
       "\n",
       "    .dataframe thead th {\n",
       "        text-align: right;\n",
       "    }\n",
       "</style>\n",
       "<table border=\"1\" class=\"dataframe\">\n",
       "  <thead>\n",
       "    <tr style=\"text-align: right;\">\n",
       "      <th></th>\n",
       "      <th>w</th>\n",
       "      <th>0</th>\n",
       "      <th>1</th>\n",
       "      <th>2</th>\n",
       "      <th>3</th>\n",
       "      <th>4</th>\n",
       "      <th>5</th>\n",
       "      <th>6</th>\n",
       "      <th>7</th>\n",
       "      <th>8</th>\n",
       "      <th>...</th>\n",
       "      <th>118</th>\n",
       "      <th>119</th>\n",
       "      <th>120</th>\n",
       "      <th>121</th>\n",
       "      <th>122</th>\n",
       "      <th>123</th>\n",
       "      <th>124</th>\n",
       "      <th>125</th>\n",
       "      <th>126</th>\n",
       "      <th>127</th>\n",
       "    </tr>\n",
       "  </thead>\n",
       "  <tbody>\n",
       "    <tr>\n",
       "      <th>0</th>\n",
       "      <td>major</td>\n",
       "      <td>0.121700</td>\n",
       "      <td>-0.062077</td>\n",
       "      <td>0.045197</td>\n",
       "      <td>-0.127046</td>\n",
       "      <td>-0.078390</td>\n",
       "      <td>-0.002982</td>\n",
       "      <td>0.012341</td>\n",
       "      <td>-0.111842</td>\n",
       "      <td>-0.036775</td>\n",
       "      <td>...</td>\n",
       "      <td>-0.131800</td>\n",
       "      <td>0.107913</td>\n",
       "      <td>-0.217144</td>\n",
       "      <td>0.007051</td>\n",
       "      <td>0.012413</td>\n",
       "      <td>0.088641</td>\n",
       "      <td>0.158553</td>\n",
       "      <td>0.147939</td>\n",
       "      <td>-0.010315</td>\n",
       "      <td>0.045202</td>\n",
       "    </tr>\n",
       "    <tr>\n",
       "      <th>1</th>\n",
       "      <td>carpet</td>\n",
       "      <td>0.052637</td>\n",
       "      <td>0.029995</td>\n",
       "      <td>0.191318</td>\n",
       "      <td>-0.185393</td>\n",
       "      <td>-0.043217</td>\n",
       "      <td>0.035343</td>\n",
       "      <td>-0.145594</td>\n",
       "      <td>-0.320910</td>\n",
       "      <td>-0.092885</td>\n",
       "      <td>...</td>\n",
       "      <td>0.135117</td>\n",
       "      <td>0.245938</td>\n",
       "      <td>-0.039873</td>\n",
       "      <td>0.000611</td>\n",
       "      <td>-0.307488</td>\n",
       "      <td>0.241807</td>\n",
       "      <td>0.014803</td>\n",
       "      <td>0.211613</td>\n",
       "      <td>-0.041659</td>\n",
       "      <td>-0.165926</td>\n",
       "    </tr>\n",
       "    <tr>\n",
       "      <th>2</th>\n",
       "      <td>curtain</td>\n",
       "      <td>0.059351</td>\n",
       "      <td>0.021717</td>\n",
       "      <td>0.116268</td>\n",
       "      <td>-0.179285</td>\n",
       "      <td>-0.027087</td>\n",
       "      <td>0.048986</td>\n",
       "      <td>-0.150802</td>\n",
       "      <td>-0.164689</td>\n",
       "      <td>-0.003367</td>\n",
       "      <td>...</td>\n",
       "      <td>0.105996</td>\n",
       "      <td>0.161523</td>\n",
       "      <td>0.002305</td>\n",
       "      <td>-0.033098</td>\n",
       "      <td>-0.113160</td>\n",
       "      <td>0.155048</td>\n",
       "      <td>0.057760</td>\n",
       "      <td>0.164381</td>\n",
       "      <td>-0.025459</td>\n",
       "      <td>-0.071614</td>\n",
       "    </tr>\n",
       "    <tr>\n",
       "      <th>3</th>\n",
       "      <td>update</td>\n",
       "      <td>-0.103813</td>\n",
       "      <td>0.087304</td>\n",
       "      <td>-0.086096</td>\n",
       "      <td>-0.044288</td>\n",
       "      <td>0.075234</td>\n",
       "      <td>-0.112833</td>\n",
       "      <td>0.135498</td>\n",
       "      <td>-0.086258</td>\n",
       "      <td>0.125281</td>\n",
       "      <td>...</td>\n",
       "      <td>0.038599</td>\n",
       "      <td>0.007657</td>\n",
       "      <td>-0.046859</td>\n",
       "      <td>-0.104195</td>\n",
       "      <td>-0.034900</td>\n",
       "      <td>0.028580</td>\n",
       "      <td>-0.017528</td>\n",
       "      <td>0.050374</td>\n",
       "      <td>0.103100</td>\n",
       "      <td>-0.128849</td>\n",
       "    </tr>\n",
       "    <tr>\n",
       "      <th>4</th>\n",
       "      <td>bathroom</td>\n",
       "      <td>-0.011100</td>\n",
       "      <td>0.042227</td>\n",
       "      <td>0.115306</td>\n",
       "      <td>-0.102539</td>\n",
       "      <td>-0.057279</td>\n",
       "      <td>0.039327</td>\n",
       "      <td>-0.050489</td>\n",
       "      <td>-0.211609</td>\n",
       "      <td>0.048161</td>\n",
       "      <td>...</td>\n",
       "      <td>-0.004651</td>\n",
       "      <td>0.087229</td>\n",
       "      <td>0.018237</td>\n",
       "      <td>-0.028006</td>\n",
       "      <td>-0.084829</td>\n",
       "      <td>0.216993</td>\n",
       "      <td>0.009109</td>\n",
       "      <td>0.184046</td>\n",
       "      <td>0.025810</td>\n",
       "      <td>-0.169565</td>\n",
       "    </tr>\n",
       "    <tr>\n",
       "      <th>5</th>\n",
       "      <td>decor</td>\n",
       "      <td>-0.041482</td>\n",
       "      <td>0.082597</td>\n",
       "      <td>-0.037205</td>\n",
       "      <td>-0.019164</td>\n",
       "      <td>0.065753</td>\n",
       "      <td>-0.148767</td>\n",
       "      <td>0.041178</td>\n",
       "      <td>-0.042369</td>\n",
       "      <td>0.101267</td>\n",
       "      <td>...</td>\n",
       "      <td>0.119920</td>\n",
       "      <td>0.005057</td>\n",
       "      <td>-0.194773</td>\n",
       "      <td>-0.132636</td>\n",
       "      <td>-0.348124</td>\n",
       "      <td>0.016869</td>\n",
       "      <td>-0.067387</td>\n",
       "      <td>-0.001039</td>\n",
       "      <td>0.095501</td>\n",
       "      <td>-0.279868</td>\n",
       "    </tr>\n",
       "    <tr>\n",
       "      <th>6</th>\n",
       "      <td>security</td>\n",
       "      <td>-0.008629</td>\n",
       "      <td>-0.012082</td>\n",
       "      <td>0.117913</td>\n",
       "      <td>-0.244913</td>\n",
       "      <td>-0.028279</td>\n",
       "      <td>-0.052993</td>\n",
       "      <td>-0.005878</td>\n",
       "      <td>-0.192209</td>\n",
       "      <td>0.021581</td>\n",
       "      <td>...</td>\n",
       "      <td>-0.023685</td>\n",
       "      <td>0.159617</td>\n",
       "      <td>-0.072821</td>\n",
       "      <td>0.031103</td>\n",
       "      <td>0.027320</td>\n",
       "      <td>0.131272</td>\n",
       "      <td>0.104288</td>\n",
       "      <td>0.192597</td>\n",
       "      <td>-0.021298</td>\n",
       "      <td>0.105249</td>\n",
       "    </tr>\n",
       "    <tr>\n",
       "      <th>7</th>\n",
       "      <td>lock</td>\n",
       "      <td>0.107147</td>\n",
       "      <td>-0.084534</td>\n",
       "      <td>0.238821</td>\n",
       "      <td>-0.055241</td>\n",
       "      <td>-0.118179</td>\n",
       "      <td>0.070763</td>\n",
       "      <td>-0.240997</td>\n",
       "      <td>-0.050783</td>\n",
       "      <td>-0.122041</td>\n",
       "      <td>...</td>\n",
       "      <td>0.049293</td>\n",
       "      <td>0.103980</td>\n",
       "      <td>0.096095</td>\n",
       "      <td>0.165973</td>\n",
       "      <td>0.108635</td>\n",
       "      <td>0.265578</td>\n",
       "      <td>0.095458</td>\n",
       "      <td>0.185528</td>\n",
       "      <td>-0.170984</td>\n",
       "      <td>0.034247</td>\n",
       "    </tr>\n",
       "    <tr>\n",
       "      <th>8</th>\n",
       "      <td>break</td>\n",
       "      <td>-0.007668</td>\n",
       "      <td>0.111762</td>\n",
       "      <td>0.060227</td>\n",
       "      <td>-0.160421</td>\n",
       "      <td>-0.046943</td>\n",
       "      <td>-0.020660</td>\n",
       "      <td>0.031961</td>\n",
       "      <td>-0.169355</td>\n",
       "      <td>0.046287</td>\n",
       "      <td>...</td>\n",
       "      <td>0.029458</td>\n",
       "      <td>0.105586</td>\n",
       "      <td>-0.225874</td>\n",
       "      <td>-0.103134</td>\n",
       "      <td>-0.335370</td>\n",
       "      <td>0.105430</td>\n",
       "      <td>-0.041206</td>\n",
       "      <td>0.125324</td>\n",
       "      <td>0.091891</td>\n",
       "      <td>-0.396307</td>\n",
       "    </tr>\n",
       "    <tr>\n",
       "      <th>9</th>\n",
       "      <td>outside</td>\n",
       "      <td>-0.084126</td>\n",
       "      <td>0.027154</td>\n",
       "      <td>0.076626</td>\n",
       "      <td>-0.118042</td>\n",
       "      <td>0.023749</td>\n",
       "      <td>-0.044832</td>\n",
       "      <td>0.007785</td>\n",
       "      <td>-0.162651</td>\n",
       "      <td>0.021843</td>\n",
       "      <td>...</td>\n",
       "      <td>0.076534</td>\n",
       "      <td>0.099326</td>\n",
       "      <td>-0.134501</td>\n",
       "      <td>-0.067474</td>\n",
       "      <td>-0.181201</td>\n",
       "      <td>0.048262</td>\n",
       "      <td>-0.008254</td>\n",
       "      <td>0.056970</td>\n",
       "      <td>0.124196</td>\n",
       "      <td>-0.319529</td>\n",
       "    </tr>\n",
       "    <tr>\n",
       "      <th>10</th>\n",
       "      <td>security</td>\n",
       "      <td>-0.008629</td>\n",
       "      <td>-0.012082</td>\n",
       "      <td>0.117913</td>\n",
       "      <td>-0.244913</td>\n",
       "      <td>-0.028279</td>\n",
       "      <td>-0.052993</td>\n",
       "      <td>-0.005878</td>\n",
       "      <td>-0.192209</td>\n",
       "      <td>0.021581</td>\n",
       "      <td>...</td>\n",
       "      <td>-0.023685</td>\n",
       "      <td>0.159617</td>\n",
       "      <td>-0.072821</td>\n",
       "      <td>0.031103</td>\n",
       "      <td>0.027320</td>\n",
       "      <td>0.131272</td>\n",
       "      <td>0.104288</td>\n",
       "      <td>0.192597</td>\n",
       "      <td>-0.021298</td>\n",
       "      <td>0.105249</td>\n",
       "    </tr>\n",
       "    <tr>\n",
       "      <th>11</th>\n",
       "      <td>door</td>\n",
       "      <td>-0.007901</td>\n",
       "      <td>0.049508</td>\n",
       "      <td>0.081031</td>\n",
       "      <td>-0.189497</td>\n",
       "      <td>-0.033040</td>\n",
       "      <td>-0.087023</td>\n",
       "      <td>-0.039177</td>\n",
       "      <td>-0.147464</td>\n",
       "      <td>-0.032917</td>\n",
       "      <td>...</td>\n",
       "      <td>0.010559</td>\n",
       "      <td>0.129338</td>\n",
       "      <td>-0.182936</td>\n",
       "      <td>0.002401</td>\n",
       "      <td>-0.071941</td>\n",
       "      <td>0.139884</td>\n",
       "      <td>0.051151</td>\n",
       "      <td>0.101241</td>\n",
       "      <td>0.009300</td>\n",
       "      <td>0.022255</td>\n",
       "    </tr>\n",
       "    <tr>\n",
       "      <th>12</th>\n",
       "      <td>employee</td>\n",
       "      <td>0.007391</td>\n",
       "      <td>0.005378</td>\n",
       "      <td>0.025037</td>\n",
       "      <td>-0.034276</td>\n",
       "      <td>-0.039141</td>\n",
       "      <td>0.040416</td>\n",
       "      <td>-0.055959</td>\n",
       "      <td>0.041880</td>\n",
       "      <td>-0.024661</td>\n",
       "      <td>...</td>\n",
       "      <td>-0.033935</td>\n",
       "      <td>-0.009832</td>\n",
       "      <td>-0.041006</td>\n",
       "      <td>0.050902</td>\n",
       "      <td>-0.118902</td>\n",
       "      <td>0.129654</td>\n",
       "      <td>0.033743</td>\n",
       "      <td>0.104334</td>\n",
       "      <td>0.023047</td>\n",
       "      <td>-0.049221</td>\n",
       "    </tr>\n",
       "    <tr>\n",
       "      <th>13</th>\n",
       "      <td>curious</td>\n",
       "      <td>0.035753</td>\n",
       "      <td>-0.015190</td>\n",
       "      <td>0.138231</td>\n",
       "      <td>-0.232719</td>\n",
       "      <td>-0.071692</td>\n",
       "      <td>0.085735</td>\n",
       "      <td>-0.111325</td>\n",
       "      <td>-0.162097</td>\n",
       "      <td>-0.054110</td>\n",
       "      <td>...</td>\n",
       "      <td>-0.047568</td>\n",
       "      <td>0.285912</td>\n",
       "      <td>-0.195550</td>\n",
       "      <td>0.057431</td>\n",
       "      <td>-0.229992</td>\n",
       "      <td>0.195284</td>\n",
       "      <td>0.005858</td>\n",
       "      <td>0.144605</td>\n",
       "      <td>0.020021</td>\n",
       "      <td>-0.141717</td>\n",
       "    </tr>\n",
       "    <tr>\n",
       "      <th>14</th>\n",
       "      <td>helpful</td>\n",
       "      <td>-0.159097</td>\n",
       "      <td>0.198408</td>\n",
       "      <td>-0.189005</td>\n",
       "      <td>0.223836</td>\n",
       "      <td>0.189785</td>\n",
       "      <td>-0.149053</td>\n",
       "      <td>0.137693</td>\n",
       "      <td>0.250891</td>\n",
       "      <td>0.162352</td>\n",
       "      <td>...</td>\n",
       "      <td>0.075722</td>\n",
       "      <td>-0.217505</td>\n",
       "      <td>0.128616</td>\n",
       "      <td>-0.152153</td>\n",
       "      <td>0.095829</td>\n",
       "      <td>-0.176517</td>\n",
       "      <td>-0.179221</td>\n",
       "      <td>-0.144717</td>\n",
       "      <td>0.219504</td>\n",
       "      <td>0.106051</td>\n",
       "    </tr>\n",
       "  </tbody>\n",
       "</table>\n",
       "<p>15 rows × 129 columns</p>\n",
       "</div>"
      ],
      "text/plain": [
       "           w         0         1         2         3         4         5  \\\n",
       "0      major  0.121700 -0.062077  0.045197 -0.127046 -0.078390 -0.002982   \n",
       "1     carpet  0.052637  0.029995  0.191318 -0.185393 -0.043217  0.035343   \n",
       "2    curtain  0.059351  0.021717  0.116268 -0.179285 -0.027087  0.048986   \n",
       "3     update -0.103813  0.087304 -0.086096 -0.044288  0.075234 -0.112833   \n",
       "4   bathroom -0.011100  0.042227  0.115306 -0.102539 -0.057279  0.039327   \n",
       "5      decor -0.041482  0.082597 -0.037205 -0.019164  0.065753 -0.148767   \n",
       "6   security -0.008629 -0.012082  0.117913 -0.244913 -0.028279 -0.052993   \n",
       "7       lock  0.107147 -0.084534  0.238821 -0.055241 -0.118179  0.070763   \n",
       "8      break -0.007668  0.111762  0.060227 -0.160421 -0.046943 -0.020660   \n",
       "9    outside -0.084126  0.027154  0.076626 -0.118042  0.023749 -0.044832   \n",
       "10  security -0.008629 -0.012082  0.117913 -0.244913 -0.028279 -0.052993   \n",
       "11      door -0.007901  0.049508  0.081031 -0.189497 -0.033040 -0.087023   \n",
       "12  employee  0.007391  0.005378  0.025037 -0.034276 -0.039141  0.040416   \n",
       "13   curious  0.035753 -0.015190  0.138231 -0.232719 -0.071692  0.085735   \n",
       "14   helpful -0.159097  0.198408 -0.189005  0.223836  0.189785 -0.149053   \n",
       "\n",
       "           6         7         8  ...       118       119       120       121  \\\n",
       "0   0.012341 -0.111842 -0.036775  ... -0.131800  0.107913 -0.217144  0.007051   \n",
       "1  -0.145594 -0.320910 -0.092885  ...  0.135117  0.245938 -0.039873  0.000611   \n",
       "2  -0.150802 -0.164689 -0.003367  ...  0.105996  0.161523  0.002305 -0.033098   \n",
       "3   0.135498 -0.086258  0.125281  ...  0.038599  0.007657 -0.046859 -0.104195   \n",
       "4  -0.050489 -0.211609  0.048161  ... -0.004651  0.087229  0.018237 -0.028006   \n",
       "5   0.041178 -0.042369  0.101267  ...  0.119920  0.005057 -0.194773 -0.132636   \n",
       "6  -0.005878 -0.192209  0.021581  ... -0.023685  0.159617 -0.072821  0.031103   \n",
       "7  -0.240997 -0.050783 -0.122041  ...  0.049293  0.103980  0.096095  0.165973   \n",
       "8   0.031961 -0.169355  0.046287  ...  0.029458  0.105586 -0.225874 -0.103134   \n",
       "9   0.007785 -0.162651  0.021843  ...  0.076534  0.099326 -0.134501 -0.067474   \n",
       "10 -0.005878 -0.192209  0.021581  ... -0.023685  0.159617 -0.072821  0.031103   \n",
       "11 -0.039177 -0.147464 -0.032917  ...  0.010559  0.129338 -0.182936  0.002401   \n",
       "12 -0.055959  0.041880 -0.024661  ... -0.033935 -0.009832 -0.041006  0.050902   \n",
       "13 -0.111325 -0.162097 -0.054110  ... -0.047568  0.285912 -0.195550  0.057431   \n",
       "14  0.137693  0.250891  0.162352  ...  0.075722 -0.217505  0.128616 -0.152153   \n",
       "\n",
       "         122       123       124       125       126       127  \n",
       "0   0.012413  0.088641  0.158553  0.147939 -0.010315  0.045202  \n",
       "1  -0.307488  0.241807  0.014803  0.211613 -0.041659 -0.165926  \n",
       "2  -0.113160  0.155048  0.057760  0.164381 -0.025459 -0.071614  \n",
       "3  -0.034900  0.028580 -0.017528  0.050374  0.103100 -0.128849  \n",
       "4  -0.084829  0.216993  0.009109  0.184046  0.025810 -0.169565  \n",
       "5  -0.348124  0.016869 -0.067387 -0.001039  0.095501 -0.279868  \n",
       "6   0.027320  0.131272  0.104288  0.192597 -0.021298  0.105249  \n",
       "7   0.108635  0.265578  0.095458  0.185528 -0.170984  0.034247  \n",
       "8  -0.335370  0.105430 -0.041206  0.125324  0.091891 -0.396307  \n",
       "9  -0.181201  0.048262 -0.008254  0.056970  0.124196 -0.319529  \n",
       "10  0.027320  0.131272  0.104288  0.192597 -0.021298  0.105249  \n",
       "11 -0.071941  0.139884  0.051151  0.101241  0.009300  0.022255  \n",
       "12 -0.118902  0.129654  0.033743  0.104334  0.023047 -0.049221  \n",
       "13 -0.229992  0.195284  0.005858  0.144605  0.020021 -0.141717  \n",
       "14  0.095829 -0.176517 -0.179221 -0.144717  0.219504  0.106051  \n",
       "\n",
       "[15 rows x 129 columns]"
      ]
     },
     "execution_count": 62,
     "metadata": {},
     "output_type": "execute_result"
    }
   ],
   "source": [
    "embed # this is what the embedded sentence looks like"
   ]
  },
  {
   "cell_type": "code",
   "execution_count": 63,
   "metadata": {},
   "outputs": [],
   "source": [
    "# use to compute similarity\n",
    "from sklearn.metrics.pairwise import cosine_similarity\n",
    "\n",
    "# retrieve index for each word\n",
    "wordindex = pd.DataFrame(tokenizer.word_index.items(), columns = ['w', 'id'])\n",
    "\n",
    "# Retrieve embedding weights from service model\n",
    "embedwts = pd.DataFrame(model_service.layers[1].get_weights()[0])\n",
    "embedwts['id'] = embedwts.index.values\n",
    "\n",
    "# merge word:index with index:embedding\n",
    "wordindex = wordindex.merge(embedwts, how = 'left', on = 'id')\n",
    "\n",
    "# Similarity matrix, remember this is similarity w.r.t. how similar\n",
    "# the words are in their ability to predict service quality\n",
    "simmatrix = pd.DataFrame(cosine_similarity(np.array(wordindex[list(range(EMBED_SIZE))])))\n",
    "simmatrix.index = wordindex.w\n",
    "simmatrix.columns = wordindex.w"
   ]
  },
  {
   "cell_type": "code",
   "execution_count": 94,
   "metadata": {},
   "outputs": [
    {
     "data": {
      "text/plain": [
       "w\n",
       "helpful                   1.000000\n",
       "first_class               0.980371\n",
       "gem                       0.974897\n",
       "would_highly_recommend    0.973971\n",
       "so_glad                   0.971284\n",
       "brand_new                 0.971242\n",
       "terrific                  0.971046\n",
       "pleased                   0.970573\n",
       "top_notch                 0.970308\n",
       "$_5                       0.970202\n",
       "Name: helpful, dtype: float32"
      ]
     },
     "execution_count": 94,
     "metadata": {},
     "output_type": "execute_result"
    }
   ],
   "source": [
    "# most \"similar\" to helpful\n",
    "simmatrix['helpful'].sort_values(ascending = False).head(10)"
   ]
  },
  {
   "cell_type": "code",
   "execution_count": 90,
   "metadata": {},
   "outputs": [
    {
     "data": {
      "text/plain": [
       "w\n",
       "rude                    1.000000\n",
       "no_apology              0.972069\n",
       "barbados                0.964406\n",
       "positive_side           0.962860\n",
       "horrible                0.961686\n",
       "ridiculous              0.961096\n",
       "unfriendly              0.960755\n",
       "cockroach               0.960725\n",
       "do_n't_work_properly    0.960416\n",
       "$_500                   0.960342\n",
       "Name: rude, dtype: float32"
      ]
     },
     "execution_count": 90,
     "metadata": {},
     "output_type": "execute_result"
    }
   ],
   "source": [
    "# most \"similar\" to rude\n",
    "simmatrix['rude'].sort_values(ascending = False).head(10)"
   ]
  },
  {
   "cell_type": "code",
   "execution_count": 95,
   "metadata": {},
   "outputs": [],
   "source": [
    "# let's do the same thing for rooms\n",
    "# retrieve index for each word\n",
    "wordindex = pd.DataFrame(tokenizer.word_index.items(), columns = ['w', 'id'])\n",
    "\n",
    "# Retrieve embedding weights from service model\n",
    "embedwts = pd.DataFrame(model_rooms.layers[1].get_weights()[0])\n",
    "embedwts['id'] = embedwts.index.values\n",
    "\n",
    "# merge word:index with index:embedding\n",
    "wordindex = wordindex.merge(embedwts, how = 'left', on = 'id')\n",
    "\n",
    "# Similarity matrix, remember this is similarity w.r.t. how similar\n",
    "# the words are in their ability to predict service quality\n",
    "simmatrix = pd.DataFrame(cosine_similarity(np.array(wordindex[list(range(EMBED_SIZE))])))\n",
    "simmatrix.index = wordindex.w\n",
    "simmatrix.columns = wordindex.w"
   ]
  },
  {
   "cell_type": "code",
   "execution_count": 96,
   "metadata": {},
   "outputs": [
    {
     "data": {
      "text/plain": [
       "w\n",
       "helpful      1.000000\n",
       "ready        0.769788\n",
       "overnight    0.763386\n",
       "leave        0.762546\n",
       "become       0.759001\n",
       "lunch        0.757220\n",
       "tip          0.748257\n",
       "beautiful    0.747683\n",
       "use          0.747384\n",
       "kid          0.747244\n",
       "Name: helpful, dtype: float32"
      ]
     },
     "execution_count": 96,
     "metadata": {},
     "output_type": "execute_result"
    }
   ],
   "source": [
    "# most \"similar\" to helpful\n",
    "simmatrix['helpful'].sort_values(ascending = False).head(10)"
   ]
  },
  {
   "cell_type": "code",
   "execution_count": 97,
   "metadata": {},
   "outputs": [
    {
     "data": {
      "text/plain": [
       "w\n",
       "rude           1.000000\n",
       "tired          0.975510\n",
       "basic          0.973249\n",
       "bad            0.969177\n",
       "need_update    0.968360\n",
       "date           0.967662\n",
       "old            0.966959\n",
       "shabby         0.966772\n",
       "run_down       0.966168\n",
       "noisy          0.963955\n",
       "Name: rude, dtype: float32"
      ]
     },
     "execution_count": 97,
     "metadata": {},
     "output_type": "execute_result"
    }
   ],
   "source": [
    "# most \"similar\" to rude\n",
    "simmatrix['rude'].sort_values(ascending = False).head(10)"
   ]
  },
  {
   "cell_type": "code",
   "execution_count": 102,
   "metadata": {},
   "outputs": [
    {
     "data": {
      "text/plain": [
       "w\n",
       "dirty            1.000000\n",
       "filthy           0.973816\n",
       "horrible         0.964898\n",
       "uncomfortable    0.961673\n",
       "joke             0.958883\n",
       "disgusting       0.958831\n",
       "outdated         0.957518\n",
       "paper_thin       0.957476\n",
       "smelly           0.957304\n",
       "outdate          0.955500\n",
       "Name: dirty, dtype: float32"
      ]
     },
     "execution_count": 102,
     "metadata": {},
     "output_type": "execute_result"
    }
   ],
   "source": [
    "# most \"similar\" to dirty\n",
    "simmatrix['dirty'].sort_values(ascending = False).head(10)"
   ]
  },
  {
   "cell_type": "code",
   "execution_count": 138,
   "metadata": {},
   "outputs": [
    {
     "data": {
      "text/plain": [
       "w\n",
       "need_update    1.000000\n",
       "shabby         0.974362\n",
       "bad            0.973833\n",
       "horrible       0.972764\n",
       "date           0.971829\n",
       "noisy          0.969698\n",
       "rude           0.968360\n",
       "plaster        0.968079\n",
       "go_downhill    0.968011\n",
       "smell_like     0.966225\n",
       "Name: need_update, dtype: float32"
      ]
     },
     "execution_count": 138,
     "metadata": {},
     "output_type": "execute_result"
    }
   ],
   "source": [
    "# most \"similar\" to ugly\n",
    "simmatrix['need_update'].sort_values(ascending = False).head(10)"
   ]
  },
  {
   "cell_type": "code",
   "execution_count": null,
   "metadata": {},
   "outputs": [],
   "source": []
  }
 ],
 "metadata": {
  "hide_input": false,
  "kernelspec": {
   "display_name": "Python 3",
   "language": "python",
   "name": "python3"
  },
  "language_info": {
   "codemirror_mode": {
    "name": "ipython",
    "version": 3
   },
   "file_extension": ".py",
   "mimetype": "text/x-python",
   "name": "python",
   "nbconvert_exporter": "python",
   "pygments_lexer": "ipython3",
   "version": "3.8.3"
  },
  "latex_envs": {
   "LaTeX_envs_menu_present": true,
   "autoclose": true,
   "autocomplete": false,
   "bibliofile": "biblio.bib",
   "cite_by": "apalike",
   "current_citInitial": 1,
   "eqLabelWithNumbers": true,
   "eqNumInitial": 1,
   "hotkeys": {
    "equation": "Ctrl-E",
    "itemize": "Ctrl-I"
   },
   "labels_anchors": false,
   "latex_user_defs": false,
   "report_style_numbering": false,
   "user_envs_cfg": false
  }
 },
 "nbformat": 4,
 "nbformat_minor": 4
}
